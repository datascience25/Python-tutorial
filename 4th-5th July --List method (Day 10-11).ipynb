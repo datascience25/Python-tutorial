{
 "cells": [
  {
   "cell_type": "code",
   "execution_count": 1,
   "id": "5a329025-a347-4b84-a253-c0dc79fb89da",
   "metadata": {},
   "outputs": [],
   "source": [
    "# List Method\n",
    "# 1. append() --- it is used to insert an element in the list at the end\n",
    "# syntax -- ls.append(element)"
   ]
  },
  {
   "cell_type": "code",
   "execution_count": 3,
   "id": "c0b2f3e6-5c08-4bd5-87cf-25cbff2b6d3a",
   "metadata": {},
   "outputs": [
    {
     "name": "stdout",
     "output_type": "stream",
     "text": [
      "[12, 23, 34, 45, 56, 67]\n",
      "[12, 23, 34, 45, 56, 67, 98]\n",
      "[12, 23, 34, 45, 56, 67, 98, ['hello', 'how', 'are', 'you?']]\n"
     ]
    }
   ],
   "source": [
    "ls=[12,23,34,45,56,67]\n",
    "print(ls)\n",
    "ls.append(98)\n",
    "print(ls)\n",
    "ls.append([\"hello\",\"how\",\"are\",\"you?\"])\n",
    "print(ls)"
   ]
  },
  {
   "cell_type": "code",
   "execution_count": 4,
   "id": "91a1704d-9c03-4f25-b197-10560eeb3296",
   "metadata": {},
   "outputs": [
    {
     "name": "stdin",
     "output_type": "stream",
     "text": [
      "enter the number 3\n",
      "enter the number 5\n",
      "enter the number 6\n",
      "enter the number 7\n",
      "enter the number 4\n",
      "enter the number 3\n",
      "enter the number 5\n",
      "enter the number 8\n",
      "enter the number 6\n",
      "enter the number 9\n"
     ]
    },
    {
     "name": "stdout",
     "output_type": "stream",
     "text": [
      "[3, 5, 6, 7, 4, 3, 5, 8, 6, 9]\n"
     ]
    }
   ],
   "source": [
    "# make the list of 10 integers of your choice\n",
    "ls=[]\n",
    "for i in range(10):\n",
    "    n=int(input(\"enter the number\"))\n",
    "    ls.append(n)\n",
    "print(ls)"
   ]
  },
  {
   "cell_type": "code",
   "execution_count": 6,
   "id": "8781e5b4-5725-4de8-bd79-3c0595786a87",
   "metadata": {},
   "outputs": [
    {
     "name": "stdin",
     "output_type": "stream",
     "text": [
      "enter the number 1\n"
     ]
    },
    {
     "name": "stdout",
     "output_type": "stream",
     "text": [
      "[1]\n"
     ]
    },
    {
     "name": "stdin",
     "output_type": "stream",
     "text": [
      "enter the number 34\n"
     ]
    },
    {
     "name": "stdout",
     "output_type": "stream",
     "text": [
      "[1, 34]\n"
     ]
    },
    {
     "name": "stdin",
     "output_type": "stream",
     "text": [
      "enter the number 56\n"
     ]
    },
    {
     "name": "stdout",
     "output_type": "stream",
     "text": [
      "[1, 34, 56]\n"
     ]
    },
    {
     "name": "stdin",
     "output_type": "stream",
     "text": [
      "enter the number 67\n"
     ]
    },
    {
     "name": "stdout",
     "output_type": "stream",
     "text": [
      "[1, 34, 56, 67]\n"
     ]
    },
    {
     "name": "stdin",
     "output_type": "stream",
     "text": [
      "enter the number 54\n"
     ]
    },
    {
     "name": "stdout",
     "output_type": "stream",
     "text": [
      "[1, 34, 56, 67, 54]\n"
     ]
    },
    {
     "name": "stdin",
     "output_type": "stream",
     "text": [
      "enter the number 67\n"
     ]
    },
    {
     "name": "stdout",
     "output_type": "stream",
     "text": [
      "[1, 34, 56, 67, 54, 67]\n"
     ]
    },
    {
     "name": "stdin",
     "output_type": "stream",
     "text": [
      "enter the number 78\n"
     ]
    },
    {
     "name": "stdout",
     "output_type": "stream",
     "text": [
      "[1, 34, 56, 67, 54, 67, 78]\n"
     ]
    },
    {
     "name": "stdin",
     "output_type": "stream",
     "text": [
      "enter the number 87\n"
     ]
    },
    {
     "name": "stdout",
     "output_type": "stream",
     "text": [
      "[1, 34, 56, 67, 54, 67, 78, 87]\n"
     ]
    },
    {
     "name": "stdin",
     "output_type": "stream",
     "text": [
      "enter the number 98\n"
     ]
    },
    {
     "name": "stdout",
     "output_type": "stream",
     "text": [
      "[1, 34, 56, 67, 54, 67, 78, 87, 98]\n"
     ]
    },
    {
     "name": "stdin",
     "output_type": "stream",
     "text": [
      "enter the number 65\n"
     ]
    },
    {
     "name": "stdout",
     "output_type": "stream",
     "text": [
      "[1, 34, 56, 67, 54, 67, 78, 87, 98, 65]\n"
     ]
    }
   ],
   "source": [
    "ls=[]\n",
    "for i in range(10):\n",
    "    n=int(input(\"enter the number\"))\n",
    "    ls.append(n)\n",
    "    print(ls)"
   ]
  },
  {
   "cell_type": "code",
   "execution_count": 7,
   "id": "2cc83794-f07d-475b-897a-475973b727d7",
   "metadata": {},
   "outputs": [
    {
     "name": "stdin",
     "output_type": "stream",
     "text": [
      "enter the number 12\n",
      "enter the number 23\n",
      "enter the number 34\n",
      "enter the number 45\n",
      "enter the number 56\n"
     ]
    },
    {
     "name": "stdout",
     "output_type": "stream",
     "text": [
      "[12, 23, 34, 45, 56]\n",
      "the sum of list is  170\n"
     ]
    }
   ],
   "source": [
    "# sum of the list of 5 integers of your choice\n",
    "ls=[]\n",
    "for i in range(5):\n",
    "    n=int(input(\"enter the number\"))\n",
    "    ls.append(n)\n",
    "print(ls)\n",
    "print(\"the sum of list is \",sum(ls))  # sum() -- add elements of the list"
   ]
  },
  {
   "cell_type": "code",
   "execution_count": 8,
   "id": "61cfe31c-8955-4054-9266-a85390937f57",
   "metadata": {},
   "outputs": [
    {
     "name": "stdin",
     "output_type": "stream",
     "text": [
      "enter the number 12\n",
      "enter the number 23\n",
      "enter the number 34\n",
      "enter the number 45\n",
      "enter the number 56\n"
     ]
    },
    {
     "name": "stdout",
     "output_type": "stream",
     "text": [
      "[12, 23, 34, 45, 56]\n",
      "the sum is  170\n"
     ]
    }
   ],
   "source": [
    "ls=[]\n",
    "for i in range(5):\n",
    "    n=int(input(\"enter the number\"))\n",
    "    ls.append(n)\n",
    "print(ls)\n",
    "s=0\n",
    "for i in ls:\n",
    "    s=s+i\n",
    "print(\"the sum is \",s)"
   ]
  },
  {
   "cell_type": "code",
   "execution_count": 9,
   "id": "d0644eae-810b-4096-86cd-3f603019b794",
   "metadata": {},
   "outputs": [
    {
     "name": "stdin",
     "output_type": "stream",
     "text": [
      "enter the number 2\n",
      "enter the number 3\n",
      "enter the number 4\n",
      "enter the number 5\n",
      "enter the number 6\n"
     ]
    },
    {
     "name": "stdout",
     "output_type": "stream",
     "text": [
      "[2, 3, 4, 5, 6]\n",
      "multiplication is  720\n"
     ]
    }
   ],
   "source": [
    "ls=[]\n",
    "for i in range(5):\n",
    "    n=int(input(\"enter the number\"))\n",
    "    ls.append(n)\n",
    "print(ls)\n",
    "f=1\n",
    "for i in ls:\n",
    "    f=f*i\n",
    "print(\"multiplication is \",f)"
   ]
  },
  {
   "cell_type": "code",
   "execution_count": 11,
   "id": "45967814-3001-491b-ae3d-f00dd7afe01f",
   "metadata": {},
   "outputs": [
    {
     "name": "stdout",
     "output_type": "stream",
     "text": [
      "original list [0, 1, 2, 3, 4, 5, 6, 7, 8, 9, 10, 11, 12, 13, 14, 15, 16, 17, 18, 19, 20, 21, 22, 23, 24, 25, 26, 27, 28, 29, 30, 31, 32, 33, 34, 35, 36, 37, 38, 39, 40, 41, 42, 43, 44, 45, 46, 47, 48, 49]\n",
      "\n",
      "even list is  [0, 2, 4, 6, 8, 10, 12, 14, 16, 18, 20, 22, 24, 26, 28, 30, 32, 34, 36, 38, 40, 42, 44, 46, 48]\n",
      "\n",
      "odd list is  [1, 3, 5, 7, 9, 11, 13, 15, 17, 19, 21, 23, 25, 27, 29, 31, 33, 35, 37, 39, 41, 43, 45, 47, 49]\n"
     ]
    }
   ],
   "source": [
    "# make the list of odd and even numbers seperately\n",
    "ls=[]\n",
    "ls_e=[]\n",
    "ls_o=[]\n",
    "for i in range(50):\n",
    "    ls.append(i)\n",
    "print(\"original list\",ls)\n",
    "for i in ls:\n",
    "    if i%2==0:\n",
    "        ls_e.append(i)\n",
    "    else:\n",
    "        ls_o.append(i)\n",
    "print()\n",
    "print(\"even list is \",ls_e)\n",
    "print()\n",
    "print(\"odd list is \",ls_o)"
   ]
  },
  {
   "cell_type": "code",
   "execution_count": 12,
   "id": "39e883cd-3f7f-417f-9e45-55c77c66b14d",
   "metadata": {},
   "outputs": [
    {
     "name": "stdin",
     "output_type": "stream",
     "text": [
      "enter the number 12\n",
      "enter the number 45\n",
      "enter the number 54\n",
      "enter the number 88\n",
      "enter the number 76\n"
     ]
    },
    {
     "name": "stdout",
     "output_type": "stream",
     "text": [
      "[12, 45, 54, 88, 76]\n",
      "Max element is  88\n",
      "Min element is  12\n"
     ]
    }
   ],
   "source": [
    "# find the maximum & minimum element in the list\n",
    "ls=[]\n",
    "for i in range(5):\n",
    "    n=int(input(\"enter the number\"))\n",
    "    ls.append(n)\n",
    "print(ls)\n",
    "print(\"Max element is \",max(ls))\n",
    "print(\"Min element is \",min(ls))"
   ]
  },
  {
   "cell_type": "code",
   "execution_count": 14,
   "id": "6762f010-aef4-47a6-9381-5e27b2e2a11a",
   "metadata": {},
   "outputs": [
    {
     "name": "stdin",
     "output_type": "stream",
     "text": [
      "enter the number 12\n",
      "enter the number 23\n",
      "enter the number 45\n",
      "enter the number 98\n",
      "enter the number 76\n"
     ]
    },
    {
     "name": "stdout",
     "output_type": "stream",
     "text": [
      "[12, 23, 45, 98, 76]\n",
      "maximum is  98\n"
     ]
    }
   ],
   "source": [
    "ls=[]\n",
    "for i in range(5):\n",
    "    n=int(input(\"enter the number\"))\n",
    "    ls.append(n)\n",
    "print(ls)\n",
    "large=ls[0]\n",
    "for i in ls:\n",
    "    if i>large:\n",
    "        large=i\n",
    "print(\"maximum is \",large)"
   ]
  },
  {
   "cell_type": "code",
   "execution_count": 17,
   "id": "fedf8cd7-15a3-465c-8a07-cbddaa8ebcfe",
   "metadata": {},
   "outputs": [
    {
     "name": "stdin",
     "output_type": "stream",
     "text": [
      "enter the number 23\n",
      "enter the number 45\n",
      "enter the number 11\n",
      "enter the number 56\n",
      "enter the number 67\n"
     ]
    },
    {
     "name": "stdout",
     "output_type": "stream",
     "text": [
      "[23, 45, 11, 56, 67]\n",
      "minimum is  11\n"
     ]
    }
   ],
   "source": [
    "ls=[]\n",
    "for i in range(5):\n",
    "    n=int(input(\"enter the number\"))\n",
    "    ls.append(n)\n",
    "print(ls)\n",
    "sm=ls[0]\n",
    "for i in ls:\n",
    "    if i<sm:\n",
    "        sm=i\n",
    "print(\"minimum is \",sm)"
   ]
  },
  {
   "cell_type": "code",
   "execution_count": 18,
   "id": "52f4c6ef-e6a1-4753-ba01-2ba17ea394a6",
   "metadata": {},
   "outputs": [],
   "source": [
    "# extend() --- it is used to insert more than one element in the list at the end \n",
    "# syntax --- ls.extend(iter)"
   ]
  },
  {
   "cell_type": "code",
   "execution_count": 19,
   "id": "673d4d05-d216-47ce-a4bd-817f5a0bfa2f",
   "metadata": {},
   "outputs": [
    {
     "name": "stdout",
     "output_type": "stream",
     "text": [
      "[12, 23, 34, 45, 56, 67]\n",
      "[12, 23, 34, 45, 56, 67, 98, 76, 75]\n"
     ]
    }
   ],
   "source": [
    "ls=[12,23,34,45,56,67]\n",
    "print(ls)\n",
    "ls.extend([98,76,75])\n",
    "print(ls)"
   ]
  },
  {
   "cell_type": "code",
   "execution_count": 20,
   "id": "3b53d08f-8529-4f82-b784-cfb15c1652d0",
   "metadata": {},
   "outputs": [
    {
     "name": "stdout",
     "output_type": "stream",
     "text": [
      "[1, 3, 5, 7, 9, 2, 4, 6, 8, 10]\n"
     ]
    }
   ],
   "source": [
    "# concatenate\n",
    "A=[1,3,5,7,9]\n",
    "B=[2,4,6,8,10]\n",
    "c=A+B\n",
    "print(c)"
   ]
  },
  {
   "cell_type": "code",
   "execution_count": 21,
   "id": "60cde8a5-831b-4fd5-afac-f1576769a8bc",
   "metadata": {},
   "outputs": [
    {
     "name": "stdout",
     "output_type": "stream",
     "text": [
      "[1, 3, 5, 7, 9, 2, 4, 6, 8, 10]\n"
     ]
    }
   ],
   "source": [
    "A=[1,3,5,7,9]\n",
    "B=[2,4,6,8,10]\n",
    "A.extend(B)\n",
    "print(A)"
   ]
  },
  {
   "cell_type": "code",
   "execution_count": 25,
   "id": "008e8b08-4281-43c8-9488-44ee43b2447f",
   "metadata": {},
   "outputs": [
    {
     "name": "stdout",
     "output_type": "stream",
     "text": [
      "[1, 3, 5, 7, 9, 2, 4, 6, 8, 10, 7, 9]\n"
     ]
    }
   ],
   "source": [
    "A=[1,3,5,7,9]\n",
    "B=[2,4,6,8,10]\n",
    "C=[7,9]\n",
    "A.extend([*B,*C])\n",
    "print(A)"
   ]
  },
  {
   "cell_type": "code",
   "execution_count": 1,
   "id": "2401e838-8b2e-4ad3-b1b9-78e09245cc89",
   "metadata": {},
   "outputs": [
    {
     "name": "stdout",
     "output_type": "stream",
     "text": [
      "[12, 23, 34, 45, 56, 67, 78]\n",
      "[12, 23, 34, 'Darina', 45, 56, 67, 78]\n"
     ]
    }
   ],
   "source": [
    "# 8th July \n",
    "# insert() --- it is used to insert one element at a time in the list but at desired index\n",
    "ls=[12,23,34,45,56,67,78]\n",
    "print(ls)\n",
    "ls.insert(3,\"Darina\")\n",
    "print(ls)"
   ]
  },
  {
   "cell_type": "code",
   "execution_count": 2,
   "id": "bb27deab-f95a-4ff4-ada3-d9a875e648fe",
   "metadata": {},
   "outputs": [
    {
     "name": "stdout",
     "output_type": "stream",
     "text": [
      "[12, 23, 34, 45, 56, 1, 2, 23, 34, 45]\n",
      "2\n"
     ]
    }
   ],
   "source": [
    "# count() --- it returns the frequency of the element in the list\n",
    "ls=[12,23,34,45,56,1,2,23,34,45]\n",
    "print(ls)\n",
    "x=ls.count(23)\n",
    "print(x)"
   ]
  },
  {
   "cell_type": "code",
   "execution_count": 3,
   "id": "66cd586b-3a70-4cac-80c8-8da0dd84e2c9",
   "metadata": {},
   "outputs": [
    {
     "name": "stdout",
     "output_type": "stream",
     "text": [
      "[12, 23, 34, 45, 56, 1, 2, 23, 34, 45]\n",
      "12 = 1\n",
      "23 = 2\n",
      "34 = 2\n",
      "45 = 2\n",
      "56 = 1\n",
      "1 = 1\n",
      "2 = 1\n",
      "23 = 2\n",
      "34 = 2\n",
      "45 = 2\n"
     ]
    }
   ],
   "source": [
    "ls=[12,23,34,45,56,1,2,23,34,45]\n",
    "print(ls)\n",
    "for i in ls:\n",
    "    x=ls.count(i)\n",
    "    print(i,\"=\",x)"
   ]
  },
  {
   "cell_type": "code",
   "execution_count": 4,
   "id": "09a36351-8c4b-4f0b-a9c8-f93b2240641d",
   "metadata": {},
   "outputs": [
    {
     "name": "stdout",
     "output_type": "stream",
     "text": [
      "original list [23, 34, 45, 56, 66, 78, 99, 23, 45, 67, 99]\n",
      "Unique list [23, 34, 45, 56, 66, 78, 99, 67]\n"
     ]
    }
   ],
   "source": [
    "new=[]\n",
    "ls=[23,34,45,56,66,78,99,23,45,67,99]\n",
    "for i in ls:\n",
    "    if i not in new:\n",
    "        new.append(i)\n",
    "print(\"original list\",ls)\n",
    "print(\"Unique list\",new)"
   ]
  },
  {
   "cell_type": "code",
   "execution_count": 5,
   "id": "041df1ff-d52c-4aa9-ab68-78fe5ce6fe32",
   "metadata": {},
   "outputs": [
    {
     "name": "stdout",
     "output_type": "stream",
     "text": [
      "[12, 34, 54, 56, 21, 45, 87, 45]\n",
      "[45, 87, 45, 21, 56, 54, 34, 12]\n"
     ]
    }
   ],
   "source": [
    "# reverse() --- it is used to print list in reverse order\n",
    "ls=[12,34,54,56,21,45,87,45]\n",
    "print(ls)\n",
    "ls.reverse()\n",
    "print(ls)"
   ]
  },
  {
   "cell_type": "code",
   "execution_count": 6,
   "id": "3e88cf55-61bb-461e-a1bc-374caf0bebb5",
   "metadata": {},
   "outputs": [],
   "source": [
    "# sort() --- it is used to arrange elements in ascending and descending order by default always ascending"
   ]
  },
  {
   "cell_type": "code",
   "execution_count": 7,
   "id": "cc4fa256-03e7-4c1c-9a91-32f5f1c2c5e3",
   "metadata": {},
   "outputs": [
    {
     "name": "stdout",
     "output_type": "stream",
     "text": [
      "[12, 23, 21, 3, 45, 43, 65, 56, 87, 45]\n",
      "[3, 12, 21, 23, 43, 45, 45, 56, 65, 87]\n",
      "[87, 65, 56, 45, 45, 43, 23, 21, 12, 3]\n"
     ]
    }
   ],
   "source": [
    "ls=[12,23,21,3,45,43,65,56,87,45]\n",
    "print(ls)\n",
    "ls.sort()\n",
    "print(ls)\n",
    "ls.sort(reverse=True)\n",
    "print(ls)"
   ]
  },
  {
   "cell_type": "code",
   "execution_count": 8,
   "id": "4591b23c-9bf1-42e7-9ba4-7ca150055fdd",
   "metadata": {},
   "outputs": [
    {
     "name": "stdout",
     "output_type": "stream",
     "text": [
      "[12, 23, 34, 45, 56, 67, 23]\n",
      "1\n"
     ]
    }
   ],
   "source": [
    "# index() --- it return the index of first occurrence of element\n",
    "ls=[12,23,34,45,56,67,23]\n",
    "print(ls)\n",
    "x=ls.index(23)\n",
    "print(x)"
   ]
  },
  {
   "cell_type": "code",
   "execution_count": 9,
   "id": "888e77ee-9c01-4d1d-94f7-9b89837ebb82",
   "metadata": {},
   "outputs": [],
   "source": [
    "# copy() --- if we copy a list into another by using \"=\" then if we change any element in the list then it will reflect in another one"
   ]
  },
  {
   "cell_type": "code",
   "execution_count": 10,
   "id": "e723bc25-cb47-4409-95e2-2e03e2fbd67a",
   "metadata": {},
   "outputs": [
    {
     "name": "stdout",
     "output_type": "stream",
     "text": [
      "[12, 23, 34, 45, 56, 67]\n",
      "[12, 23, 34, 45, 56, 67]\n",
      "[12, 23, 34, 'hello', 56, 67]\n",
      "[12, 23, 34, 'hello', 56, 67]\n"
     ]
    }
   ],
   "source": [
    "ls=[12,23,34,45,56,67]\n",
    "ls1=ls\n",
    "print(ls)\n",
    "print(ls1)\n",
    "ls1[3]=\"hello\"\n",
    "print(ls)\n",
    "print(ls1)"
   ]
  },
  {
   "cell_type": "code",
   "execution_count": 11,
   "id": "1ef2149c-3bad-44f8-b596-52cf8fef14a7",
   "metadata": {},
   "outputs": [
    {
     "name": "stdout",
     "output_type": "stream",
     "text": [
      "[12, 23, 34, 45, 56, 67]\n",
      "[12, 23, 34, 45, 56, 67]\n",
      "[12, 23, 34, 45, 56, 67]\n",
      "[12, 23, 34, 'hello', 56, 67]\n"
     ]
    }
   ],
   "source": [
    "# if we copy a list by using .copy() then change will not reflect in another one\n",
    "ls=[12,23,34,45,56,67]\n",
    "ls1=ls.copy()\n",
    "print(ls)\n",
    "print(ls1)\n",
    "ls1[3]=\"hello\"\n",
    "print(ls)\n",
    "print(ls1)"
   ]
  },
  {
   "cell_type": "code",
   "execution_count": 12,
   "id": "383e6b1b-7bf9-4a44-b0cd-fd1a7963fd67",
   "metadata": {},
   "outputs": [
    {
     "name": "stdout",
     "output_type": "stream",
     "text": [
      "[1, 2, 3, 4, 5, 6, 67]\n",
      "[]\n"
     ]
    }
   ],
   "source": [
    "# clear() --- it return empty list\n",
    "ls=[1,2,3,4,5,6,67]\n",
    "print(ls)\n",
    "ls.clear()\n",
    "print(ls)"
   ]
  },
  {
   "cell_type": "code",
   "execution_count": 13,
   "id": "956c2f0a-a0eb-4a72-868d-691a4494a81e",
   "metadata": {},
   "outputs": [
    {
     "name": "stdout",
     "output_type": "stream",
     "text": [
      "['Sumit']\n"
     ]
    }
   ],
   "source": [
    "# questions\n",
    "L=[\"Amit\",\"Sumit\",\"Naina\"]\n",
    "print(L[1:-1])"
   ]
  },
  {
   "cell_type": "code",
   "execution_count": 14,
   "id": "197cefe6-1b9e-4a41-9452-2563a7da0d2d",
   "metadata": {},
   "outputs": [
    {
     "name": "stdout",
     "output_type": "stream",
     "text": [
      "['Darina', 'Darina']\n"
     ]
    }
   ],
   "source": [
    "L=[\"Darina\"]\n",
    "print(L*2) # repeats two times"
   ]
  },
  {
   "cell_type": "code",
   "execution_count": 15,
   "id": "f4fb7d1e-33ad-46af-ac00-9d3e9720178f",
   "metadata": {},
   "outputs": [
    {
     "name": "stdout",
     "output_type": "stream",
     "text": [
      "['Amit', 'Sumit', 'Naina', 'Amit', 'Sumit', 'Naina']\n"
     ]
    }
   ],
   "source": [
    "L=[\"Amit\",\"Sumit\",\"Naina\"]\n",
    "print(L*2)"
   ]
  },
  {
   "cell_type": "code",
   "execution_count": 16,
   "id": "11fdc4fb-37f1-4145-b0f4-2f476f183566",
   "metadata": {},
   "outputs": [
    {
     "ename": "TypeError",
     "evalue": "unsupported operand type(s) for ** or pow(): 'list' and 'int'",
     "output_type": "error",
     "traceback": [
      "\u001b[1;31m---------------------------------------------------------------------------\u001b[0m",
      "\u001b[1;31mTypeError\u001b[0m                                 Traceback (most recent call last)",
      "Cell \u001b[1;32mIn[16], line 2\u001b[0m\n\u001b[0;32m      1\u001b[0m L\u001b[38;5;241m=\u001b[39m[\u001b[38;5;124m\"\u001b[39m\u001b[38;5;124mAmit\u001b[39m\u001b[38;5;124m\"\u001b[39m,\u001b[38;5;124m\"\u001b[39m\u001b[38;5;124mSumit\u001b[39m\u001b[38;5;124m\"\u001b[39m,\u001b[38;5;124m\"\u001b[39m\u001b[38;5;124mNaina\u001b[39m\u001b[38;5;124m\"\u001b[39m]\n\u001b[1;32m----> 2\u001b[0m \u001b[38;5;28mprint\u001b[39m(L\u001b[38;5;241m*\u001b[39m\u001b[38;5;241m*\u001b[39m\u001b[38;5;241m2\u001b[39m)\n",
      "\u001b[1;31mTypeError\u001b[0m: unsupported operand type(s) for ** or pow(): 'list' and 'int'"
     ]
    }
   ],
   "source": [
    "L=[\"Amit\",\"Sumit\",\"Naina\"]\n",
    "print(L**2) # error since power works for numbers "
   ]
  },
  {
   "cell_type": "code",
   "execution_count": 17,
   "id": "2b092891-1aae-450c-aee9-46a53e510c4b",
   "metadata": {},
   "outputs": [
    {
     "name": "stdout",
     "output_type": "stream",
     "text": [
      "[0.0, 0.5, 1.0, 1.5]\n"
     ]
    }
   ],
   "source": [
    "L=[0.5* x for x in range(4)]\n",
    "print(L)"
   ]
  },
  {
   "cell_type": "code",
   "execution_count": 19,
   "id": "03aab929-1ee3-489d-9b2f-99e6bd53b46e",
   "metadata": {},
   "outputs": [
    {
     "name": "stdout",
     "output_type": "stream",
     "text": [
      "['', 'a', 'aa', 'aaa']\n"
     ]
    }
   ],
   "source": [
    "L=['a'* x for x in range(4)]\n",
    "print(L)"
   ]
  },
  {
   "cell_type": "code",
   "execution_count": 20,
   "id": "45ed6234-752f-49f1-9ac9-244a7e91092b",
   "metadata": {},
   "outputs": [
    {
     "name": "stdout",
     "output_type": "stream",
     "text": [
      "[10, 6, 2]\n"
     ]
    }
   ],
   "source": [
    "L=[1* x for x in range(10,1,-4)]\n",
    "print(L)"
   ]
  },
  {
   "cell_type": "code",
   "execution_count": 21,
   "id": "843e0c1a-135c-4951-b700-35ae71c3fb54",
   "metadata": {},
   "outputs": [
    {
     "name": "stdout",
     "output_type": "stream",
     "text": [
      "['A', 2, 3, 4]\n",
      "['A', 2, 3, 4]\n"
     ]
    }
   ],
   "source": [
    "T=[1,2,3,4]\n",
    "T1=T\n",
    "T[0]=\"A\"\n",
    "print(T)\n",
    "print(T1)"
   ]
  }
 ],
 "metadata": {
  "kernelspec": {
   "display_name": "Python 3 (ipykernel)",
   "language": "python",
   "name": "python3"
  },
  "language_info": {
   "codemirror_mode": {
    "name": "ipython",
    "version": 3
   },
   "file_extension": ".py",
   "mimetype": "text/x-python",
   "name": "python",
   "nbconvert_exporter": "python",
   "pygments_lexer": "ipython3",
   "version": "3.11.7"
  }
 },
 "nbformat": 4,
 "nbformat_minor": 5
}
