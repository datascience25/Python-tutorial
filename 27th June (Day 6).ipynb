{
 "cells": [
  {
   "cell_type": "code",
   "execution_count": 1,
   "id": "7c3401a7-c384-4f0e-81b9-fff2945a0048",
   "metadata": {},
   "outputs": [],
   "source": [
    "# some while loop programs"
   ]
  },
  {
   "cell_type": "code",
   "execution_count": 2,
   "id": "dccf35a3-a17a-4330-a5f4-f41c60274cff",
   "metadata": {},
   "outputs": [
    {
     "name": "stdin",
     "output_type": "stream",
     "text": [
      "enter the number 73\n"
     ]
    },
    {
     "name": "stdout",
     "output_type": "stream",
     "text": [
      "the count of factors is 2\n",
      "prime number\n"
     ]
    }
   ],
   "source": [
    "# prime number\n",
    "i=1\n",
    "n=int(input('enter the number'))\n",
    "co=0\n",
    "while i<=n:\n",
    "    if n%i==0:\n",
    "        co=co+1\n",
    "    i=i+1\n",
    "print('the count of factors is',co)\n",
    "if co==2:\n",
    "    print('prime number')\n",
    "else:\n",
    "    print('not prime number')"
   ]
  },
  {
   "cell_type": "code",
   "execution_count": 3,
   "id": "c8e4c19d-2b41-4a20-b7b9-1a28dbb3103d",
   "metadata": {},
   "outputs": [
    {
     "name": "stdin",
     "output_type": "stream",
     "text": [
      "enter the number 6\n"
     ]
    },
    {
     "name": "stdout",
     "output_type": "stream",
     "text": [
      "factorial is 720\n"
     ]
    }
   ],
   "source": [
    "# factorial\n",
    "n=int(input('enter the number'))\n",
    "f=1\n",
    "while n>0:\n",
    "    f=f*n\n",
    "    n=n-1\n",
    "print('factorial is',f)\n",
    "# n=6\n",
    "# f=1*6=6\n",
    "# f=6*5=30\n",
    "# f=30*4=120 "
   ]
  },
  {
   "cell_type": "code",
   "execution_count": 4,
   "id": "5ff0f2a8-b163-4338-8aed-681658017135",
   "metadata": {},
   "outputs": [
    {
     "name": "stdout",
     "output_type": "stream",
     "text": [
      "720\n"
     ]
    }
   ],
   "source": [
    "import math\n",
    "print(math.factorial(6))"
   ]
  },
  {
   "cell_type": "code",
   "execution_count": 5,
   "id": "5eac43f8-c565-4de0-af72-675fbd4abce6",
   "metadata": {},
   "outputs": [
    {
     "name": "stdin",
     "output_type": "stream",
     "text": [
      "enter the number 6\n"
     ]
    },
    {
     "name": "stdout",
     "output_type": "stream",
     "text": [
      "the factorial is 720\n"
     ]
    }
   ],
   "source": [
    "i=1\n",
    "n=int(input('enter the number'))\n",
    "f=1\n",
    "while i<=n:\n",
    "    f=f*i\n",
    "    i=i+1\n",
    "print('the factorial is',f) # taken in ascending order (reverse order)"
   ]
  },
  {
   "cell_type": "code",
   "execution_count": 6,
   "id": "550944b9-bc20-4d33-855e-1649def93bf6",
   "metadata": {},
   "outputs": [
    {
     "name": "stdin",
     "output_type": "stream",
     "text": [
      "enter the number 8769\n"
     ]
    },
    {
     "name": "stdout",
     "output_type": "stream",
     "text": [
      "the sum of digits 30\n"
     ]
    }
   ],
   "source": [
    "# sum of digits of a number\n",
    "# 8769----8+7+6+9=30\n",
    "n=int(input('enter the number'))\n",
    "s=0\n",
    "while n>0:\n",
    "    rem=n%10\n",
    "    s=s+rem\n",
    "    n=n//10   # 123/10=12.3 , 123//10=12 (gives the int part only)\n",
    "print('the sum of digits',s)"
   ]
  },
  {
   "cell_type": "code",
   "execution_count": 7,
   "id": "d03b4bf1-fed2-4637-8ede-0ac11c0779c0",
   "metadata": {},
   "outputs": [
    {
     "name": "stdin",
     "output_type": "stream",
     "text": [
      "enter the number 8769\n"
     ]
    },
    {
     "name": "stdout",
     "output_type": "stream",
     "text": [
      "the reverse is 9678\n"
     ]
    }
   ],
   "source": [
    "# reverse of a number \n",
    "n=int(input('enter the number'))\n",
    "rev=0\n",
    "while n>0:\n",
    "    rem=n%10\n",
    "    rev=rev*10+rem\n",
    "    n=n//10\n",
    "print('the reverse is',rev)\n",
    "\n",
    "#n=76\n",
    "#rem=76%10=6\n",
    "#rev=0*10+6=6\n",
    "#76//10=7\n",
    "#rem=7%10=7\n",
    "#rev=6*10+7=67\n",
    "#7//10=0"
   ]
  },
  {
   "cell_type": "code",
   "execution_count": 8,
   "id": "386604e4-29ab-4cc0-925b-a67dd5be7780",
   "metadata": {},
   "outputs": [
    {
     "name": "stdout",
     "output_type": "stream",
     "text": [
      "9678\n"
     ]
    }
   ],
   "source": [
    "n=8769\n",
    "x=str(8769)\n",
    "print(x[::-1])"
   ]
  },
  {
   "cell_type": "code",
   "execution_count": 9,
   "id": "46c36aa9-0a1e-4cba-9e24-986e88b2386d",
   "metadata": {},
   "outputs": [
    {
     "name": "stdin",
     "output_type": "stream",
     "text": [
      "enter the number 14341\n"
     ]
    },
    {
     "name": "stdout",
     "output_type": "stream",
     "text": [
      "palindrome number\n"
     ]
    }
   ],
   "source": [
    "#palindrome number (eg- 121---121)\n",
    "n=int(input('enter the number'))\n",
    "rev=0\n",
    "n1=n\n",
    "while n>0:\n",
    "    rem=n%10\n",
    "    rev=rev*10+rem\n",
    "    n=n//10\n",
    "if rev==n1:\n",
    "    print('palindrome number')\n",
    "else:\n",
    "    print('not palindrome')"
   ]
  }
 ],
 "metadata": {
  "kernelspec": {
   "display_name": "Python 3 (ipykernel)",
   "language": "python",
   "name": "python3"
  },
  "language_info": {
   "codemirror_mode": {
    "name": "ipython",
    "version": 3
   },
   "file_extension": ".py",
   "mimetype": "text/x-python",
   "name": "python",
   "nbconvert_exporter": "python",
   "pygments_lexer": "ipython3",
   "version": "3.11.7"
  }
 },
 "nbformat": 4,
 "nbformat_minor": 5
}
