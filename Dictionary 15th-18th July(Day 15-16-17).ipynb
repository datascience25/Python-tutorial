{
 "cells": [
  {
   "cell_type": "markdown",
   "id": "15ba7c0f-07ab-4eac-9af3-a7d0aef049f7",
   "metadata": {},
   "source": [
    "Python - Dictionary\n",
    "---------------------\r",
    "The dictionary is an unordered collection that contains key:value pairs separated by commas inside curly brackets. Dictionaries are optimized to retrieve values when the key is known.\r",
    "\r",
    "The following declares a dictionary object."
   ]
  },
  {
   "cell_type": "code",
   "execution_count": 1,
   "id": "5d837bef-ddcb-404c-ba50-f9ca56820ce2",
   "metadata": {},
   "outputs": [
    {
     "name": "stdout",
     "output_type": "stream",
     "text": [
      "<class 'dict'>\n"
     ]
    }
   ],
   "source": [
    "capitals={'USA':'Washim=ngton D.C.', 'France':'Paris', 'India':'New Delhi'}\n",
    "print(type(capitals))"
   ]
  },
  {
   "cell_type": "code",
   "execution_count": 3,
   "id": "b7135668-841f-445a-91b8-29277f2710f2",
   "metadata": {},
   "outputs": [],
   "source": [
    "d={} # empty dictionary"
   ]
  },
  {
   "cell_type": "code",
   "execution_count": 4,
   "id": "5de8d335-f834-48ba-942e-7114694738ef",
   "metadata": {},
   "outputs": [],
   "source": [
    "numNames={1:'One',2:'Two',3:'Three'} # int key, string value"
   ]
  },
  {
   "cell_type": "code",
   "execution_count": 5,
   "id": "a1ecc953-8156-4a32-947b-d82523a3f826",
   "metadata": {},
   "outputs": [],
   "source": [
    "decNames= {1.5:'one nad half',2.5:'two and half',3.5:'three and half'} # float key, str value"
   ]
  },
  {
   "cell_type": "code",
   "execution_count": 6,
   "id": "dc7746e9-c8de-43f9-894a-6cedd2fd1b95",
   "metadata": {},
   "outputs": [],
   "source": [
    "items={('Parker','Reynolds','Camlin'):'pen',('LG','Whirpool','Samsung'):'refrigerator'} # tuple key, str value"
   ]
  },
  {
   "cell_type": "code",
   "execution_count": 7,
   "id": "3b663311-5c7b-4aa5-bf66-c8bb26882c9e",
   "metadata": {},
   "outputs": [],
   "source": [
    "romanNums={'I':1,'II':2,'III':3} # str key, int value"
   ]
  },
  {
   "cell_type": "code",
   "execution_count": 8,
   "id": "7ae2a245-c399-4345-8ca5-638f9031179c",
   "metadata": {},
   "outputs": [],
   "source": [
    "# The same key cannot appear more than once in a collection. If the key appears more than once, only the last will be retained. The value can be of any data type. One value can be assigned to more than one key."
   ]
  },
  {
   "cell_type": "code",
   "execution_count": 10,
   "id": "cf9f4beb-8323-4ed1-bd1b-7b2567bb8df1",
   "metadata": {},
   "outputs": [
    {
     "name": "stdout",
     "output_type": "stream",
     "text": [
      "{1: 'one', 2: 'two', 3: 'three'}\n"
     ]
    }
   ],
   "source": [
    "numNames={1:'One',2:'Two',3:'three',1:'one',2:'two'}\n",
    "print(numNames)"
   ]
  },
  {
   "cell_type": "code",
   "execution_count": 1,
   "id": "860f57fb-1a74-4afc-8f31-b82162183ac6",
   "metadata": {},
   "outputs": [],
   "source": [
    "# A dictionary can also be created using the dict() constructor\n",
    "# syntax---dict() "
   ]
  },
  {
   "cell_type": "code",
   "execution_count": 2,
   "id": "1275f992-9355-4e9e-9f0c-f88215504c93",
   "metadata": {},
   "outputs": [
    {
     "name": "stdout",
     "output_type": "stream",
     "text": [
      "{}\n"
     ]
    }
   ],
   "source": [
    "emptydict=dict()\n",
    "print(emptydict)"
   ]
  },
  {
   "cell_type": "code",
   "execution_count": 6,
   "id": "0ec6423c-1867-4b1b-9f4f-e1df7d3f2e59",
   "metadata": {},
   "outputs": [
    {
     "name": "stdout",
     "output_type": "stream",
     "text": [
      "{'I': 'one', 'II': 'two', 'III': 'three'}\n"
     ]
    }
   ],
   "source": [
    "numdict=dict(I=\"one\",II=\"two\",III=\"three\")\n",
    "print(numdict) # assignment operator method"
   ]
  },
  {
   "cell_type": "code",
   "execution_count": 5,
   "id": "bcf20fac-5b8b-4b7d-8a03-2b2a16a23da1",
   "metadata": {},
   "outputs": [
    {
     "name": "stdout",
     "output_type": "stream",
     "text": [
      "{'I': 'one', 'II': 'two', 'III': 'three'}\n"
     ]
    }
   ],
   "source": [
    "numdict=dict((('I','one'),('II','two'),('III','three')))\n",
    "print(numdict)   # tuple method"
   ]
  },
  {
   "cell_type": "markdown",
   "id": "b6d5745b-f3e2-418b-b9db-d299709a92ea",
   "metadata": {},
   "source": [
    "Access Dictionary\n",
    "-----------------------\n",
    "Dictionary is an unordered collection, so a value cannot be acccessed using index;\n",
    "instead, a key must be specified in the square brackets."
   ]
  },
  {
   "cell_type": "code",
   "execution_count": 7,
   "id": "cce899a5-0e68-4543-b3d6-f5ed04f0fd18",
   "metadata": {},
   "outputs": [
    {
     "name": "stdout",
     "output_type": "stream",
     "text": [
      "One Two Three\n"
     ]
    }
   ],
   "source": [
    "numNames={1:\"One\",2:\"Two\",3:\"Three\"}\n",
    "print(numNames[1],numNames[2],numNames[3])"
   ]
  },
  {
   "cell_type": "code",
   "execution_count": 8,
   "id": "e9f5c2df-e002-492e-ae67-53627b970ba2",
   "metadata": {},
   "outputs": [
    {
     "name": "stdout",
     "output_type": "stream",
     "text": [
      "Washim=ngton D.C. Paris\n"
     ]
    }
   ],
   "source": [
    "capitals={'USA':'Washim=ngton D.C.', 'France':'Paris', 'India':'New Delhi'}\n",
    "print(capitals[\"USA\"],capitals[\"France\"])"
   ]
  },
  {
   "cell_type": "code",
   "execution_count": 9,
   "id": "9c0acda2-a76c-44e5-b718-6d13b21ee1a1",
   "metadata": {},
   "outputs": [],
   "source": [
    "# following throws an KeyError\n",
    "#print(capitals[\"usa\"]) , print(capitals[\"Japan\"]) (since it is not available)"
   ]
  },
  {
   "cell_type": "code",
   "execution_count": 12,
   "id": "704a9778-b7b1-4173-ae37-40d78380dbcf",
   "metadata": {},
   "outputs": [
    {
     "name": "stdout",
     "output_type": "stream",
     "text": [
      "None 25\n",
      "None\n"
     ]
    }
   ],
   "source": [
    "# Another way ---- print(d1.get()) (these method returns none rather than error if not valid)\n",
    "d1={1:1,2:4,3:9,4:16,5:25}\n",
    "print(d1.get(6),d1.get(5))\n",
    "print(d1.get(7))"
   ]
  },
  {
   "cell_type": "code",
   "execution_count": 16,
   "id": "e8ab08ad-0b36-4828-99f2-aae63aa7b23c",
   "metadata": {},
   "outputs": [
    {
     "name": "stdout",
     "output_type": "stream",
     "text": [
      "{'a': 123, 'b': 345, 'c': 567, 'd': 789}\n",
      "a b c d \n",
      "123 345 567 789 \n",
      "('a', 123) ('b', 345) ('c', 567) ('d', 789) "
     ]
    }
   ],
   "source": [
    "# dictionary through for loop\n",
    "d1={'a':123,'b':345,'c':567,'d':789}\n",
    "print(d1)\n",
    "for i in d1: # by default always key\n",
    "    print(i,end=\" \")\n",
    "print()\n",
    "for i in d1.values(): # only values\n",
    "    print(i,end=\" \")\n",
    "print()\n",
    "for i,j in d1.items(): # key value pair\n",
    "    print((i,j),end=\" \")"
   ]
  },
  {
   "cell_type": "markdown",
   "id": "8cca2429-c2cd-451c-bd33-e83359efa0e4",
   "metadata": {},
   "source": [
    "Update Dictionary\n",
    "------------------\n",
    "As mentioned earlier, the key cannot appear more than once. Use the same key and assign\n",
    "a new value to it to update the dictionary object."
   ]
  },
  {
   "cell_type": "code",
   "execution_count": 17,
   "id": "2b68d9c6-dfe7-4bdb-a41a-1c125614f553",
   "metadata": {},
   "outputs": [
    {
     "name": "stdout",
     "output_type": "stream",
     "text": [
      "{'a': 123, 'b': 345, 'c': 'Daksh', 'd': 789}\n",
      "{'a': 123, 'b': 345, 'c': 'Daksh', 'd': 789, 'e': 'Aviral'}\n"
     ]
    }
   ],
   "source": [
    "# same key then update\n",
    "# different key then add\n",
    "d1={'a':123,'b':345,'c':567,'d':789}\n",
    "d1['c']=\"Daksh\"\n",
    "print(d1)\n",
    "d1['e']=\"Aviral\"\n",
    "print(d1)"
   ]
  },
  {
   "cell_type": "markdown",
   "id": "26560c60-ccdc-4ddf-bba6-90b7b9de2bd3",
   "metadata": {},
   "source": [
    "Deleting values from a Dictionary\n",
    "----------------------------------\n",
    "Use the del keyword, pop(), or popitem() methods to delete a pair from a dictionary or the dictionary object itself. To delete a pair, use its key as a parameter. To delete a dictionary object itself, use del dictionary name."
   ]
  },
  {
   "cell_type": "code",
   "execution_count": 18,
   "id": "0b904776-3322-4ddf-abba-db01b0625046",
   "metadata": {},
   "outputs": [
    {
     "name": "stdout",
     "output_type": "stream",
     "text": [
      "{'a': 123, 'c': 567, 'd': 789}\n"
     ]
    }
   ],
   "source": [
    "d1={'a':123,'b':345,'c':567,'d':789}\n",
    "del d1['b']\n",
    "print(d1)"
   ]
  },
  {
   "cell_type": "code",
   "execution_count": 20,
   "id": "6fdc3956-a194-4b5c-93f9-e8a19b1796dc",
   "metadata": {},
   "outputs": [
    {
     "name": "stdout",
     "output_type": "stream",
     "text": [
      "345\n",
      "{'a': 123, 'c': 567, 'd': 789}\n"
     ]
    }
   ],
   "source": [
    "d1={'a':123,'b':345,'c':567,'d':789}\n",
    "print(d1.pop('b'))\n",
    "print(d1)"
   ]
  },
  {
   "cell_type": "code",
   "execution_count": 21,
   "id": "2c22d19b-f65b-412f-a889-2342ebdce252",
   "metadata": {},
   "outputs": [
    {
     "name": "stdout",
     "output_type": "stream",
     "text": [
      "{'a': 123, 'b': 345, 'c': 567}\n",
      "{'a': 123, 'b': 345}\n"
     ]
    }
   ],
   "source": [
    "d1={'a':123,'b':345,'c':567,'d':789}\n",
    "d1.popitem()\n",
    "print(d1)\n",
    "d1.popitem()\n",
    "print(d1)"
   ]
  },
  {
   "cell_type": "code",
   "execution_count": 22,
   "id": "fcc65e41-09c0-4060-86d9-df5b43ea6407",
   "metadata": {},
   "outputs": [
    {
     "ename": "NameError",
     "evalue": "name 'd1' is not defined",
     "output_type": "error",
     "traceback": [
      "\u001b[1;31m---------------------------------------------------------------------------\u001b[0m",
      "\u001b[1;31mNameError\u001b[0m                                 Traceback (most recent call last)",
      "Cell \u001b[1;32mIn[22], line 3\u001b[0m\n\u001b[0;32m      1\u001b[0m d1\u001b[38;5;241m=\u001b[39m{\u001b[38;5;124m'\u001b[39m\u001b[38;5;124ma\u001b[39m\u001b[38;5;124m'\u001b[39m:\u001b[38;5;241m123\u001b[39m,\u001b[38;5;124m'\u001b[39m\u001b[38;5;124mb\u001b[39m\u001b[38;5;124m'\u001b[39m:\u001b[38;5;241m345\u001b[39m,\u001b[38;5;124m'\u001b[39m\u001b[38;5;124mc\u001b[39m\u001b[38;5;124m'\u001b[39m:\u001b[38;5;241m567\u001b[39m,\u001b[38;5;124m'\u001b[39m\u001b[38;5;124md\u001b[39m\u001b[38;5;124m'\u001b[39m:\u001b[38;5;241m789\u001b[39m}\n\u001b[0;32m      2\u001b[0m \u001b[38;5;28;01mdel\u001b[39;00m d1 \u001b[38;5;66;03m# delete complete dictionary\u001b[39;00m\n\u001b[1;32m----> 3\u001b[0m \u001b[38;5;28mprint\u001b[39m(d1)\n",
      "\u001b[1;31mNameError\u001b[0m: name 'd1' is not defined"
     ]
    }
   ],
   "source": [
    "d1={'a':123,'b':345,'c':567,'d':789}\n",
    "del d1 # delete complete dictionary\n",
    "print(d1) # error"
   ]
  },
  {
   "cell_type": "code",
   "execution_count": 23,
   "id": "ea5f6558-1869-41dc-9e27-28624480d256",
   "metadata": {},
   "outputs": [
    {
     "data": {
      "text/plain": [
       "{1: 'one',\n",
       " 2: 'two',\n",
       " 'A': {'Name': 'Asif', 'age': 20},\n",
       " 'B': ('bat', 'cat', 'hat')}"
      ]
     },
     "execution_count": 23,
     "metadata": {},
     "output_type": "execute_result"
    }
   ],
   "source": [
    "# nested dict\n",
    "mydict={1:'one',2:'two','A':{'Name':'Asif','age':20},'B':('bat','cat','hat')}\n",
    "mydict"
   ]
  },
  {
   "cell_type": "markdown",
   "id": "64df4916-16d8-4ed9-89df-33ffdeb210ed",
   "metadata": {},
   "source": [
    "Multi-Dimensional Dictionary\n",
    "-----------------------------"
   ]
  },
  {
   "cell_type": "code",
   "execution_count": 1,
   "id": "a00af972-94bc-4f9c-a56d-1719f2f9898e",
   "metadata": {},
   "outputs": [],
   "source": [
    "d1={'name':'Steve','age':25,'marks':60}\n",
    "d2={'name':'Anil','age':23,'marks':75}\n",
    "d3={'name':'Asha','age':20,'marks':70}"
   ]
  },
  {
   "cell_type": "code",
   "execution_count": 2,
   "id": "9f9d8952-634a-4f0a-ac9f-94fc847590dc",
   "metadata": {},
   "outputs": [
    {
     "name": "stdout",
     "output_type": "stream",
     "text": [
      "{1: {'name': 'Steve', 'age': 25, 'marks': 60}, 2: {'name': 'Anil', 'age': 23, 'marks': 75}, 3: {'name': 'Asha', 'age': 20, 'marks': 70}}\n"
     ]
    }
   ],
   "source": [
    "students={1:d1,2:d2,3:d3}\n",
    "print(students)"
   ]
  },
  {
   "cell_type": "code",
   "execution_count": 3,
   "id": "b672c1af-561e-48c2-93da-e2f64b6d823d",
   "metadata": {},
   "outputs": [
    {
     "name": "stdout",
     "output_type": "stream",
     "text": [
      "{'name': 'Steve', 'age': 25, 'marks': 60}\n",
      "{'name': 'Anil', 'age': 23, 'marks': 75}\n",
      "{'name': 'Asha', 'age': 20, 'marks': 70}\n"
     ]
    }
   ],
   "source": [
    "print(students[1])\n",
    "print(students[2])\n",
    "print(students[3])"
   ]
  },
  {
   "cell_type": "markdown",
   "id": "14fb9785-accd-4383-86c5-c414b80c1e69",
   "metadata": {},
   "source": [
    "Dictionary Method\n",
    "------------------"
   ]
  },
  {
   "cell_type": "code",
   "execution_count": 4,
   "id": "c089f06d-4d13-43ec-a105-9e544dc435a1",
   "metadata": {},
   "outputs": [],
   "source": [
    "# Dictionary clear() --- \n",
    "#syntax: dict.clear()"
   ]
  },
  {
   "cell_type": "code",
   "execution_count": 5,
   "id": "e9ef1c10-4e81-4732-ae1b-4de37d1abf9b",
   "metadata": {},
   "outputs": [
    {
     "name": "stdout",
     "output_type": "stream",
     "text": [
      "Dictionary: {'I': 1, 'II': 2, 'III': 3, 'IV': 4, 'V': 5}\n"
     ]
    }
   ],
   "source": [
    "romanNums={'I':1,'II':2,'III':3,'IV':4,'V':5}\n",
    "print(\"Dictionary:\",romanNums)"
   ]
  },
  {
   "cell_type": "code",
   "execution_count": 6,
   "id": "8d28d3cc-63a7-4076-9899-da13b40b65bf",
   "metadata": {},
   "outputs": [
    {
     "name": "stdout",
     "output_type": "stream",
     "text": [
      "Dictionary after calling clear() method: {}\n"
     ]
    }
   ],
   "source": [
    "romanNums.clear()\n",
    "print(\"Dictionary after calling clear() method:\",romanNums)"
   ]
  },
  {
   "cell_type": "code",
   "execution_count": 7,
   "id": "fec5b4d3-45c1-45e4-a492-e3e25a5af8dc",
   "metadata": {},
   "outputs": [],
   "source": [
    "# Dictionary copy() --- The dict.copy() method returns a shallow copy of the dictionary.\n",
    "\n",
    "#The dictionary can also be copied using the = operator, which points to the same object as the original. So if any change is made in the copied dictionary will also reflect in the original dictionary.\n",
    "# syntax: dict.copy()"
   ]
  },
  {
   "cell_type": "code",
   "execution_count": 8,
   "id": "61fc92df-bb41-491b-bf43-b33c318811bf",
   "metadata": {},
   "outputs": [
    {
     "name": "stdout",
     "output_type": "stream",
     "text": [
      "{'a': 123, 'b': 456, 'c': 678, 'd': 789}\n",
      "{'a': 123, 'b': 456, 'c': 678, 'd': 789}\n",
      "{}\n",
      "{}\n"
     ]
    }
   ],
   "source": [
    "d1={'a':123,'b':456,'c':678,'d':789}\n",
    "d2=d1\n",
    "print(d1)\n",
    "print(d2)\n",
    "d2.clear()\n",
    "print(d1)\n",
    "print(d2)"
   ]
  },
  {
   "cell_type": "code",
   "execution_count": 9,
   "id": "0528e877-b5f8-426e-927c-ce3f6ce3b179",
   "metadata": {},
   "outputs": [
    {
     "name": "stdout",
     "output_type": "stream",
     "text": [
      "{'a': 123, 'b': 456, 'c': 678, 'd': 789}\n",
      "{'a': 123, 'b': 456, 'c': 678, 'd': 789}\n",
      "{'a': 123, 'b': 456, 'c': 678, 'd': 789}\n",
      "{}\n"
     ]
    }
   ],
   "source": [
    "d1={'a':123,'b':456,'c':678,'d':789}\n",
    "d2=d1.copy()\n",
    "print(d1)\n",
    "print(d2)\n",
    "d2.clear()\n",
    "print(d1)\n",
    "print(d2)"
   ]
  },
  {
   "cell_type": "code",
   "execution_count": 10,
   "id": "bbb2b34e-1c3f-47c2-87f0-c86a516ae050",
   "metadata": {},
   "outputs": [],
   "source": [
    "# Dictionary fromkeys() --- it creates a new dictionary from the given iterable (string,list,set,tuple) as keys and with the specified value.\n",
    "# syntax: dict.fromkeys(sequence,value)"
   ]
  },
  {
   "cell_type": "code",
   "execution_count": 11,
   "id": "44e5f94d-2a4d-401e-90ea-729e0d8b6bfd",
   "metadata": {},
   "outputs": [
    {
     "name": "stdout",
     "output_type": "stream",
     "text": [
      "{'Mumbai': 'city', 'Chicago': 'city', 'New York': 'city', 'Bangalore': 'city'}\n"
     ]
    }
   ],
   "source": [
    "keys={'Mumbai','Bangalore','Chicago','New York'}\n",
    "value='city'\n",
    "dict=dict.fromkeys(keys,value)\n",
    "print(dict)"
   ]
  },
  {
   "cell_type": "code",
   "execution_count": 12,
   "id": "99ac0a30-457d-4de1-8ccd-929b1ce67aca",
   "metadata": {},
   "outputs": [
    {
     "name": "stdout",
     "output_type": "stream",
     "text": [
      "{'Mumbai': None, 'Chicago': None, 'New York': None, 'Bangalore': None}\n"
     ]
    }
   ],
   "source": [
    "keys={'Mumbai','Bangalore','Chicago','New York'}\n",
    "dict=dict.fromkeys(keys)\n",
    "print(dict)"
   ]
  },
  {
   "cell_type": "code",
   "execution_count": 13,
   "id": "b3a60656-3507-4f16-9aa4-1824d6a6f62a",
   "metadata": {},
   "outputs": [],
   "source": [
    "# Dictionary items()\n",
    "#The dict.items() returns a dictionary view object that provides a dynamic view of dictionary elements as a list of key-value pairs. This view object changes when the dictionary changes.\n",
    "\n",
    "# Syntax: dict.items()"
   ]
  },
  {
   "cell_type": "code",
   "execution_count": 14,
   "id": "d34cc6d9-1450-404a-adbf-5cb5566a7486",
   "metadata": {},
   "outputs": [
    {
     "name": "stdout",
     "output_type": "stream",
     "text": [
      "dict_items([('I', 1), ('II', 2), ('III', 3), ('IV', 4)])\n"
     ]
    }
   ],
   "source": [
    "romanNums={'I':1,'II':2,'III':3,'IV':4}\n",
    "dictview=romanNums.items()\n",
    "print(dictview)"
   ]
  },
  {
   "cell_type": "code",
   "execution_count": 15,
   "id": "4af26675-d6e0-4935-b4f8-b9ee66682224",
   "metadata": {},
   "outputs": [],
   "source": [
    "# Dictionary keys()\n",
    "# The dict.keys() method returns a dictionary view object that contains the list of keys of the dictionary."
   ]
  },
  {
   "cell_type": "code",
   "execution_count": 16,
   "id": "343f53c9-962c-4d90-9a88-51a8ecaa0f12",
   "metadata": {},
   "outputs": [
    {
     "name": "stdout",
     "output_type": "stream",
     "text": [
      "dict_keys(['I', 'II', 'III', 'IV', 'V'])\n"
     ]
    }
   ],
   "source": [
    "romanNums={'I':1,'II':2,'III':3,'IV':4,'V':5}\n",
    "keys=romanNums.keys()\n",
    "print(keys)"
   ]
  },
  {
   "cell_type": "code",
   "execution_count": 17,
   "id": "0ed40bee-f0ef-432f-a1bb-ce690dfe6980",
   "metadata": {},
   "outputs": [],
   "source": [
    "# Dictionary update() Method\n",
    "#The dict.update() method updates the dictionary with the key-value pairs from another dictionary or another iterable such as tuple having key-value pairs.\n",
    "\n",
    "#Syntax: dict.update(iterable)"
   ]
  },
  {
   "cell_type": "code",
   "execution_count": 18,
   "id": "1b72aa4b-5eb0-49a8-8d20-17026dae89e5",
   "metadata": {},
   "outputs": [
    {
     "name": "stdout",
     "output_type": "stream",
     "text": [
      "Dictionary: {'I': 1, 'III': 3, 'V': 5}\n",
      "Updated Dictionary:  {'I': 1, 'III': 3, 'V': 5, 'II': 2, 'IV': 4}\n"
     ]
    }
   ],
   "source": [
    "x={'I':1,'III':3,'V':5}\n",
    "print(\"Dictionary:\",x)\n",
    "y={'II':2,'IV':4}\n",
    "x.update(y)\n",
    "print(\"Updated Dictionary: \",x)"
   ]
  },
  {
   "cell_type": "code",
   "execution_count": 19,
   "id": "69340923-a8a7-4e8c-a18b-e2e6869a8e97",
   "metadata": {},
   "outputs": [],
   "source": [
    "# Dictionary values()\n",
    "# The dict.values() method returns the dictionary view object that provides a dynamic view of all the values in the dictionary. This view object changes when the dictionary changes.\n",
    "\n",
    "#Syntax: dict.values()"
   ]
  },
  {
   "cell_type": "code",
   "execution_count": 20,
   "id": "be278420-a484-4f3b-be6a-d7f965cf7491",
   "metadata": {},
   "outputs": [
    {
     "name": "stdout",
     "output_type": "stream",
     "text": [
      "dict_values([1, 2, 3, 4, 5])\n"
     ]
    }
   ],
   "source": [
    "romanNums={'I':1,'II':2,'III':3,'IV':4,'V':5}\n",
    "values=romanNums.values()\n",
    "print(values)"
   ]
  },
  {
   "cell_type": "code",
   "execution_count": 21,
   "id": "60fb825f-a5be-40b8-ba53-18cd8d08d7fe",
   "metadata": {},
   "outputs": [],
   "source": [
    "# examples"
   ]
  },
  {
   "cell_type": "code",
   "execution_count": 22,
   "id": "b76d3dbe-9263-4062-b49a-d159cb30dd15",
   "metadata": {},
   "outputs": [
    {
     "data": {
      "text/plain": [
       "{'c': None, 'd': None, 'a': None, 'b': None}"
      ]
     },
     "execution_count": 22,
     "metadata": {},
     "output_type": "execute_result"
    }
   ],
   "source": [
    "keys={'a','b','c','d'}\n",
    "mydict=dict.fromkeys(keys)\n",
    "mydict"
   ]
  },
  {
   "cell_type": "code",
   "execution_count": 23,
   "id": "e0b42c24-c6bf-43a1-a96d-ad22547d915d",
   "metadata": {},
   "outputs": [
    {
     "data": {
      "text/plain": [
       "{'c': 10, 'd': 10, 'a': 10, 'b': 10}"
      ]
     },
     "execution_count": 23,
     "metadata": {},
     "output_type": "execute_result"
    }
   ],
   "source": [
    "keys={'a','b','c','d'}\n",
    "value=10\n",
    "mydict1=dict.fromkeys(keys,value)\n",
    "mydict1"
   ]
  },
  {
   "cell_type": "code",
   "execution_count": 24,
   "id": "07ba6049-ae15-4af6-ac72-f5d91c94fce8",
   "metadata": {},
   "outputs": [
    {
     "data": {
      "text/plain": [
       "{'c': [10, 20, 30], 'd': [10, 20, 30], 'a': [10, 20, 30], 'b': [10, 20, 30]}"
      ]
     },
     "execution_count": 24,
     "metadata": {},
     "output_type": "execute_result"
    }
   ],
   "source": [
    "keys={'a','b','c','d'}\n",
    "value=[10,20,30]\n",
    "mydict2=dict.fromkeys(keys,value)\n",
    "mydict2"
   ]
  },
  {
   "cell_type": "code",
   "execution_count": 25,
   "id": "07c8d6f2-587d-4639-9dd0-7d880b0e4d1a",
   "metadata": {},
   "outputs": [
    {
     "data": {
      "text/plain": [
       "{'c': [10, 20, 30, 40],\n",
       " 'd': [10, 20, 30, 40],\n",
       " 'a': [10, 20, 30, 40],\n",
       " 'b': [10, 20, 30, 40]}"
      ]
     },
     "execution_count": 25,
     "metadata": {},
     "output_type": "execute_result"
    }
   ],
   "source": [
    "value.append(40)\n",
    "mydict2"
   ]
  }
 ],
 "metadata": {
  "kernelspec": {
   "display_name": "Python 3 (ipykernel)",
   "language": "python",
   "name": "python3"
  },
  "language_info": {
   "codemirror_mode": {
    "name": "ipython",
    "version": 3
   },
   "file_extension": ".py",
   "mimetype": "text/x-python",
   "name": "python",
   "nbconvert_exporter": "python",
   "pygments_lexer": "ipython3",
   "version": "3.11.7"
  }
 },
 "nbformat": 4,
 "nbformat_minor": 5
}
