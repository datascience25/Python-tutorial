{
 "cells": [
  {
   "cell_type": "markdown",
   "id": "f2e7aa10-7dcf-44e0-8087-1fc85cc4eac2",
   "metadata": {},
   "source": [
    "Lambda Function\n",
    "-----------------\n",
    "One liner function. It is an anonymous function. It can have any number of arguments but only one expression is evaluated and returned. We use lambda functions when we require a nameless function for a short period of time."
   ]
  },
  {
   "cell_type": "code",
   "execution_count": 1,
   "id": "5f4063a5-415a-4fbe-af0b-ae02bc5cea2c",
   "metadata": {},
   "outputs": [
    {
     "data": {
      "text/plain": [
       "1010"
      ]
     },
     "execution_count": 1,
     "metadata": {},
     "output_type": "execute_result"
    }
   ],
   "source": [
    "x=lambda a: a+10 # syntax : lambda var: expression(annonymous)\n",
    "x(1000)"
   ]
  },
  {
   "cell_type": "code",
   "execution_count": 2,
   "id": "6b9b505d-7ea8-4a54-9fc7-b2c590483841",
   "metadata": {},
   "outputs": [
    {
     "data": {
      "text/plain": [
       "60"
      ]
     },
     "execution_count": 2,
     "metadata": {},
     "output_type": "execute_result"
    }
   ],
   "source": [
    "z=lambda a,b,c: a+b+c\n",
    "z(10,20,30)"
   ]
  },
  {
   "cell_type": "code",
   "execution_count": 3,
   "id": "b50ff1e8-9fa3-4d02-a2ca-5aaba83789fa",
   "metadata": {},
   "outputs": [
    {
     "data": {
      "text/plain": [
       "12"
      ]
     },
     "execution_count": 3,
     "metadata": {},
     "output_type": "execute_result"
    }
   ],
   "source": [
    "a=lambda x:x+2\n",
    "a(10)"
   ]
  },
  {
   "cell_type": "code",
   "execution_count": 2,
   "id": "63294a6d-a5f6-4fd2-bccf-2bb7b6ff51bf",
   "metadata": {},
   "outputs": [
    {
     "data": {
      "text/plain": [
       "386953"
      ]
     },
     "execution_count": 2,
     "metadata": {},
     "output_type": "execute_result"
    }
   ],
   "source": [
    "ismail=lambda a,b,c: a+b*c # a+(b+c*d)+f/(a*b)\n",
    "ismail(7339,838,453)"
   ]
  },
  {
   "cell_type": "code",
   "execution_count": 3,
   "id": "3361241f-8d2d-458e-a03c-6aed5f14fbf0",
   "metadata": {},
   "outputs": [],
   "source": [
    "# if else condition with lambda\n",
    "a=lambda x: x*2 if x%2==0 else x # true if false"
   ]
  },
  {
   "cell_type": "code",
   "execution_count": 4,
   "id": "85292449-fe1e-45ed-8b65-d6dcc23f558f",
   "metadata": {},
   "outputs": [
    {
     "data": {
      "text/plain": [
       "64"
      ]
     },
     "execution_count": 4,
     "metadata": {},
     "output_type": "execute_result"
    }
   ],
   "source": [
    "a(32)"
   ]
  },
  {
   "cell_type": "code",
   "execution_count": 5,
   "id": "627e2b0c-1534-4d5d-a457-7245ca78aff7",
   "metadata": {},
   "outputs": [
    {
     "data": {
      "text/plain": [
       "23"
      ]
     },
     "execution_count": 5,
     "metadata": {},
     "output_type": "execute_result"
    }
   ],
   "source": [
    "a(23)"
   ]
  },
  {
   "cell_type": "markdown",
   "id": "d29ff6c9-83ed-41e1-9700-49e43f21c44f",
   "metadata": {},
   "source": [
    "MAP\n",
    "----\n",
    "It is applied when we need to change anything in the existing element.\n",
    "\n",
    "Syntax: map(fun,iter)\n",
    "\n",
    "fun: It is a function to which map passes each element of given iterable.\n",
    "\n",
    "iter: It is a iterable which is to be mapped."
   ]
  },
  {
   "cell_type": "code",
   "execution_count": 6,
   "id": "c3b41525-1f09-4387-9d4f-fd17e4a572e2",
   "metadata": {},
   "outputs": [],
   "source": [
    "number=[1,2,3,4]"
   ]
  },
  {
   "cell_type": "code",
   "execution_count": 7,
   "id": "a436ca4e-1a83-4bb0-8ad6-9b3ba2c5116b",
   "metadata": {},
   "outputs": [
    {
     "data": {
      "text/plain": [
       "[2, 4, 6, 8]"
      ]
     },
     "execution_count": 7,
     "metadata": {},
     "output_type": "execute_result"
    }
   ],
   "source": [
    "list(map(lambda x: x+x,number))"
   ]
  },
  {
   "cell_type": "code",
   "execution_count": 8,
   "id": "b2fb83fb-25bf-40f6-b424-21012367a949",
   "metadata": {},
   "outputs": [],
   "source": [
    "def add(n):\n",
    "    return(n*2)"
   ]
  },
  {
   "cell_type": "code",
   "execution_count": 9,
   "id": "3ccb9016-add8-40a6-b3f2-766a963e27de",
   "metadata": {},
   "outputs": [
    {
     "data": {
      "text/plain": [
       "[24, 46, 68, 112]"
      ]
     },
     "execution_count": 9,
     "metadata": {},
     "output_type": "execute_result"
    }
   ],
   "source": [
    "num=[12,23,34,56]\n",
    "list(map(add,num)) # list(map(lambda x: x*2,num ))"
   ]
  },
  {
   "cell_type": "code",
   "execution_count": 10,
   "id": "9556e67e-9182-4c85-98ae-1d8f84bf3b3a",
   "metadata": {},
   "outputs": [
    {
     "data": {
      "text/plain": [
       "[6, 10, 13]"
      ]
     },
     "execution_count": 10,
     "metadata": {},
     "output_type": "execute_result"
    }
   ],
   "source": [
    "num1=[1,2,3]\n",
    "num2=[4,5,6]\n",
    "num3=[1,3,4]\n",
    "result=map(lambda x,y,z: x+y+z,num1,num2,num3)\n",
    "list(result)"
   ]
  },
  {
   "cell_type": "code",
   "execution_count": 11,
   "id": "d7652af3-6de4-4748-909b-f1f5b285e912",
   "metadata": {},
   "outputs": [
    {
     "data": {
      "text/plain": [
       "['ALFRED', 'TABITHA', 'WILLIAM']"
      ]
     },
     "execution_count": 11,
     "metadata": {},
     "output_type": "execute_result"
    }
   ],
   "source": [
    "name=['alfred','tabitha','william']\n",
    "list(map(lambda x: x.upper(),name))"
   ]
  },
  {
   "cell_type": "code",
   "execution_count": 13,
   "id": "a12e1e86-4e81-48bb-8d24-cbc633bfb7d3",
   "metadata": {},
   "outputs": [
    {
     "data": {
      "text/plain": [
       "[(1, 'axx'), (2, 'byy'), (3, 'czz'), (4, 'dww'), (5, 'edd')]"
      ]
     },
     "execution_count": 13,
     "metadata": {},
     "output_type": "execute_result"
    }
   ],
   "source": [
    "my_str=['a','b','c','d','e']\n",
    "my_num=[1,2,3,4,5]\n",
    "my_name=['xx','yy','zz','ww','dd']\n",
    "result=map(lambda x,y,z: (y,x+z),my_str,my_num,my_name)\n",
    "list(result)"
   ]
  },
  {
   "cell_type": "markdown",
   "id": "a7e2e381-85ec-4c48-91f1-8ba0e3759641",
   "metadata": {},
   "source": [
    "FILTER\n",
    "--------\n",
    "syntax: filter(function,iterable)\n",
    "\n",
    "filter() --- returns an iterator that passed the function check for each element in the iterable."
   ]
  },
  {
   "cell_type": "code",
   "execution_count": 14,
   "id": "40bd4657-b544-4dcd-8192-e86140e92b8a",
   "metadata": {},
   "outputs": [
    {
     "data": {
      "text/plain": [
       "['madam', 'anutforajaroftuna']"
      ]
     },
     "execution_count": 14,
     "metadata": {},
     "output_type": "execute_result"
    }
   ],
   "source": [
    "dromes=('demigod','rewire','madam','freer','anutforajaroftuna','kiosk')\n",
    "palindrome=list(filter(lambda a: a==a[::-1],dromes))\n",
    "palindrome"
   ]
  },
  {
   "cell_type": "code",
   "execution_count": 15,
   "id": "98798621-d971-49c7-94e3-7836fc42fdf5",
   "metadata": {},
   "outputs": [
    {
     "name": "stdout",
     "output_type": "stream",
     "text": [
      "[4, 6, 8, 12]\n"
     ]
    }
   ],
   "source": [
    "my_list=[1,5,4,6,8,11,3,12]\n",
    "new_list=list(filter(lambda x:(x%2==0),my_list))\n",
    "print(new_list)"
   ]
  },
  {
   "cell_type": "code",
   "execution_count": 16,
   "id": "0316c4e1-a195-4b7e-bec8-991505b318c0",
   "metadata": {},
   "outputs": [
    {
     "name": "stdout",
     "output_type": "stream",
     "text": [
      "[5, 7, 97, 77, 23, 61]\n"
     ]
    }
   ],
   "source": [
    "li=[5,7,22,97,54,62,77,23,34,61]\n",
    "final_list=list(filter(lambda x: (x%2!=0),li))\n",
    "print(final_list)"
   ]
  },
  {
   "cell_type": "code",
   "execution_count": 17,
   "id": "bc2d92c3-a4a9-42df-8e2a-826e9c5bfb7e",
   "metadata": {},
   "outputs": [
    {
     "name": "stdout",
     "output_type": "stream",
     "text": [
      "['TWO', 'FOUR']\n",
      "['one', 'three']\n"
     ]
    }
   ],
   "source": [
    "list2=['one','TWO','three','FOUR']\n",
    "upper=list(filter(lambda x: x.isupper(),list2))\n",
    "lower=list(filter(lambda x: x.islower(),list2))\n",
    "print(upper)\n",
    "print(lower)"
   ]
  },
  {
   "cell_type": "code",
   "execution_count": 20,
   "id": "74a52061-7ed4-43f9-aa2f-b4118f8027f0",
   "metadata": {},
   "outputs": [
    {
     "name": "stdout",
     "output_type": "stream",
     "text": [
      "['88', '99', '102']\n",
      "['one']\n",
      "['one', 'two2', 'three3', '88', '99', '102']\n"
     ]
    }
   ],
   "source": [
    "list3=['one','two2','three3','88','99','102']\n",
    "numeric=list(filter(lambda x: x.isnumeric(),list3))\n",
    "alpha=list(filter(lambda x: x.isalpha(),list3))\n",
    "alphanum=list(filter(lambda x: x.isalnum(),list3))\n",
    "print(numeric)\n",
    "print(alpha)\n",
    "print(alphanum)"
   ]
  },
  {
   "cell_type": "code",
   "execution_count": 21,
   "id": "96cfa876-8e70-4041-8c31-db3bed9e0bbd",
   "metadata": {},
   "outputs": [
    {
     "data": {
      "text/plain": [
       "[90, 76, 88, 81]"
      ]
     },
     "execution_count": 21,
     "metadata": {},
     "output_type": "execute_result"
    }
   ],
   "source": [
    "score=[66,90,68,76,60,88,74,81,65]\n",
    "def is_student(score):\n",
    "    return score>75\n",
    "over_75=list(filter(is_student,score))\n",
    "over_75"
   ]
  },
  {
   "cell_type": "markdown",
   "id": "317e5d02-88c9-459d-872e-2a5c23a4c243",
   "metadata": {},
   "source": [
    "Reduce\n",
    "--------"
   ]
  },
  {
   "cell_type": "code",
   "execution_count": 1,
   "id": "1fa8a214-2c05-4239-aa34-122924c31b9c",
   "metadata": {},
   "outputs": [],
   "source": [
    "doubles=[2,6,10,14,18]"
   ]
  },
  {
   "cell_type": "code",
   "execution_count": 2,
   "id": "9f5d2ec2-a8e3-4b72-8b72-d12e5aee2781",
   "metadata": {},
   "outputs": [
    {
     "data": {
      "text/plain": [
       "50"
      ]
     },
     "execution_count": 2,
     "metadata": {},
     "output_type": "execute_result"
    }
   ],
   "source": [
    "from functools import reduce\n",
    "\n",
    "def add(a,b):\n",
    "    return a+b\n",
    "sum_all=reduce(add,doubles)\n",
    "sum_all"
   ]
  },
  {
   "cell_type": "code",
   "execution_count": 3,
   "id": "6db85c74-3748-4e21-a83b-2fe48355d835",
   "metadata": {},
   "outputs": [
    {
     "data": {
      "text/plain": [
       "50"
      ]
     },
     "execution_count": 3,
     "metadata": {},
     "output_type": "execute_result"
    }
   ],
   "source": [
    "sum_all=reduce(lambda a,b: a+b,doubles)\n",
    "sum_all"
   ]
  },
  {
   "cell_type": "code",
   "execution_count": 4,
   "id": "12901d53-1497-4d58-bcd5-005887f3cda5",
   "metadata": {},
   "outputs": [],
   "source": [
    "import operator \n",
    "\n",
    "list2=[1,2,3,4]"
   ]
  },
  {
   "cell_type": "code",
   "execution_count": 5,
   "id": "8e987667-9f74-4690-934f-b212a55ac284",
   "metadata": {},
   "outputs": [
    {
     "name": "stdout",
     "output_type": "stream",
     "text": [
      "24\n"
     ]
    }
   ],
   "source": [
    "prod=reduce(operator.mul,list2)\n",
    "print(prod)"
   ]
  },
  {
   "cell_type": "code",
   "execution_count": 6,
   "id": "1be8b4e0-f5d7-49b3-a7e1-e53f761b4375",
   "metadata": {},
   "outputs": [
    {
     "name": "stdout",
     "output_type": "stream",
     "text": [
      "10\n"
     ]
    }
   ],
   "source": [
    "add=reduce(operator.add,list2)\n",
    "print(add)"
   ]
  },
  {
   "cell_type": "code",
   "execution_count": 7,
   "id": "bba67d88-a6ef-42f3-bbff-c727d8435e63",
   "metadata": {},
   "outputs": [
    {
     "name": "stdout",
     "output_type": "stream",
     "text": [
      "Python Rocks\n"
     ]
    }
   ],
   "source": [
    "concat_str=reduce(operator.add,['Python',' ','Rocks'])\n",
    "print(concat_str)"
   ]
  },
  {
   "cell_type": "code",
   "execution_count": 10,
   "id": "07bd252f-d943-4c12-a20b-407be2a104da",
   "metadata": {},
   "outputs": [
    {
     "data": {
      "text/plain": [
       "'HelloHelloHello'"
      ]
     },
     "execution_count": 10,
     "metadata": {},
     "output_type": "execute_result"
    }
   ],
   "source": [
    "prod=reduce(operator.mul,['Hello' , 3])\n",
    "prod"
   ]
  },
  {
   "cell_type": "code",
   "execution_count": 11,
   "id": "f9a4a86b-14a7-4770-a61d-54332d5ffa32",
   "metadata": {},
   "outputs": [
    {
     "data": {
      "text/plain": [
       "1"
      ]
     },
     "execution_count": 11,
     "metadata": {},
     "output_type": "execute_result"
    }
   ],
   "source": [
    "min_num=reduce(lambda a,b: a if a<b else b,list2)\n",
    "min_num"
   ]
  },
  {
   "cell_type": "code",
   "execution_count": 12,
   "id": "c0622a80-2147-4fd4-9402-0b1a9e951729",
   "metadata": {},
   "outputs": [
    {
     "data": {
      "text/plain": [
       "4"
      ]
     },
     "execution_count": 12,
     "metadata": {},
     "output_type": "execute_result"
    }
   ],
   "source": [
    "max_num=reduce(lambda a,b: a if a>b else b,list2)\n",
    "max_num"
   ]
  }
 ],
 "metadata": {
  "kernelspec": {
   "display_name": "Python 3 (ipykernel)",
   "language": "python",
   "name": "python3"
  },
  "language_info": {
   "codemirror_mode": {
    "name": "ipython",
    "version": 3
   },
   "file_extension": ".py",
   "mimetype": "text/x-python",
   "name": "python",
   "nbconvert_exporter": "python",
   "pygments_lexer": "ipython3",
   "version": "3.11.7"
  }
 },
 "nbformat": 4,
 "nbformat_minor": 5
}
