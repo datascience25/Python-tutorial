{
 "cells": [
  {
   "cell_type": "code",
   "execution_count": 3,
   "id": "1cbe0262-9233-45c6-84cb-f4943028ee43",
   "metadata": {},
   "outputs": [
    {
     "name": "stdin",
     "output_type": "stream",
     "text": [
      "enter the number 10\n"
     ]
    },
    {
     "name": "stdout",
     "output_type": "stream",
     "text": [
      "You Won\n"
     ]
    }
   ],
   "source": [
    "# conditional statement \n",
    "# if\n",
    "#example 1\n",
    "n=int(input(\"enter the number\"))\n",
    "if n==10:\n",
    "    print(\"You Won\")"
   ]
  },
  {
   "cell_type": "code",
   "execution_count": 4,
   "id": "5a04ea70-2f96-468d-89ae-a7dc4695d4d9",
   "metadata": {},
   "outputs": [
    {
     "name": "stdin",
     "output_type": "stream",
     "text": [
      "enter the number 8\n"
     ]
    }
   ],
   "source": [
    "n=int(input(\"enter the number\"))\n",
    "if n==10:\n",
    "    print(\"You Won\")"
   ]
  },
  {
   "cell_type": "code",
   "execution_count": 5,
   "id": "58cdde6d-da04-432e-8bca-8f25b986e460",
   "metadata": {},
   "outputs": [
    {
     "name": "stdin",
     "output_type": "stream",
     "text": [
      "enter the number -2\n"
     ]
    },
    {
     "name": "stdout",
     "output_type": "stream",
     "text": [
      "negative number\n"
     ]
    }
   ],
   "source": [
    "# example 2\n",
    "n=int(input(\"enter the number\"))\n",
    "if n<0:\n",
    "    print(\"negative number\")\n",
    "if n>0:\n",
    "    print(\"positive number\")\n",
    "if n==0:\n",
    "    print(\"number is zero itself\")"
   ]
  },
  {
   "cell_type": "code",
   "execution_count": 6,
   "id": "cc1a2d19-0076-45d4-848b-c67d554064f8",
   "metadata": {},
   "outputs": [
    {
     "name": "stdin",
     "output_type": "stream",
     "text": [
      "enter the number 4\n"
     ]
    },
    {
     "name": "stdout",
     "output_type": "stream",
     "text": [
      "positive number\n"
     ]
    }
   ],
   "source": [
    "n=int(input(\"enter the number\"))\n",
    "if n<0:\n",
    "    print(\"negative number\")\n",
    "if n>0:\n",
    "    print(\"positive number\")\n",
    "if n==0:\n",
    "    print(\"number is zero itself\")"
   ]
  },
  {
   "cell_type": "code",
   "execution_count": 7,
   "id": "66017324-107a-4278-9598-0143c2444bb9",
   "metadata": {},
   "outputs": [
    {
     "name": "stdin",
     "output_type": "stream",
     "text": [
      "enter the number 0\n"
     ]
    },
    {
     "name": "stdout",
     "output_type": "stream",
     "text": [
      "number is zero itself\n"
     ]
    }
   ],
   "source": [
    "n=int(input(\"enter the number\"))\n",
    "if n<0:\n",
    "    print(\"negative number\")\n",
    "if n>0:\n",
    "    print(\"positive number\")\n",
    "if n==0:\n",
    "    print(\"number is zero itself\")"
   ]
  },
  {
   "cell_type": "code",
   "execution_count": 8,
   "id": "670acedf-6662-4dfc-a1c1-752ff47fb176",
   "metadata": {},
   "outputs": [
    {
     "name": "stdin",
     "output_type": "stream",
     "text": [
      "enter the number 24\n"
     ]
    },
    {
     "name": "stdout",
     "output_type": "stream",
     "text": [
      "even number\n"
     ]
    }
   ],
   "source": [
    "# if then else\n",
    "# example 1 (check even odd number)\n",
    "n=int(input('enter the number'))\n",
    "if n%2==0:\n",
    "    print('even number')\n",
    "else:\n",
    "    print('odd number')"
   ]
  },
  {
   "cell_type": "code",
   "execution_count": 9,
   "id": "a88105e3-ae2f-42d7-ac74-5ea5efb7f792",
   "metadata": {},
   "outputs": [
    {
     "name": "stdin",
     "output_type": "stream",
     "text": [
      "enter the number 87\n"
     ]
    },
    {
     "name": "stdout",
     "output_type": "stream",
     "text": [
      "odd number\n"
     ]
    }
   ],
   "source": [
    "n=int(input('enter the number'))\n",
    "if n%2==0:\n",
    "    print('even number')\n",
    "else:\n",
    "    print('odd number')"
   ]
  },
  {
   "cell_type": "code",
   "execution_count": 11,
   "id": "c7f5a6ee-716e-4506-bad5-ed7e4971964f",
   "metadata": {},
   "outputs": [
    {
     "name": "stdin",
     "output_type": "stream",
     "text": [
      "enter the year 2098\n"
     ]
    },
    {
     "name": "stdout",
     "output_type": "stream",
     "text": [
      "non leap year\n"
     ]
    }
   ],
   "source": [
    "# example 2 (check leap year)\n",
    "year=int(input('enter the year'))\n",
    "if year%4==0:\n",
    "    print('leap year')\n",
    "else:\n",
    "    print('non leap year')"
   ]
  },
  {
   "cell_type": "code",
   "execution_count": 12,
   "id": "09404aa2-27dc-449d-b823-0680bea1fa0b",
   "metadata": {},
   "outputs": [
    {
     "name": "stdin",
     "output_type": "stream",
     "text": [
      "enter the age 34\n"
     ]
    },
    {
     "name": "stdout",
     "output_type": "stream",
     "text": [
      "eligible to vote\n"
     ]
    }
   ],
   "source": [
    "# example 3 (vote eligibility)\n",
    "age=int(input('enter the age'))\n",
    "if age>=18:\n",
    "    print('eligible to vote')\n",
    "else:\n",
    "    print('not eligible')"
   ]
  },
  {
   "cell_type": "code",
   "execution_count": 13,
   "id": "542abdf9-6921-47c5-8b39-f61691312b77",
   "metadata": {},
   "outputs": [
    {
     "name": "stdin",
     "output_type": "stream",
     "text": [
      "enter the number -4\n"
     ]
    },
    {
     "name": "stdout",
     "output_type": "stream",
     "text": [
      "4\n"
     ]
    }
   ],
   "source": [
    "# example 4 (change into positive number if negative number enter)\n",
    "n=int(input('enter the number'))\n",
    "if n<0:\n",
    "    print(-1*n)\n",
    "else:\n",
    "    print(n)"
   ]
  },
  {
   "cell_type": "code",
   "execution_count": 14,
   "id": "2b0ecd84-00e0-4a43-bf68-784f66357cb5",
   "metadata": {},
   "outputs": [
    {
     "name": "stdin",
     "output_type": "stream",
     "text": [
      "enter the number -99\n"
     ]
    },
    {
     "name": "stdout",
     "output_type": "stream",
     "text": [
      "99\n"
     ]
    }
   ],
   "source": [
    "n=int(input('enter the number'))\n",
    "x=abs(n) # direct way\n",
    "print(x)"
   ]
  },
  {
   "cell_type": "code",
   "execution_count": 15,
   "id": "a3bb1ed1-63a5-4e57-a203-ecf7e248ef9f",
   "metadata": {},
   "outputs": [
    {
     "name": "stdin",
     "output_type": "stream",
     "text": [
      "enter the value from 1--7 6\n"
     ]
    },
    {
     "name": "stdout",
     "output_type": "stream",
     "text": [
      "fri\n"
     ]
    }
   ],
   "source": [
    "# if elif ladder form\n",
    "day=int(input('enter the value from 1--7'))\n",
    "if day==1:\n",
    "    print('sun')\n",
    "elif day==2:\n",
    "    print('mon')\n",
    "elif day==3:\n",
    "    print('tue')\n",
    "elif day==4:\n",
    "    print('wed')\n",
    "elif day==5:\n",
    "    print('thu')\n",
    "elif day==6:\n",
    "    print('fri')\n",
    "elif day==7:\n",
    "    print('sat')\n",
    "else:\n",
    "    print('invalid choice')"
   ]
  },
  {
   "cell_type": "code",
   "execution_count": 16,
   "id": "e110c0b7-2826-47a3-aa88-7dfe006f0784",
   "metadata": {},
   "outputs": [
    {
     "name": "stdin",
     "output_type": "stream",
     "text": [
      "enter the value from 1--7 12\n"
     ]
    },
    {
     "name": "stdout",
     "output_type": "stream",
     "text": [
      "invalid choice\n"
     ]
    }
   ],
   "source": [
    "day=int(input('enter the value from 1--7'))\n",
    "if day==1:\n",
    "    print('sun')\n",
    "elif day==2:\n",
    "    print('mon')\n",
    "elif day==3:\n",
    "    print('tue')\n",
    "elif day==4:\n",
    "    print('wed')\n",
    "elif day==5:\n",
    "    print('thu')\n",
    "elif day==6:\n",
    "    print('fri')\n",
    "elif day==7:\n",
    "    print('sat')\n",
    "else:\n",
    "    print('invalid choice')"
   ]
  },
  {
   "cell_type": "code",
   "execution_count": 17,
   "id": "e8331a43-40e0-4c44-8391-cdd7695d2292",
   "metadata": {},
   "outputs": [
    {
     "name": "stdin",
     "output_type": "stream",
     "text": [
      "enter the marks out of 100 45\n",
      "enter the marks out of 100 66.5\n",
      "enter the marks out of 100 87.7\n",
      "enter the marks out of 100 43.4\n",
      "enter the marks out of 100 78.5\n"
     ]
    },
    {
     "name": "stdout",
     "output_type": "stream",
     "text": [
      "first\n"
     ]
    }
   ],
   "source": [
    "# print division of the student \n",
    "p=float(input('enter the marks out of 100'))\n",
    "c=float(input('enter the marks out of 100'))\n",
    "m=float(input('enter the marks out of 100'))\n",
    "e=float(input('enter the marks out of 100'))\n",
    "h=float(input('enter the marks out of 100'))\n",
    "s=p+c+m+e+h\n",
    "per=s*100/500\n",
    "if per>=60:\n",
    "    print('first')\n",
    "elif per>=45:\n",
    "    print('second')\n",
    "elif per>=33:\n",
    "    print('third')\n",
    "else:\n",
    "    print('fail')"
   ]
  },
  {
   "cell_type": "code",
   "execution_count": 18,
   "id": "464fec61-8323-4757-84fe-1094ecc1a423",
   "metadata": {},
   "outputs": [
    {
     "name": "stdin",
     "output_type": "stream",
     "text": [
      "enter the number 7\n"
     ]
    },
    {
     "name": "stdout",
     "output_type": "stream",
     "text": [
      "+ve number\n"
     ]
    }
   ],
   "source": [
    "n=int(input('enter the number'))\n",
    "if n<0:\n",
    "    print('-ve number')\n",
    "elif n>0:\n",
    "    print('+ve number')\n",
    "else:\n",
    "    print('number is zero')"
   ]
  }
 ],
 "metadata": {
  "kernelspec": {
   "display_name": "Python 3 (ipykernel)",
   "language": "python",
   "name": "python3"
  },
  "language_info": {
   "codemirror_mode": {
    "name": "ipython",
    "version": 3
   },
   "file_extension": ".py",
   "mimetype": "text/x-python",
   "name": "python",
   "nbconvert_exporter": "python",
   "pygments_lexer": "ipython3",
   "version": "3.11.7"
  }
 },
 "nbformat": 4,
 "nbformat_minor": 5
}
