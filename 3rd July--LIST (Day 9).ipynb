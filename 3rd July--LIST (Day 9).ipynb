{
 "cells": [
  {
   "cell_type": "code",
   "execution_count": 1,
   "id": "619b33cc-fd19-4fe7-b680-da2ef701e091",
   "metadata": {},
   "outputs": [],
   "source": [
    "# Core concept\n",
    "# LIST\n",
    "# 1.Sequence data structure\n",
    "# 2.Hetreogeneous\n",
    "# 3.Ordered or indexed\n",
    "# 4.Mutable (we can change the data)\n",
    "# 5.enclosed in []"
   ]
  },
  {
   "cell_type": "code",
   "execution_count": 2,
   "id": "202469ec-2e34-403a-83d3-4535590d716a",
   "metadata": {},
   "outputs": [
    {
     "name": "stdout",
     "output_type": "stream",
     "text": [
      "['h', 'e', 'l', 'l', 'o']\n"
     ]
    }
   ],
   "source": [
    "# list constructor\n",
    "ls=list(\"hello\")\n",
    "print(ls)"
   ]
  },
  {
   "cell_type": "code",
   "execution_count": 3,
   "id": "b2ee6d95-2370-4d49-9cc3-26323e1f00ba",
   "metadata": {},
   "outputs": [
    {
     "name": "stdout",
     "output_type": "stream",
     "text": [
      "[12, 23, 3, 4]\n"
     ]
    }
   ],
   "source": [
    "ls=list((12,23,3,4))\n",
    "print(ls)"
   ]
  },
  {
   "cell_type": "code",
   "execution_count": 5,
   "id": "b3d68cd0-0d94-403c-a573-0223952034db",
   "metadata": {},
   "outputs": [],
   "source": [
    "ls=[1,2,3,4,[7,8,9],11,[2]] #nested list"
   ]
  },
  {
   "cell_type": "code",
   "execution_count": 6,
   "id": "2198d150-d674-4892-9972-71985c394389",
   "metadata": {},
   "outputs": [
    {
     "name": "stdout",
     "output_type": "stream",
     "text": [
      "11\n",
      "44\n",
      "77\n"
     ]
    }
   ],
   "source": [
    "# Accessing of List Elements\n",
    "ls=[11,22,33,44,55,66,77,88,99]\n",
    "print(ls[0]) #11\n",
    "print(ls[3]) #44\n",
    "print(ls[-3]) #77\n",
    "# when we move left to right index are 0 ---onwards but if we move from right to left then index will start from -1"
   ]
  },
  {
   "cell_type": "code",
   "execution_count": 13,
   "id": "af89b9d6-480f-4ff5-9c1b-6bf98da38207",
   "metadata": {},
   "outputs": [
    {
     "name": "stdout",
     "output_type": "stream",
     "text": [
      "56\n",
      "[45, 56, 67, 78, [67, 54, 343]]\n",
      "67\n",
      "[67, 54, 343]\n",
      "343\n"
     ]
    }
   ],
   "source": [
    "# accessing in nested list\n",
    "ls=[12,23,34,45,56,[45,56,67,78,[67,54,343]],5,[89]]\n",
    "print(ls[4])\n",
    "print(ls[5])\n",
    "print(ls[5][2]) # 67\n",
    "print(ls[5][4])\n",
    "print(ls[5][4][2]) #343"
   ]
  },
  {
   "cell_type": "code",
   "execution_count": 14,
   "id": "dc5bcf2c-7d2a-4373-8993-7faa29bdcbca",
   "metadata": {},
   "outputs": [
    {
     "name": "stdout",
     "output_type": "stream",
     "text": [
      "[45, 56, 67, 78, 89]\n",
      "[12, 23, 34, 45, 56, 67, 78, 89]\n",
      "[45, 56, 67, 78, 89, 98, 87]\n",
      "[12, 23, 34, 45, 56, 67, 78, 89, 98, 87]\n"
     ]
    }
   ],
   "source": [
    "# slice operation ':'\n",
    "ls=[12,23,34,45,56,67,78,89,98,87]\n",
    "print(ls[3:8])\n",
    "print(ls[:8])\n",
    "print(ls[3:])\n",
    "print(ls[:])"
   ]
  },
  {
   "cell_type": "code",
   "execution_count": 17,
   "id": "8ef81d15-7f36-41f2-b0f0-f128fa99d5f8",
   "metadata": {},
   "outputs": [
    {
     "name": "stdout",
     "output_type": "stream",
     "text": [
      "[6, 7]\n"
     ]
    }
   ],
   "source": [
    "ls=[22,45,13,[5,6,7]]\n",
    "print(ls[3][1:])"
   ]
  },
  {
   "cell_type": "code",
   "execution_count": 15,
   "id": "f6f7e28c-5a25-4c79-a6d6-9c4d0716629d",
   "metadata": {},
   "outputs": [
    {
     "name": "stdout",
     "output_type": "stream",
     "text": [
      "[12, 23, 34, 45, 56, 67]\n",
      "[12, 23, 'hello', 45, 56, 67]\n"
     ]
    }
   ],
   "source": [
    "# Updation\n",
    "ls=[12,23,34,45,56,67]\n",
    "print(ls)\n",
    "ls[2]=\"hello\"\n",
    "print(ls)"
   ]
  },
  {
   "cell_type": "code",
   "execution_count": 16,
   "id": "ab0b2ce4-0f09-4a3c-bc00-9f74d3e27308",
   "metadata": {},
   "outputs": [
    {
     "name": "stdout",
     "output_type": "stream",
     "text": [
      "[12, 23, 'hello', 'how', 'are', 'you']\n"
     ]
    }
   ],
   "source": [
    "ls[3:6]=[\"how\",\"are\",\"you\"]\n",
    "print(ls)"
   ]
  },
  {
   "cell_type": "code",
   "execution_count": 18,
   "id": "0214edc6-63f6-4af6-be48-4f3d1f51d733",
   "metadata": {},
   "outputs": [],
   "source": [
    "# delete an element from the list\n",
    "# del --- 2 ways\n",
    "# pop --- 2 ways\n",
    "# remove --- 1 way"
   ]
  },
  {
   "cell_type": "code",
   "execution_count": 20,
   "id": "66b4aa87-dd52-4f57-891d-ff1782baa3f4",
   "metadata": {},
   "outputs": [
    {
     "name": "stdout",
     "output_type": "stream",
     "text": [
      "[12, 23, 34, 45, 56, 67, 78, 89, 98, 87]\n",
      "[12, 23, 34, 56, 67, 78, 89, 98, 87]\n",
      "[12, 23, 78, 89, 98, 87]\n"
     ]
    }
   ],
   "source": [
    "ls=[12,23,34,45,56,67,78,89,98,87]\n",
    "print(ls)\n",
    "del ls[3]\n",
    "print(ls)\n",
    "del ls[2:5]\n",
    "print(ls)"
   ]
  },
  {
   "cell_type": "code",
   "execution_count": 21,
   "id": "d0e686cb-ab69-43d9-b307-6d24bb7612e9",
   "metadata": {},
   "outputs": [
    {
     "name": "stdout",
     "output_type": "stream",
     "text": [
      "[12, 23, 34, 45, 56, 67, 78, 89, 98, 87]\n",
      "[12, 23, 34, 56, 67, 78, 89, 98, 87]\n"
     ]
    }
   ],
   "source": [
    "# pop\n",
    "ls=[12,23,34,45,56,67,78,89,98,87]\n",
    "print(ls)\n",
    "ls.pop(3)\n",
    "print(ls)"
   ]
  },
  {
   "cell_type": "code",
   "execution_count": 23,
   "id": "ae5a59ca-577b-46b0-8cb4-e46cacfa7b20",
   "metadata": {},
   "outputs": [
    {
     "name": "stdout",
     "output_type": "stream",
     "text": [
      "[12, 23, 34, 45, 56, 67, 78, 89, 98, 87]\n",
      "[12, 23, 34, 45, 56, 67, 78, 89, 98]\n",
      "[12, 23, 34, 45, 56, 67, 78, 89]\n",
      "[12, 23, 34, 45, 56, 67, 78]\n"
     ]
    }
   ],
   "source": [
    "ls=[12,23,34,45,56,67,78,89,98,87]\n",
    "print(ls)\n",
    "ls.pop() # removes the last element\n",
    "print(ls)\n",
    "ls.pop()\n",
    "print(ls)\n",
    "ls.pop()\n",
    "print(ls)"
   ]
  },
  {
   "cell_type": "code",
   "execution_count": 1,
   "id": "c96fc8a5-06e8-498b-9a44-152095808311",
   "metadata": {},
   "outputs": [
    {
     "name": "stdout",
     "output_type": "stream",
     "text": [
      "[12, 23, 34, 45, 56, 67]\n",
      "[12, 23, 34, 56, 67]\n"
     ]
    }
   ],
   "source": [
    "# remove (delete the first occurence of the element in the list)\n",
    "ls=[12,23,34,45,56,67]\n",
    "print(ls)\n",
    "ls.remove(45)\n",
    "print(ls)"
   ]
  }
 ],
 "metadata": {
  "kernelspec": {
   "display_name": "Python 3 (ipykernel)",
   "language": "python",
   "name": "python3"
  },
  "language_info": {
   "codemirror_mode": {
    "name": "ipython",
    "version": 3
   },
   "file_extension": ".py",
   "mimetype": "text/x-python",
   "name": "python",
   "nbconvert_exporter": "python",
   "pygments_lexer": "ipython3",
   "version": "3.11.7"
  }
 },
 "nbformat": 4,
 "nbformat_minor": 5
}
