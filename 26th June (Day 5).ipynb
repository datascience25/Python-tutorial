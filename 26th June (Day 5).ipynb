{
 "cells": [
  {
   "cell_type": "code",
   "execution_count": 1,
   "id": "e3f631ea-6988-48de-9551-f21110386ee6",
   "metadata": {},
   "outputs": [],
   "source": [
    "# Loop (while loop)"
   ]
  },
  {
   "cell_type": "code",
   "execution_count": 4,
   "id": "c2385314-9b10-44b7-a8b9-59832b960f1a",
   "metadata": {},
   "outputs": [
    {
     "name": "stdout",
     "output_type": "stream",
     "text": [
      "Darina\n",
      "Darina\n",
      "Darina\n",
      "Darina\n",
      "Darina\n",
      "Darina\n",
      "Darina\n",
      "Darina\n",
      "Darina\n",
      "Darina\n"
     ]
    }
   ],
   "source": [
    "#print your name 10 times\n",
    "i=1\n",
    "while i<=10:\n",
    "    print(\"Darina\")\n",
    "    i=i+1"
   ]
  },
  {
   "cell_type": "code",
   "execution_count": 5,
   "id": "4b6d8bea-74b8-4821-85f7-a995eeca2722",
   "metadata": {},
   "outputs": [
    {
     "name": "stdout",
     "output_type": "stream",
     "text": [
      "1\n",
      "2\n",
      "3\n",
      "4\n",
      "5\n",
      "6\n",
      "7\n",
      "8\n",
      "9\n",
      "10\n"
     ]
    }
   ],
   "source": [
    "# print first 10 natural number\n",
    "i=1\n",
    "while i<=10:\n",
    "    print(i)\n",
    "    i=i+1"
   ]
  },
  {
   "cell_type": "code",
   "execution_count": 6,
   "id": "2f0fa551-d233-4bbb-aa63-275476f2a86a",
   "metadata": {},
   "outputs": [
    {
     "name": "stdout",
     "output_type": "stream",
     "text": [
      "1 2 3 4 5 6 7 8 9 10 "
     ]
    }
   ],
   "source": [
    "i=1\n",
    "while i<=10:\n",
    "    print(i,end=\" \")\n",
    "    i=i+1"
   ]
  },
  {
   "cell_type": "code",
   "execution_count": 7,
   "id": "b598ea4d-2f4a-424a-bcb8-058488e83e8c",
   "metadata": {},
   "outputs": [
    {
     "name": "stdout",
     "output_type": "stream",
     "text": [
      "the sum is 55\n"
     ]
    }
   ],
   "source": [
    "# print the sum of first 10 natural number\n",
    "i=1\n",
    "s=0\n",
    "while i<=10:\n",
    "    s=s+i\n",
    "    i=i+1\n",
    "print('the sum is',s)\n",
    "# s=s+i \n",
    "# s=0+1=1\n",
    "# s=1+2=3\n",
    "# s=3+3=6 so on "
   ]
  },
  {
   "cell_type": "code",
   "execution_count": 8,
   "id": "4b309658-7dcc-4210-96c1-61a2a35be334",
   "metadata": {},
   "outputs": [
    {
     "name": "stdout",
     "output_type": "stream",
     "text": [
      "2 4 6 8 10 12 14 16 18 20 22 24 26 28 30 32 34 36 38 40 42 44 46 48 50 52 54 56 58 60 62 64 66 68 70 72 74 76 78 80 82 84 86 88 90 92 94 96 98 100 "
     ]
    }
   ],
   "source": [
    "# print even numbers from 1 to 100\n",
    "i=1\n",
    "while i<=100:\n",
    "    if i%2==0:\n",
    "        print(i,end=\" \")\n",
    "    i=i+1"
   ]
  },
  {
   "cell_type": "code",
   "execution_count": 9,
   "id": "f8c2e62c-8f57-4058-af60-5e35eecc1508",
   "metadata": {},
   "outputs": [
    {
     "name": "stdout",
     "output_type": "stream",
     "text": [
      "1 3 5 7 9 11 13 15 17 19 21 23 25 27 29 31 33 35 37 39 41 43 45 47 49 51 53 55 57 59 61 63 65 67 69 71 73 75 77 79 81 83 85 87 89 91 93 95 97 99 "
     ]
    }
   ],
   "source": [
    "i=1\n",
    "while i<=100:\n",
    "    if i%2!=0:\n",
    "        print(i,end=\" \")\n",
    "    i=i+1"
   ]
  },
  {
   "cell_type": "code",
   "execution_count": 10,
   "id": "1bb59dfe-ddb0-4a74-8cea-eb764bd63ec6",
   "metadata": {},
   "outputs": [
    {
     "name": "stdout",
     "output_type": "stream",
     "text": [
      "1 3 5 7 9 11 13 15 17 19 21 23 25 27 29 31 33 35 37 39 41 43 45 47 49 51 53 55 57 59 61 63 65 67 69 71 73 75 77 79 81 83 85 87 89 91 93 95 97 99 "
     ]
    }
   ],
   "source": [
    "i=1\n",
    "while i<=100:\n",
    "    if i%2==1:\n",
    "        print(i,end=\" \")\n",
    "    i=i+1"
   ]
  },
  {
   "cell_type": "code",
   "execution_count": 11,
   "id": "2a5d691d-4c84-41cb-a383-6bcf11556b7d",
   "metadata": {},
   "outputs": [
    {
     "name": "stdout",
     "output_type": "stream",
     "text": [
      "the sum of even numbers is 2550\n",
      "the sum of odd numbers is 2500\n"
     ]
    }
   ],
   "source": [
    "# print the sum of even and odd number separately from 1--100\n",
    "i=1\n",
    "se=0\n",
    "so=0\n",
    "while i<=100:\n",
    "    if i%2==0:\n",
    "        se=se+i\n",
    "    else:\n",
    "        so=so+i\n",
    "    i=i+1\n",
    "print('the sum of even numbers is',se)\n",
    "print('the sum of odd numbers is',so)"
   ]
  },
  {
   "cell_type": "code",
   "execution_count": 12,
   "id": "763972dc-a873-42e8-a6c0-97116344cbdd",
   "metadata": {},
   "outputs": [
    {
     "name": "stdin",
     "output_type": "stream",
     "text": [
      "enter the number 45\n"
     ]
    },
    {
     "name": "stdout",
     "output_type": "stream",
     "text": [
      "45 * 1 = 45\n",
      "45 * 2 = 90\n",
      "45 * 3 = 135\n",
      "45 * 4 = 180\n",
      "45 * 5 = 225\n",
      "45 * 6 = 270\n",
      "45 * 7 = 315\n",
      "45 * 8 = 360\n",
      "45 * 9 = 405\n",
      "45 * 10 = 450\n"
     ]
    }
   ],
   "source": [
    "# table of given number\n",
    "#4*1=4\n",
    "#4*2=8\n",
    "#n*i=(n*i)\n",
    "\n",
    "n=int(input('enter the number'))\n",
    "i=1\n",
    "while i<=10:\n",
    "    print(n,\"*\",i,\"=\",n*i) \n",
    "    i=i+1"
   ]
  },
  {
   "cell_type": "code",
   "execution_count": 14,
   "id": "e29f02e2-cae6-490a-b13f-be27f97897f8",
   "metadata": {},
   "outputs": [
    {
     "name": "stdin",
     "output_type": "stream",
     "text": [
      "enter the number 24\n"
     ]
    },
    {
     "name": "stdout",
     "output_type": "stream",
     "text": [
      "1 2 3 4 6 8 12 24 "
     ]
    }
   ],
   "source": [
    "# factors of a given number\n",
    "#24 - 1,2,4,6,8,12,24\n",
    "i=1\n",
    "n=int(input('enter the number'))\n",
    "while i<=n:\n",
    "    if n%i==0:\n",
    "        print(i,end=\" \")\n",
    "    i=i+1"
   ]
  }
 ],
 "metadata": {
  "kernelspec": {
   "display_name": "Python 3 (ipykernel)",
   "language": "python",
   "name": "python3"
  },
  "language_info": {
   "codemirror_mode": {
    "name": "ipython",
    "version": 3
   },
   "file_extension": ".py",
   "mimetype": "text/x-python",
   "name": "python",
   "nbconvert_exporter": "python",
   "pygments_lexer": "ipython3",
   "version": "3.11.7"
  }
 },
 "nbformat": 4,
 "nbformat_minor": 5
}
