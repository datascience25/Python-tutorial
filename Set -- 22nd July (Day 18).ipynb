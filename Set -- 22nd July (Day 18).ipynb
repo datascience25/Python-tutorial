{
 "cells": [
  {
   "cell_type": "markdown",
   "id": "6a516f1d-4c51-4593-85c9-bbf31efa0dbb",
   "metadata": {},
   "source": [
    "Python - Set\n",
    "-------------\r",
    "A set is a mutable collection of distinct hashable objects, same as the list and tuple. It is an unordered collection of objects, meaning it does not record element position or order of insertion and so cannot access elements using indexes.\r",
    "\r",
    "The set is a Python implementation of the set in Mathematics. A set object has suitable methods to perform mathematical set operations like union, intersection, difference, etc.\r",
    "\r",
    "A set object contains one or more items, not necessarily of the same type, which are separated by a comma and enclosed in curly brackets {}. The following defines a set object with even numbers."
   ]
  },
  {
   "cell_type": "code",
   "execution_count": 1,
   "id": "6a3db258-824e-44c3-96f5-5b2881209b81",
   "metadata": {},
   "outputs": [
    {
     "name": "stdout",
     "output_type": "stream",
     "text": [
      "{2, 4, 6, 8, 10}\n",
      "{1, 'Steve', 10.5}\n"
     ]
    }
   ],
   "source": [
    "even_nums={2,4,6,8,10} #set of even numbers\n",
    "print(even_nums)\n",
    "emp={1,'Steve',10.5,True} #set of different objects\n",
    "print(emp)"
   ]
  },
  {
   "cell_type": "markdown",
   "id": "a0a30e5e-e739-445d-b13e-7fd70ff56e87",
   "metadata": {},
   "source": [
    "A set doesn't store duplicate objects. Even if an object is added more than once inside the curly brackets, only one copy is held in the set object. Hence, indexing and slicing operations cannot be done on a set object."
   ]
  },
  {
   "cell_type": "code",
   "execution_count": 3,
   "id": "f63f7d2d-4b8f-40f8-8759-c9595fd844f3",
   "metadata": {},
   "outputs": [
    {
     "name": "stdout",
     "output_type": "stream",
     "text": [
      "{1, 2, 3, 4, 5}\n"
     ]
    }
   ],
   "source": [
    "nums={1,2,2,3,4,4,5,5}\n",
    "print(nums) # duplicate elements are removed"
   ]
  },
  {
   "cell_type": "code",
   "execution_count": 5,
   "id": "8b762602-2016-4a1e-b6b0-ae38485e1aec",
   "metadata": {},
   "outputs": [
    {
     "name": "stdout",
     "output_type": "stream",
     "text": [
      "{0, 'age', 22, True}\n"
     ]
    }
   ],
   "source": [
    "nums1={'age','age',22,22,True,1,0,False} # 0-False and 1-True\n",
    "print(nums1)"
   ]
  },
  {
   "cell_type": "markdown",
   "id": "a309eb44-26a2-46fa-acf7-73e3fb134bb3",
   "metadata": {},
   "source": [
    "The order of elements in the set is not necessarily the same as the order given at the time of assignment. Python optimizes the structure of a set for performing operations over it, as defined in mathematics."
   ]
  },
  {
   "cell_type": "code",
   "execution_count": 6,
   "id": "1f38ebd9-d5e2-4ddd-a470-114de3ed083f",
   "metadata": {},
   "outputs": [
    {
     "name": "stdout",
     "output_type": "stream",
     "text": [
      "{(10, 10), 10, 20}\n"
     ]
    }
   ],
   "source": [
    "myset={(10,10),10,20}\n",
    "print(myset)"
   ]
  },
  {
   "cell_type": "code",
   "execution_count": 7,
   "id": "a05b5c2a-e6a8-437e-88a4-e8ff93eccf4a",
   "metadata": {},
   "outputs": [
    {
     "ename": "TypeError",
     "evalue": "unhashable type: 'list'",
     "output_type": "error",
     "traceback": [
      "\u001b[1;31m---------------------------------------------------------------------------\u001b[0m",
      "\u001b[1;31mTypeError\u001b[0m                                 Traceback (most recent call last)",
      "Cell \u001b[1;32mIn[7], line 1\u001b[0m\n\u001b[1;32m----> 1\u001b[0m myset\u001b[38;5;241m=\u001b[39m{[\u001b[38;5;241m10\u001b[39m,\u001b[38;5;241m10\u001b[39m],\u001b[38;5;241m10\u001b[39m,\u001b[38;5;241m20\u001b[39m} \u001b[38;5;66;03m#TypeError can't add a list\u001b[39;00m\n\u001b[0;32m      2\u001b[0m \u001b[38;5;28mprint\u001b[39m(myset)\n",
      "\u001b[1;31mTypeError\u001b[0m: unhashable type: 'list'"
     ]
    }
   ],
   "source": [
    "myset={[10,10],10,20} #TypeError can't add a list\n",
    "print(myset)"
   ]
  },
  {
   "cell_type": "code",
   "execution_count": 8,
   "id": "d2ce2e86-169b-4bc5-98d3-1287790a7822",
   "metadata": {},
   "outputs": [
    {
     "ename": "TypeError",
     "evalue": "unhashable type: 'set'",
     "output_type": "error",
     "traceback": [
      "\u001b[1;31m---------------------------------------------------------------------------\u001b[0m",
      "\u001b[1;31mTypeError\u001b[0m                                 Traceback (most recent call last)",
      "Cell \u001b[1;32mIn[8], line 1\u001b[0m\n\u001b[1;32m----> 1\u001b[0m myset\u001b[38;5;241m=\u001b[39m{{\u001b[38;5;241m10\u001b[39m,\u001b[38;5;241m10\u001b[39m},\u001b[38;5;241m10\u001b[39m,\u001b[38;5;241m20\u001b[39m} \u001b[38;5;66;03m#typeerror can't add a set\u001b[39;00m\n\u001b[0;32m      2\u001b[0m \u001b[38;5;28mprint\u001b[39m(myset)\n",
      "\u001b[1;31mTypeError\u001b[0m: unhashable type: 'set'"
     ]
    }
   ],
   "source": [
    "myset={{10,10},10,20} #typeerror can't add a set\n",
    "print(myset)"
   ]
  },
  {
   "cell_type": "code",
   "execution_count": 9,
   "id": "823ff2cf-fd3a-4172-b2e1-85c187aa099e",
   "metadata": {},
   "outputs": [
    {
     "name": "stdout",
     "output_type": "stream",
     "text": [
      "<class 'dict'>\n"
     ]
    }
   ],
   "source": [
    "emp={} # creates an empty dictionary\n",
    "print(type(emp)) "
   ]
  },
  {
   "cell_type": "code",
   "execution_count": 10,
   "id": "b91af179-4595-49b3-9c23-10aa7941d87a",
   "metadata": {},
   "outputs": [
    {
     "name": "stdout",
     "output_type": "stream",
     "text": [
      "<class 'set'>\n"
     ]
    }
   ],
   "source": [
    "s=set() # creates an empty set\n",
    "print(type(s))"
   ]
  },
  {
   "cell_type": "markdown",
   "id": "c1ee3f47-ec25-4d3e-8abf-0e9700dd329e",
   "metadata": {},
   "source": [
    "The set() function also use to convert string, tuple, or dictionary object to a set object, as shown below.\r"
   ]
  },
  {
   "cell_type": "code",
   "execution_count": 11,
   "id": "7838c40f-334d-4af8-a844-68b9190dd491",
   "metadata": {},
   "outputs": [
    {
     "name": "stdout",
     "output_type": "stream",
     "text": [
      "{'e', 'o', 'H', 'l'}\n"
     ]
    }
   ],
   "source": [
    "# sequence to set\n",
    "s=set('Hello')\n",
    "print(s)"
   ]
  },
  {
   "cell_type": "code",
   "execution_count": 12,
   "id": "f9190c65-768d-431b-b778-f6eb940c1779",
   "metadata": {},
   "outputs": [
    {
     "name": "stdout",
     "output_type": "stream",
     "text": [
      "{1, 2, 3, 4, 5}\n"
     ]
    }
   ],
   "source": [
    "# tuple to set\n",
    "s=set((1,2,3,4,5))\n",
    "print(s)"
   ]
  },
  {
   "cell_type": "code",
   "execution_count": 13,
   "id": "a4fb55ae-ecbf-4c99-8743-a304282e7263",
   "metadata": {},
   "outputs": [
    {
     "name": "stdout",
     "output_type": "stream",
     "text": [
      "{1, 2}\n"
     ]
    }
   ],
   "source": [
    "# dictionary to set\n",
    "d={1:'One',2:'Two'}\n",
    "s=set(d)\n",
    "print(s)"
   ]
  },
  {
   "cell_type": "markdown",
   "id": "c4fc3272-784e-4fa1-b314-3eab6a7fc906",
   "metadata": {},
   "source": [
    "Modify Set Elements\n",
    "--------------------\r",
    "Use built-in set functions add(), remove() or update() methods to modify set collection."
   ]
  },
  {
   "cell_type": "code",
   "execution_count": 14,
   "id": "1f9af822-dd09-49df-9952-50a5f40033ba",
   "metadata": {},
   "outputs": [
    {
     "name": "stdout",
     "output_type": "stream",
     "text": [
      "{10, 20, 30}\n"
     ]
    }
   ],
   "source": [
    "s=set() # create an empty set\n",
    "s.add(10) # add an element\n",
    "s.add(20)\n",
    "s.add(30)\n",
    "print(s)"
   ]
  },
  {
   "cell_type": "code",
   "execution_count": 15,
   "id": "b2ac33eb-9576-4ab4-be4c-bf81ece67017",
   "metadata": {},
   "outputs": [
    {
     "name": "stdout",
     "output_type": "stream",
     "text": [
      "{2, 3, 20, 5, 7, 10, 30}\n"
     ]
    }
   ],
   "source": [
    "primeNums={2,3,5,7}\n",
    "s.update(primeNums) # update set with another set\n",
    "print(s)"
   ]
  },
  {
   "cell_type": "code",
   "execution_count": 16,
   "id": "e8078207-80b1-47dc-93e7-99fbae3fc5cc",
   "metadata": {},
   "outputs": [
    {
     "name": "stdout",
     "output_type": "stream",
     "text": [
      "{3, 20, 5, 7, 10, 30}\n"
     ]
    }
   ],
   "source": [
    "s.remove(2) # remove an element\n",
    "print(s)"
   ]
  },
  {
   "cell_type": "markdown",
   "id": "5eb3994a-ff86-4222-a73d-39c113ec25ba",
   "metadata": {},
   "source": [
    "Python Set clear() Method\n",
    "--------------------------\r",
    "The set.clear() method removes all the elements from the set.\r\n",
    "Syntax: set.clear()"
   ]
  },
  {
   "cell_type": "code",
   "execution_count": 17,
   "id": "6c9b8cdb-ba69-49bc-a840-d28996d72ba6",
   "metadata": {},
   "outputs": [
    {
     "name": "stdout",
     "output_type": "stream",
     "text": [
      "Set after the clear() method is called:  set()\n"
     ]
    }
   ],
   "source": [
    "langs={'Python','C++','C','Go'}\n",
    "langs.clear()\n",
    "print(\"Set after the clear() method is called: \",langs)"
   ]
  },
  {
   "cell_type": "markdown",
   "id": "aa552b6d-ad3f-4d9f-b9df-0d1794de838d",
   "metadata": {},
   "source": [
    "Python Set copy() Method\n",
    "--------------------------\n",
    "The set.copy() method returns a shallow copy of the set.\n",
    "Syntax : set.copy()"
   ]
  },
  {
   "cell_type": "code",
   "execution_count": 18,
   "id": "c1270ec9-1c70-4c94-8c89-77f79e9f8906",
   "metadata": {},
   "outputs": [
    {
     "name": "stdout",
     "output_type": "stream",
     "text": [
      "Original set:  {'Python', 'Java', 'C', 'C++'}\n",
      "Copied set:  {'Python', 'Java', 'C', 'C++'}\n"
     ]
    }
   ],
   "source": [
    "langs={'Python','C++','C','Java'}\n",
    "copiedlangs=langs.copy()\n",
    "print('Original set: ',langs)\n",
    "print('Copied set: ',copiedlangs)"
   ]
  },
  {
   "cell_type": "code",
   "execution_count": 21,
   "id": "23a32fce-906d-447f-ab62-b604152a80e1",
   "metadata": {},
   "outputs": [
    {
     "name": "stdout",
     "output_type": "stream",
     "text": [
      "A-B :  {1, 2, 3}\n",
      "B-A :  {9, 10}\n"
     ]
    }
   ],
   "source": [
    "# Difference\n",
    "A={1,2,3,4,5,6,7,8}\n",
    "B={4,5,6,7,8,9,10}\n",
    "print(\"A-B : \",A-B)\n",
    "print(\"B-A : \",B-A)"
   ]
  },
  {
   "cell_type": "markdown",
   "id": "a9b0bcf9-6ac2-4d55-84b9-bc61fa678f89",
   "metadata": {},
   "source": [
    "Python Set difference() Method\n",
    "--------------------------------\r",
    "The set.difference() method returns the new set with the unique elements that are not in the other set passed as a parameter.\r",
    "\r",
    "Syntax:\r",
    "set.difference(*other_set)"
   ]
  },
  {
   "cell_type": "code",
   "execution_count": 22,
   "id": "d32764a5-4af9-468a-9ede-a24bd7194690",
   "metadata": {},
   "outputs": [
    {
     "name": "stdout",
     "output_type": "stream",
     "text": [
      "a-b:  {1, 2, 3}\n",
      "b-a:  {8, 6, 7}\n"
     ]
    }
   ],
   "source": [
    "a={1,2,2,3,4,5}\n",
    "b={4,5,6,7,8,8}\n",
    "num1=a.difference(b)\n",
    "num2=b.difference(a)\n",
    "print('a-b: ',num1)\n",
    "print('b-a: ',num2)"
   ]
  },
  {
   "cell_type": "markdown",
   "id": "aedba6bf-d204-48b3-a419-54ed5004e8d4",
   "metadata": {},
   "source": [
    "Python Set intersection() Method\n",
    "---------------------------------\r",
    "The set.intersection() method returns a new set with the elements that are common in the given sets.\r",
    "\r",
    "Syntax:\r",
    "set.intersection(*other_sets)"
   ]
  },
  {
   "cell_type": "code",
   "execution_count": 23,
   "id": "7e8282ce-449f-4f6c-be67-475f781b099c",
   "metadata": {},
   "outputs": [
    {
     "name": "stdout",
     "output_type": "stream",
     "text": [
      "Common elements in x and y are:  {1, 3, 5}\n"
     ]
    }
   ],
   "source": [
    "x={1,2,3,4,5}\n",
    "y={1,3,5,7,9}\n",
    "z=x.intersection(y)\n",
    "print(\"Common elements in x and y are: \",z)"
   ]
  },
  {
   "cell_type": "code",
   "execution_count": 24,
   "id": "aeefd4da-8b5c-4cdc-ab78-6ae6e83dbfd2",
   "metadata": {},
   "outputs": [
    {
     "name": "stdout",
     "output_type": "stream",
     "text": [
      "Common elements:  {3, 5}\n"
     ]
    }
   ],
   "source": [
    "x={1,2,3,4,5}\n",
    "y={1,3,5,6,7,9}\n",
    "z={2,3,5,7}\n",
    "w=x.intersection(y,z)\n",
    "print('Common elements: ',w)"
   ]
  },
  {
   "cell_type": "markdown",
   "id": "61eed6cf-2371-42c9-86e9-f6b2f77cba87",
   "metadata": {},
   "source": [
    "Python Set union() Method\n",
    "---------------------------\r",
    "The set.union() method returns a new set with distinct elements from all the given sets.\r",
    "\r",
    "Syntax:\r",
    "A.union(*other_sets)"
   ]
  },
  {
   "cell_type": "code",
   "execution_count": 25,
   "id": "6cedc425-6599-4cc9-a68b-111944038e6e",
   "metadata": {},
   "outputs": [
    {
     "name": "stdout",
     "output_type": "stream",
     "text": [
      "The union of two sets is:  {1, 2, 3, 4, 5, 6, 7, 8}\n"
     ]
    }
   ],
   "source": [
    "num1={1,2,2,3,4,5}\n",
    "num2={4,5,6,7,7,8}\n",
    "distinct_nums=num1.union(num2)\n",
    "print('The union of two sets is: ',distinct_nums)"
   ]
  },
  {
   "cell_type": "code",
   "execution_count": 26,
   "id": "d23fd97a-babb-4909-b30b-52f2d863104a",
   "metadata": {},
   "outputs": [],
   "source": [
    "# Difference between remove and discard\n",
    "myset={'eight','five','four','one','seven','six','three','two'}"
   ]
  },
  {
   "cell_type": "code",
   "execution_count": 27,
   "id": "ba1500f6-4ae4-46cb-b14f-b5ec0e16dc5b",
   "metadata": {},
   "outputs": [
    {
     "ename": "KeyError",
     "evalue": "'NINE'",
     "output_type": "error",
     "traceback": [
      "\u001b[1;31m---------------------------------------------------------------------------\u001b[0m",
      "\u001b[1;31mKeyError\u001b[0m                                  Traceback (most recent call last)",
      "Cell \u001b[1;32mIn[27], line 1\u001b[0m\n\u001b[1;32m----> 1\u001b[0m myset\u001b[38;5;241m.\u001b[39mremove(\u001b[38;5;124m'\u001b[39m\u001b[38;5;124mNINE\u001b[39m\u001b[38;5;124m'\u001b[39m)\n\u001b[0;32m      2\u001b[0m myset\n",
      "\u001b[1;31mKeyError\u001b[0m: 'NINE'"
     ]
    }
   ],
   "source": [
    "myset.remove('NINE') # it shows error when element is non-existing \n",
    "myset"
   ]
  },
  {
   "cell_type": "code",
   "execution_count": 28,
   "id": "d5ef637e-1b83-4a09-8b11-1471df595d19",
   "metadata": {},
   "outputs": [
    {
     "data": {
      "text/plain": [
       "{'eight', 'five', 'four', 'one', 'seven', 'six', 'three', 'two'}"
      ]
     },
     "execution_count": 28,
     "metadata": {},
     "output_type": "execute_result"
    }
   ],
   "source": [
    "myset.discard('NINE') # it ignores if element doesnot exist\n",
    "myset"
   ]
  },
  {
   "cell_type": "code",
   "execution_count": 29,
   "id": "3a8cb7d2-2f4c-4d1c-a4c2-f65207d713be",
   "metadata": {},
   "outputs": [],
   "source": [
    "a={1,2,3,4,5}\n",
    "b={4,5,6,7,8}\n",
    "c={8,9,10}"
   ]
  },
  {
   "cell_type": "code",
   "execution_count": 30,
   "id": "4127771a-76f0-4b66-b08f-98cc4336b5b4",
   "metadata": {},
   "outputs": [
    {
     "data": {
      "text/plain": [
       "{1, 2, 3, 4, 5, 6, 7, 8}"
      ]
     },
     "execution_count": 30,
     "metadata": {},
     "output_type": "execute_result"
    }
   ],
   "source": [
    "a|b # union (another way)"
   ]
  },
  {
   "cell_type": "code",
   "execution_count": 31,
   "id": "888fcb79-08f8-4d2f-917b-378b48df156b",
   "metadata": {},
   "outputs": [
    {
     "data": {
      "text/plain": [
       "{1, 2, 3, 4, 5, 6, 7, 8, 9, 10}"
      ]
     },
     "execution_count": 31,
     "metadata": {},
     "output_type": "execute_result"
    }
   ],
   "source": [
    "a.union(b,c)"
   ]
  },
  {
   "cell_type": "code",
   "execution_count": 32,
   "id": "a6caffb4-40f1-400a-904a-8331bfe68db5",
   "metadata": {},
   "outputs": [
    {
     "data": {
      "text/plain": [
       "{4, 5}"
      ]
     },
     "execution_count": 32,
     "metadata": {},
     "output_type": "execute_result"
    }
   ],
   "source": [
    "a&b # intersection (another way)"
   ]
  },
  {
   "cell_type": "code",
   "execution_count": 1,
   "id": "9f597e3a-fc72-4d30-9509-2766f406f890",
   "metadata": {},
   "outputs": [
    {
     "data": {
      "text/plain": [
       "{1, 2, 3, 6, 7, 8}"
      ]
     },
     "execution_count": 1,
     "metadata": {},
     "output_type": "execute_result"
    }
   ],
   "source": [
    "# Symmetric Difference\n",
    "A={1,2,3,4,5}\n",
    "B={4,5,6,7,8}\n",
    "A^B "
   ]
  },
  {
   "cell_type": "code",
   "execution_count": 2,
   "id": "a5229929-8c5a-4740-9998-b3663f599912",
   "metadata": {},
   "outputs": [
    {
     "data": {
      "text/plain": [
       "{1, 2, 3, 6, 7, 8}"
      ]
     },
     "execution_count": 2,
     "metadata": {},
     "output_type": "execute_result"
    }
   ],
   "source": [
    "A.symmetric_difference(B)"
   ]
  },
  {
   "cell_type": "code",
   "execution_count": 3,
   "id": "31e173d7-3f15-4898-9288-c7e29bac78d9",
   "metadata": {},
   "outputs": [],
   "source": [
    "# Subset,Superset,Disjoint set\n",
    "A={1,2,3,4,5,6,7,8,9}\n",
    "B={3,4,5,6,7,8}\n",
    "C={10,20,30,40}"
   ]
  },
  {
   "cell_type": "code",
   "execution_count": 4,
   "id": "f460583c-2693-487d-96df-db8706f893fa",
   "metadata": {},
   "outputs": [
    {
     "data": {
      "text/plain": [
       "True"
      ]
     },
     "execution_count": 4,
     "metadata": {},
     "output_type": "execute_result"
    }
   ],
   "source": [
    "B.issubset(A) # set B is said to be subset of A"
   ]
  },
  {
   "cell_type": "code",
   "execution_count": 5,
   "id": "faf60e0f-fda4-4597-ab67-d6e8a3ef6c0c",
   "metadata": {},
   "outputs": [
    {
     "data": {
      "text/plain": [
       "True"
      ]
     },
     "execution_count": 5,
     "metadata": {},
     "output_type": "execute_result"
    }
   ],
   "source": [
    "A.issuperset(B) # Set A is said to be superset of B"
   ]
  },
  {
   "cell_type": "code",
   "execution_count": 6,
   "id": "f7f74813-b9c3-46f0-89d5-845c7dfb0427",
   "metadata": {},
   "outputs": [
    {
     "data": {
      "text/plain": [
       "True"
      ]
     },
     "execution_count": 6,
     "metadata": {},
     "output_type": "execute_result"
    }
   ],
   "source": [
    "C.isdisjoint(A) # no common elements present"
   ]
  },
  {
   "cell_type": "code",
   "execution_count": 7,
   "id": "4154925d-8895-4acb-a246-fde2d1a69a5a",
   "metadata": {},
   "outputs": [
    {
     "data": {
      "text/plain": [
       "False"
      ]
     },
     "execution_count": 7,
     "metadata": {},
     "output_type": "execute_result"
    }
   ],
   "source": [
    "B.isdisjoint(A)"
   ]
  },
  {
   "cell_type": "code",
   "execution_count": 8,
   "id": "d404f65b-02fc-4e38-b27e-517d76ac9ac5",
   "metadata": {},
   "outputs": [
    {
     "data": {
      "text/plain": [
       "{1, 2, 3, 4, 5, 6, 7, 8, 9}"
      ]
     },
     "execution_count": 8,
     "metadata": {},
     "output_type": "execute_result"
    }
   ],
   "source": [
    "A"
   ]
  },
  {
   "cell_type": "code",
   "execution_count": 9,
   "id": "a27fa7e1-b128-491d-a91b-2ea593e82ba5",
   "metadata": {},
   "outputs": [
    {
     "data": {
      "text/plain": [
       "45"
      ]
     },
     "execution_count": 9,
     "metadata": {},
     "output_type": "execute_result"
    }
   ],
   "source": [
    "sum(A)"
   ]
  },
  {
   "cell_type": "code",
   "execution_count": 10,
   "id": "a374d0ba-bf3f-4698-b78b-cd21f1336479",
   "metadata": {},
   "outputs": [
    {
     "data": {
      "text/plain": [
       "9"
      ]
     },
     "execution_count": 10,
     "metadata": {},
     "output_type": "execute_result"
    }
   ],
   "source": [
    "max(A)"
   ]
  },
  {
   "cell_type": "code",
   "execution_count": 11,
   "id": "cefe62b2-4aca-49a7-aede-c979cd903e47",
   "metadata": {},
   "outputs": [
    {
     "data": {
      "text/plain": [
       "1"
      ]
     },
     "execution_count": 11,
     "metadata": {},
     "output_type": "execute_result"
    }
   ],
   "source": [
    "min(A)"
   ]
  },
  {
   "cell_type": "code",
   "execution_count": 12,
   "id": "e262b399-6bb0-4cc3-929a-c4d48b0e4c67",
   "metadata": {},
   "outputs": [
    {
     "data": {
      "text/plain": [
       "9"
      ]
     },
     "execution_count": 12,
     "metadata": {},
     "output_type": "execute_result"
    }
   ],
   "source": [
    "len(A)"
   ]
  }
 ],
 "metadata": {
  "kernelspec": {
   "display_name": "Python 3 (ipykernel)",
   "language": "python",
   "name": "python3"
  },
  "language_info": {
   "codemirror_mode": {
    "name": "ipython",
    "version": 3
   },
   "file_extension": ".py",
   "mimetype": "text/x-python",
   "name": "python",
   "nbconvert_exporter": "python",
   "pygments_lexer": "ipython3",
   "version": "3.11.7"
  }
 },
 "nbformat": 4,
 "nbformat_minor": 5
}
