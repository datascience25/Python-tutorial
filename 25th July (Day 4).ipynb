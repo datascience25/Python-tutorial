{
 "cells": [
  {
   "cell_type": "code",
   "execution_count": 1,
   "id": "aceebf1d-082e-4934-ab18-9fc52dcadd42",
   "metadata": {},
   "outputs": [],
   "source": [
    "# Conditional statement along logical operator"
   ]
  },
  {
   "cell_type": "code",
   "execution_count": 2,
   "id": "7eb4284b-c76a-476b-a9f1-35286fb0090d",
   "metadata": {},
   "outputs": [
    {
     "name": "stdin",
     "output_type": "stream",
     "text": [
      "enter the number 4\n",
      "enter the number 3\n",
      "enter the number 8\n"
     ]
    },
    {
     "name": "stdout",
     "output_type": "stream",
     "text": [
      "c is greatest\n"
     ]
    }
   ],
   "source": [
    "# find the greatest among three numbers\n",
    "a=int(input('enter the number'))\n",
    "b=int(input('enter the number'))\n",
    "c=int(input('enter the number'))\n",
    "if a>b and a>c:\n",
    "    print('a is greatest')\n",
    "if b>a and b>c:\n",
    "    print('b is greatest')\n",
    "if c>a and c>b:\n",
    "    print('c is greatest')"
   ]
  },
  {
   "cell_type": "code",
   "execution_count": 3,
   "id": "22c67dae-c988-4a4c-9e81-a1a370ebd4be",
   "metadata": {},
   "outputs": [
    {
     "name": "stdin",
     "output_type": "stream",
     "text": [
      "enter the number 23\n",
      "enter the number 44\n",
      "enter the number 55\n"
     ]
    },
    {
     "name": "stdout",
     "output_type": "stream",
     "text": [
      "c is greatest\n"
     ]
    }
   ],
   "source": [
    "a=int(input('enter the number'))\n",
    "b=int(input('enter the number'))\n",
    "c=int(input('enter the number'))\n",
    "if a>b and a>c:\n",
    "    print('a is greatest')\n",
    "elif b>a and b>c:\n",
    "    print('b is greatest')\n",
    "else:\n",
    "    print('c is greatest')"
   ]
  },
  {
   "cell_type": "code",
   "execution_count": 4,
   "id": "635ff5b2-af33-4231-977e-3b07954d5cec",
   "metadata": {},
   "outputs": [
    {
     "name": "stdin",
     "output_type": "stream",
     "text": [
      "enter an alphabet I\n"
     ]
    },
    {
     "name": "stdout",
     "output_type": "stream",
     "text": [
      "Vowel\n"
     ]
    }
   ],
   "source": [
    "# check vowel or consonant\n",
    "ch=input('enter an alphabet')\n",
    "if ch=='a' or ch=='e' or ch=='i' or ch=='o' or ch=='u':\n",
    "    print('vowel')\n",
    "elif ch=='A' or ch=='E' or ch=='I' or ch=='O' or ch=='U':\n",
    "    print('Vowel')\n",
    "else:\n",
    "    print('consonant')"
   ]
  },
  {
   "cell_type": "code",
   "execution_count": 5,
   "id": "4c50594e-640e-42e2-85b5-a0722b6b3d05",
   "metadata": {},
   "outputs": [
    {
     "name": "stdin",
     "output_type": "stream",
     "text": [
      "enter the color code like \n",
      " r for Red \n",
      " g for Green \n",
      " y for yellow \n",
      " g\n"
     ]
    },
    {
     "name": "stdout",
     "output_type": "stream",
     "text": [
      "Move Forward\n"
     ]
    }
   ],
   "source": [
    "# traffic ligth\n",
    "ch=input('enter the color code like \\n r for Red \\n g for Green \\n y for yellow \\n')\n",
    "if ch=='r' or ch=='R':\n",
    "    print('STOP')\n",
    "elif ch=='y' or ch=='Y':\n",
    "    print('Get Ready')\n",
    "elif ch=='g' or ch=='G':\n",
    "    print('Move Forward')\n",
    "else:\n",
    "    print('Pay Chalaan')"
   ]
  },
  {
   "cell_type": "code",
   "execution_count": 6,
   "id": "fa9d4ab2-8e99-484e-8786-b2be373605fd",
   "metadata": {},
   "outputs": [
    {
     "name": "stdin",
     "output_type": "stream",
     "text": [
      "enter the alphabet q\n"
     ]
    },
    {
     "name": "stdout",
     "output_type": "stream",
     "text": [
      "consonant\n"
     ]
    }
   ],
   "source": [
    "ch=input('enter the alphabet')\n",
    "if ch in ['a','A','e','E','i','I','o','O','u','U']:\n",
    "    print('vowel')\n",
    "else:\n",
    "    print('consonant')"
   ]
  },
  {
   "cell_type": "code",
   "execution_count": 7,
   "id": "b30be199-e5a8-4ecf-9ac9-3f873917fb24",
   "metadata": {},
   "outputs": [
    {
     "name": "stdin",
     "output_type": "stream",
     "text": [
      "enter the color code like \n",
      " r for Red \n",
      " g for Green \n",
      " y for yellow \n",
      " r\n"
     ]
    },
    {
     "name": "stdout",
     "output_type": "stream",
     "text": [
      "STOP\n"
     ]
    }
   ],
   "source": [
    "ch=input('enter the color code like \\n r for Red \\n g for Green \\n y for yellow \\n')\n",
    "if ch in ['R','r']:\n",
    "    print('STOP')\n",
    "elif ch in ['Y','y']:\n",
    "    print('Get Ready')\n",
    "elif ch in ['G','g']:\n",
    "    print('Move Forward')\n",
    "else:\n",
    "    print('Pay Chalaan')"
   ]
  },
  {
   "cell_type": "code",
   "execution_count": 8,
   "id": "cf6e4edd-63b9-41a6-b920-c4fa0113419d",
   "metadata": {},
   "outputs": [
    {
     "name": "stdin",
     "output_type": "stream",
     "text": [
      "enter the enter 67\n",
      "enter the enter 56\n"
     ]
    },
    {
     "name": "stdout",
     "output_type": "stream",
     "text": [
      "1.ADD\n",
      "2.SUB\n",
      "3.MUL\n",
      "4.DIV\n"
     ]
    },
    {
     "name": "stdin",
     "output_type": "stream",
     "text": [
      "enter the choice from above 3\n"
     ]
    },
    {
     "name": "stdout",
     "output_type": "stream",
     "text": [
      "the mul is 3752\n"
     ]
    }
   ],
   "source": [
    "# mini calculator\n",
    "a=int(input('enter the enter'))\n",
    "b=int(input('enter the enter'))\n",
    "print('1.ADD')\n",
    "print('2.SUB')\n",
    "print('3.MUL')\n",
    "print('4.DIV')\n",
    "choice=int(input('enter the choice from above'))\n",
    "if choice==1:\n",
    "    print('the sum is',a+b)\n",
    "elif choice==2:\n",
    "    print('the sub is',a-b)\n",
    "elif choice==3:\n",
    "    print('the mul is',a*b)\n",
    "elif choice==4:\n",
    "    print('the div is',a/b)\n",
    "else:\n",
    "    print('invalid choice')"
   ]
  },
  {
   "cell_type": "code",
   "execution_count": 9,
   "id": "4ed39566-1ed2-474a-b66e-b15e790112c1",
   "metadata": {},
   "outputs": [
    {
     "name": "stdin",
     "output_type": "stream",
     "text": [
      "enter the number of units 350\n"
     ]
    },
    {
     "name": "stdout",
     "output_type": "stream",
     "text": [
      "amount to pay: 2000\n"
     ]
    }
   ],
   "source": [
    "# calculate the electricity bill\n",
    "amt=0\n",
    "nu=int(input('enter the number of units'))\n",
    "if nu<=100:\n",
    "    amt=0\n",
    "if nu>100:\n",
    "    amt=(nu-100)*5\n",
    "if nu>200:\n",
    "    amt=500+(nu-200)*10\n",
    "print('amount to pay:',amt) # 100--0 100--500 150*10=1500"
   ]
  },
  {
   "cell_type": "code",
   "execution_count": 10,
   "id": "b5bd2a5a-b029-436a-88c8-ec0f98a6f510",
   "metadata": {},
   "outputs": [
    {
     "name": "stdin",
     "output_type": "stream",
     "text": [
      "enter length 23\n",
      "enter breadth 23\n"
     ]
    },
    {
     "name": "stdout",
     "output_type": "stream",
     "text": [
      "yes,it is square\n",
      "the area of sqaure is 529\n"
     ]
    }
   ],
   "source": [
    "# take values of length and breadth of a rectangle from user and check if it is square \n",
    "length=int(input('enter length'))\n",
    "breadth=int(input('enter breadth'))\n",
    "if length==breadth:\n",
    "    print('yes,it is square')\n",
    "    print('the area of sqaure is',length**2)\n",
    "else:\n",
    "    print('No, it is only rectangle')\n",
    "    print('the area of rectangle is',length*breadth)"
   ]
  },
  {
   "cell_type": "code",
   "execution_count": 11,
   "id": "d7285aae-9860-4fc4-8467-cc7951ea1a3d",
   "metadata": {},
   "outputs": [
    {
     "name": "stdin",
     "output_type": "stream",
     "text": [
      "enter the number 456\n",
      "enter the number 345\n",
      "enter the number 278\n"
     ]
    },
    {
     "name": "stdout",
     "output_type": "stream",
     "text": [
      "A is greatest\n"
     ]
    }
   ],
   "source": [
    "# nested if\n",
    "# greatest among three numbers\n",
    "a=int(input('enter the number'))\n",
    "b=int(input('enter the number'))\n",
    "c=int(input('enter the number'))\n",
    "if a>b:\n",
    "    if a>c:\n",
    "        print('A is greatest')\n",
    "    else:\n",
    "        print('C is greatest')\n",
    "else:\n",
    "    if b>c:\n",
    "        print('B is greatest')\n",
    "    else:\n",
    "       print('C is greatest') "
   ]
  }
 ],
 "metadata": {
  "kernelspec": {
   "display_name": "Python 3 (ipykernel)",
   "language": "python",
   "name": "python3"
  },
  "language_info": {
   "codemirror_mode": {
    "name": "ipython",
    "version": 3
   },
   "file_extension": ".py",
   "mimetype": "text/x-python",
   "name": "python",
   "nbconvert_exporter": "python",
   "pygments_lexer": "ipython3",
   "version": "3.11.7"
  }
 },
 "nbformat": 4,
 "nbformat_minor": 5
}
