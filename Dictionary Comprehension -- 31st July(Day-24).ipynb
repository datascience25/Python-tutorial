{
 "cells": [
  {
   "cell_type": "markdown",
   "id": "fd998053-65ab-4381-aa1c-87b3adcf2d72",
   "metadata": {},
   "source": [
    "DICTIONARY COMPREHENSION\n",
    "---------------------------"
   ]
  },
  {
   "cell_type": "code",
   "execution_count": 1,
   "id": "5ed3b36c-ed2b-4b97-865b-ae45ab2377d2",
   "metadata": {},
   "outputs": [],
   "source": [
    "# key:value for var in iterable"
   ]
  },
  {
   "cell_type": "code",
   "execution_count": 2,
   "id": "b84c704d-5c01-4783-aa20-412cc9f58c10",
   "metadata": {},
   "outputs": [
    {
     "data": {
      "text/plain": [
       "{0: 0, 1: 2, 2: 4, 3: 6, 4: 8, 5: 10, 6: 12, 7: 14, 8: 16, 9: 18}"
      ]
     },
     "execution_count": 2,
     "metadata": {},
     "output_type": "execute_result"
    }
   ],
   "source": [
    "double={i:i*2 for i in range(10)}\n",
    "double"
   ]
  },
  {
   "cell_type": "code",
   "execution_count": 3,
   "id": "a1b63ac3-a50b-40a8-a940-20072c44fa16",
   "metadata": {},
   "outputs": [
    {
     "data": {
      "text/plain": [
       "{0: 0, 1: 1, 2: 4, 3: 9, 4: 16, 5: 25, 6: 36, 7: 49, 8: 64, 9: 81}"
      ]
     },
     "execution_count": 3,
     "metadata": {},
     "output_type": "execute_result"
    }
   ],
   "source": [
    "sq={i:i*i for i in range(10)}\n",
    "sq"
   ]
  },
  {
   "cell_type": "code",
   "execution_count": 4,
   "id": "43f10bd3-b75e-4c79-b93f-12d582e60a20",
   "metadata": {},
   "outputs": [
    {
     "data": {
      "text/plain": [
       "[('one', 1), ('two', 2), ('three', 3), ('four', 4), ('five', 5)]"
      ]
     },
     "execution_count": 4,
     "metadata": {},
     "output_type": "execute_result"
    }
   ],
   "source": [
    "key=['one','two','three','four','five']\n",
    "value=[1,2,3,4,5]\n",
    "list(zip(key,value))"
   ]
  },
  {
   "cell_type": "code",
   "execution_count": 5,
   "id": "96623215-5c61-4941-910c-9025d8603eba",
   "metadata": {},
   "outputs": [
    {
     "name": "stdout",
     "output_type": "stream",
     "text": [
      "one 1\n",
      "two 2\n",
      "three 3\n",
      "four 4\n",
      "five 5\n"
     ]
    }
   ],
   "source": [
    "for (k,v) in zip(key,value):\n",
    "    print(k,v)"
   ]
  },
  {
   "cell_type": "code",
   "execution_count": 7,
   "id": "9223c136-c1dd-4384-9070-e21b23eed501",
   "metadata": {},
   "outputs": [
    {
     "data": {
      "text/plain": [
       "{'one': 1, 'two': 2, 'three': 3, 'four': 4, 'five': 5}"
      ]
     },
     "execution_count": 7,
     "metadata": {},
     "output_type": "execute_result"
    }
   ],
   "source": [
    "mydict={k:v for (k,v) in zip(key,value)}\n",
    "mydict"
   ]
  },
  {
   "cell_type": "code",
   "execution_count": 8,
   "id": "57531de4-a069-4ca9-82ce-f9fb4df1cd74",
   "metadata": {},
   "outputs": [
    {
     "data": {
      "text/plain": [
       "{'a': 1.0, 'b': 2.0, 'c': 3.0, 'd': 4.0, 'e': 5.0}"
      ]
     },
     "execution_count": 8,
     "metadata": {},
     "output_type": "execute_result"
    }
   ],
   "source": [
    "mydict1={'a':10,'b':20,'c':30,'d':40,'e':50}\n",
    "mydict1={k:v/10 for (k,v) in mydict1.items()}\n",
    "mydict1"
   ]
  },
  {
   "cell_type": "code",
   "execution_count": 9,
   "id": "51744534-2f81-477f-b615-339cd6d47bba",
   "metadata": {},
   "outputs": [
    {
     "name": "stdout",
     "output_type": "stream",
     "text": [
      "{0: 'N', 1: 'a', 2: 't', 3: 'u', 4: 'r', 5: 'a', 6: 'l', 7: ' ', 8: 'L', 9: 'a', 10: 'n', 11: 'g', 12: 'u', 13: 'a', 14: 'g', 15: 'e', 16: ' ', 17: 'P', 18: 'r', 19: 'o', 20: 'c', 21: 'e', 22: 's', 23: 's', 24: 'i', 25: 'n', 26: 'g'} "
     ]
    }
   ],
   "source": [
    "str=\"Natural Language Processing\"\n",
    "mydict2={k:v for (k,v) in enumerate(str)}\n",
    "print(mydict2,end=\" \")"
   ]
  },
  {
   "cell_type": "code",
   "execution_count": 11,
   "id": "ab438ead-4504-4d26-918e-527753288aa3",
   "metadata": {},
   "outputs": [
    {
     "data": {
      "text/plain": [
       "{'a': 'A',\n",
       " 'b': 'B',\n",
       " 'c': 'C',\n",
       " 'd': 'D',\n",
       " 'e': 'E',\n",
       " 'f': 'F',\n",
       " 'g': 'G',\n",
       " 'h': 'H',\n",
       " 'i': 'I',\n",
       " 'j': 'J',\n",
       " 'k': 'K',\n",
       " 'l': 'L',\n",
       " 'm': 'M',\n",
       " 'n': 'N',\n",
       " 'o': 'O',\n",
       " 'p': 'P',\n",
       " 'q': 'Q',\n",
       " 'r': 'R',\n",
       " 's': 'S',\n",
       " 't': 'T',\n",
       " 'u': 'U',\n",
       " 'v': 'V',\n",
       " 'w': 'W',\n",
       " 'x': 'X',\n",
       " 'y': 'Y',\n",
       " 'z': 'Z'}"
      ]
     },
     "execution_count": 11,
     "metadata": {},
     "output_type": "execute_result"
    }
   ],
   "source": [
    "# convert all the english alphabet from lower to upper case\n",
    "str1=\"abcdefghijklmnopqrstuvwxyz\"\n",
    "mydict3={i:i.upper() for i in str1}\n",
    "mydict3"
   ]
  }
 ],
 "metadata": {
  "kernelspec": {
   "display_name": "Python 3 (ipykernel)",
   "language": "python",
   "name": "python3"
  },
  "language_info": {
   "codemirror_mode": {
    "name": "ipython",
    "version": 3
   },
   "file_extension": ".py",
   "mimetype": "text/x-python",
   "name": "python",
   "nbconvert_exporter": "python",
   "pygments_lexer": "ipython3",
   "version": "3.11.7"
  }
 },
 "nbformat": 4,
 "nbformat_minor": 5
}
