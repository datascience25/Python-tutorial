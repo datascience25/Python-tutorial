{
 "cells": [
  {
   "cell_type": "code",
   "execution_count": 1,
   "id": "e678aa8d-44c3-4fb6-93da-643328c8a237",
   "metadata": {},
   "outputs": [],
   "source": [
    "# Assignment, Comparison, Logical and Runtime programs "
   ]
  },
  {
   "cell_type": "code",
   "execution_count": 2,
   "id": "b738852a-843e-4729-b556-bf8c4f929c38",
   "metadata": {},
   "outputs": [],
   "source": [
    "a=20\n",
    "b=20"
   ]
  },
  {
   "cell_type": "code",
   "execution_count": 3,
   "id": "45009fe1-b796-4971-9a79-049866ddbf59",
   "metadata": {},
   "outputs": [
    {
     "data": {
      "text/plain": [
       "True"
      ]
     },
     "execution_count": 3,
     "metadata": {},
     "output_type": "execute_result"
    }
   ],
   "source": [
    "a==b"
   ]
  },
  {
   "cell_type": "code",
   "execution_count": 4,
   "id": "9d4475ce-8b4a-4385-bc3c-9b1e14d435a3",
   "metadata": {},
   "outputs": [
    {
     "data": {
      "text/plain": [
       "False"
      ]
     },
     "execution_count": 4,
     "metadata": {},
     "output_type": "execute_result"
    }
   ],
   "source": [
    "a>b"
   ]
  },
  {
   "cell_type": "code",
   "execution_count": 5,
   "id": "40f33ae0-fd42-4832-aeb9-9efd0ed025e7",
   "metadata": {},
   "outputs": [
    {
     "data": {
      "text/plain": [
       "False"
      ]
     },
     "execution_count": 5,
     "metadata": {},
     "output_type": "execute_result"
    }
   ],
   "source": [
    "a<b"
   ]
  },
  {
   "cell_type": "code",
   "execution_count": 6,
   "id": "62d9b442-f26f-420c-9f01-3a4ab50bd8f5",
   "metadata": {},
   "outputs": [
    {
     "data": {
      "text/plain": [
       "True"
      ]
     },
     "execution_count": 6,
     "metadata": {},
     "output_type": "execute_result"
    }
   ],
   "source": [
    "a<=b"
   ]
  },
  {
   "cell_type": "code",
   "execution_count": 7,
   "id": "3cce8a83-c170-405e-abd5-417ad80bb041",
   "metadata": {},
   "outputs": [
    {
     "data": {
      "text/plain": [
       "True"
      ]
     },
     "execution_count": 7,
     "metadata": {},
     "output_type": "execute_result"
    }
   ],
   "source": [
    "a>=b"
   ]
  },
  {
   "cell_type": "code",
   "execution_count": 8,
   "id": "75733357-8cc8-478b-b977-e652ad8020ae",
   "metadata": {},
   "outputs": [
    {
     "data": {
      "text/plain": [
       "False"
      ]
     },
     "execution_count": 8,
     "metadata": {},
     "output_type": "execute_result"
    }
   ],
   "source": [
    "a=5\n",
    "a==6"
   ]
  },
  {
   "cell_type": "code",
   "execution_count": 9,
   "id": "06cf0499-a56f-4b48-a7dd-63d15531fa6e",
   "metadata": {},
   "outputs": [
    {
     "data": {
      "text/plain": [
       "True"
      ]
     },
     "execution_count": 9,
     "metadata": {},
     "output_type": "execute_result"
    }
   ],
   "source": [
    "a=9\n",
    "a==9"
   ]
  },
  {
   "cell_type": "code",
   "execution_count": 10,
   "id": "fe030882-6482-49c3-bfa9-aba386882db8",
   "metadata": {},
   "outputs": [
    {
     "data": {
      "text/plain": [
       "True"
      ]
     },
     "execution_count": 10,
     "metadata": {},
     "output_type": "execute_result"
    }
   ],
   "source": [
    "# Logical operator\n",
    "True and True and True"
   ]
  },
  {
   "cell_type": "code",
   "execution_count": 11,
   "id": "1ca25594-0f8a-4366-94d7-376bfcfda15b",
   "metadata": {},
   "outputs": [
    {
     "data": {
      "text/plain": [
       "False"
      ]
     },
     "execution_count": 11,
     "metadata": {},
     "output_type": "execute_result"
    }
   ],
   "source": [
    "True and True and False"
   ]
  },
  {
   "cell_type": "code",
   "execution_count": 12,
   "id": "7847ceff-3674-4e71-b109-fab962bb5d9a",
   "metadata": {},
   "outputs": [
    {
     "data": {
      "text/plain": [
       "True"
      ]
     },
     "execution_count": 12,
     "metadata": {},
     "output_type": "execute_result"
    }
   ],
   "source": [
    "True or True or False"
   ]
  },
  {
   "cell_type": "code",
   "execution_count": 13,
   "id": "e44585e6-aa3b-4474-8671-0884acde16f9",
   "metadata": {},
   "outputs": [
    {
     "data": {
      "text/plain": [
       "False"
      ]
     },
     "execution_count": 13,
     "metadata": {},
     "output_type": "execute_result"
    }
   ],
   "source": [
    "False or False or False"
   ]
  },
  {
   "cell_type": "code",
   "execution_count": 14,
   "id": "52b06514-bae3-4612-8ae1-1183c3581447",
   "metadata": {},
   "outputs": [
    {
     "data": {
      "text/plain": [
       "True"
      ]
     },
     "execution_count": 14,
     "metadata": {},
     "output_type": "execute_result"
    }
   ],
   "source": [
    "False or False or True"
   ]
  },
  {
   "cell_type": "code",
   "execution_count": 15,
   "id": "f6e7b39b-1666-4d7a-a043-ce244bf40f6b",
   "metadata": {},
   "outputs": [
    {
     "data": {
      "text/plain": [
       "False"
      ]
     },
     "execution_count": 15,
     "metadata": {},
     "output_type": "execute_result"
    }
   ],
   "source": [
    "not True"
   ]
  },
  {
   "cell_type": "code",
   "execution_count": 16,
   "id": "06d0939a-7fa2-4e16-ba40-381b7401c627",
   "metadata": {},
   "outputs": [
    {
     "data": {
      "text/plain": [
       "True"
      ]
     },
     "execution_count": 16,
     "metadata": {},
     "output_type": "execute_result"
    }
   ],
   "source": [
    "not False"
   ]
  },
  {
   "cell_type": "code",
   "execution_count": 17,
   "id": "37b09295-a58c-43b6-90fc-c40a33cbc0e7",
   "metadata": {},
   "outputs": [
    {
     "data": {
      "text/plain": [
       "True"
      ]
     },
     "execution_count": 17,
     "metadata": {},
     "output_type": "execute_result"
    }
   ],
   "source": [
    "not True and True or False or True and True "
   ]
  },
  {
   "cell_type": "code",
   "execution_count": 18,
   "id": "b59812ec-0220-4fda-a9fc-b47db7e030c3",
   "metadata": {},
   "outputs": [
    {
     "name": "stdin",
     "output_type": "stream",
     "text": [
      "enter the value of a 21\n",
      "enter the value of b 45\n"
     ]
    },
    {
     "name": "stdout",
     "output_type": "stream",
     "text": [
      "the sum is 66\n"
     ]
    }
   ],
   "source": [
    "# runtime value programs\n",
    "# sum of two numbers\n",
    "a=int(input(\"enter the value of a\"))\n",
    "b=int(input(\"enter the value of b\"))\n",
    "c=a+b\n",
    "print(\"the sum is\",c)"
   ]
  },
  {
   "cell_type": "code",
   "execution_count": 19,
   "id": "385e29e9-4460-456e-a4d7-68d6c89b6417",
   "metadata": {},
   "outputs": [
    {
     "name": "stdin",
     "output_type": "stream",
     "text": [
      "enter the value of the principle 23000\n",
      "enter the value of rate 3\n",
      "enter the value of time 4\n"
     ]
    },
    {
     "name": "stdout",
     "output_type": "stream",
     "text": [
      "the interest is 2760.0\n"
     ]
    }
   ],
   "source": [
    "p=int(input(\"enter the value of the principle\"))\n",
    "r=int(input(\"enter the value of rate\"))\n",
    "t=int(input(\"enter the value of time\"))\n",
    "si=p*r*t/100\n",
    "print(\"the interest is\",si)"
   ]
  },
  {
   "cell_type": "code",
   "execution_count": 20,
   "id": "9acdc374-3fc6-40b3-94ee-5fe2ddae33ec",
   "metadata": {},
   "outputs": [
    {
     "name": "stdin",
     "output_type": "stream",
     "text": [
      "enter the value of a 87\n",
      "enter the value of b 65\n",
      "enter the value of c 44\n"
     ]
    },
    {
     "name": "stdout",
     "output_type": "stream",
     "text": [
      "the average is  65.33333333333333\n"
     ]
    }
   ],
   "source": [
    "a=int(input(\"enter the value of a\"))\n",
    "b=int(input(\"enter the value of b\"))\n",
    "c=int(input(\"enter the value of c\"))\n",
    "avg=(a+b+c)/3\n",
    "print(\"the average is \",avg)"
   ]
  },
  {
   "cell_type": "code",
   "execution_count": 21,
   "id": "2fa7aa31-1227-4f91-8bcb-f544736b0fe9",
   "metadata": {},
   "outputs": [
    {
     "name": "stdin",
     "output_type": "stream",
     "text": [
      "enter the marks 78.6\n",
      "enter the marks 66\n",
      "enter the marks 45.6\n",
      "enter the marks 78.6\n",
      "enter the marks 87.5\n"
     ]
    },
    {
     "name": "stdout",
     "output_type": "stream",
     "text": [
      "the percentage is 71.25999999999999\n"
     ]
    }
   ],
   "source": [
    "p=float(input(\"enter the marks\"))\n",
    "h=float(input(\"enter the marks\"))\n",
    "m=float(input(\"enter the marks\"))\n",
    "e=float(input(\"enter the marks\"))\n",
    "c=float(input(\"enter the marks\"))\n",
    "s=p+h+m+e+c\n",
    "per=s*100/500\n",
    "print(\"the percentage is\",per)"
   ]
  },
  {
   "cell_type": "code",
   "execution_count": 22,
   "id": "65957bbb-64a9-4bd2-a75a-b72e400b7194",
   "metadata": {},
   "outputs": [
    {
     "name": "stdin",
     "output_type": "stream",
     "text": [
      "x 8\n",
      "y 6\n"
     ]
    },
    {
     "name": "stdout",
     "output_type": "stream",
     "text": [
      "Is x greater than y :- True\n",
      "Is x less than y :- False\n",
      "\n",
      " Is x equal to y :- False\n",
      "\n",
      " Is x not equal to y :- True\n",
      "Is x greater than or equal to y :- True\n",
      "Is x less than or equal to y :- False\n"
     ]
    }
   ],
   "source": [
    "x=int(input(\"x\"))\n",
    "y=int(input(\"y\"))\n",
    "print('Is x greater than y :-',x>y)\n",
    "print('Is x less than y :-',x<y)\n",
    "print('\\n Is x equal to y :-',x==y)\n",
    "print('\\n Is x not equal to y :-',x!=y)\n",
    "print('Is x greater than or equal to y :-',x>=y)\n",
    "print('Is x less than or equal to y :-',x<=y)"
   ]
  },
  {
   "cell_type": "code",
   "execution_count": 23,
   "id": "c3fb193b-5fca-49bd-97ca-dff060ea7065",
   "metadata": {},
   "outputs": [
    {
     "name": "stdin",
     "output_type": "stream",
     "text": [
      "enter the number:  121\n"
     ]
    },
    {
     "name": "stdout",
     "output_type": "stream",
     "text": [
      "11.0\n"
     ]
    }
   ],
   "source": [
    "import math\n",
    "n=int(input(\"enter the number: \"))\n",
    "x=math.sqrt(n)\n",
    "print(x)"
   ]
  },
  {
   "cell_type": "code",
   "execution_count": 24,
   "id": "8d52d655-2863-41b3-9ef0-d7f276adcc5f",
   "metadata": {},
   "outputs": [
    {
     "name": "stdin",
     "output_type": "stream",
     "text": [
      "enter the number:  16\n"
     ]
    },
    {
     "name": "stdout",
     "output_type": "stream",
     "text": [
      "4.0\n"
     ]
    }
   ],
   "source": [
    "n=int(input(\"enter the number: \"))\n",
    "x=math.sqrt(n)\n",
    "print(x)"
   ]
  },
  {
   "cell_type": "code",
   "execution_count": 25,
   "id": "94b606cb-065d-496e-98a3-26c75a8492df",
   "metadata": {},
   "outputs": [
    {
     "name": "stdin",
     "output_type": "stream",
     "text": [
      "enter the value of base:  7\n",
      "enter the value of exponent:  5\n"
     ]
    },
    {
     "name": "stdout",
     "output_type": "stream",
     "text": [
      "16807\n",
      "16807\n",
      "16807.0\n"
     ]
    }
   ],
   "source": [
    "a=int(input(\"enter the value of base: \"))\n",
    "b=int(input(\"enter the value of exponent: \"))\n",
    "print(a**b)\n",
    "print(pow(a,b))\n",
    "print(math.pow(a,b)) # gives float value"
   ]
  }
 ],
 "metadata": {
  "kernelspec": {
   "display_name": "Python 3 (ipykernel)",
   "language": "python",
   "name": "python3"
  },
  "language_info": {
   "codemirror_mode": {
    "name": "ipython",
    "version": 3
   },
   "file_extension": ".py",
   "mimetype": "text/x-python",
   "name": "python",
   "nbconvert_exporter": "python",
   "pygments_lexer": "ipython3",
   "version": "3.11.7"
  }
 },
 "nbformat": 4,
 "nbformat_minor": 5
}
