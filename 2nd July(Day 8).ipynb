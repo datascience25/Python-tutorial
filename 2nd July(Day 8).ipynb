{
 "cells": [
  {
   "cell_type": "code",
   "execution_count": 1,
   "id": "ba6decfa-c96e-4013-8714-f53d6aef8e31",
   "metadata": {},
   "outputs": [
    {
     "data": {
      "text/plain": [
       "True"
      ]
     },
     "execution_count": 1,
     "metadata": {},
     "output_type": "execute_result"
    }
   ],
   "source": [
    "# Iterator loop (FOR)\n",
    "# practice file \n",
    "a=\"hello world\"\n",
    "\"r\" in a"
   ]
  },
  {
   "cell_type": "code",
   "execution_count": 2,
   "id": "9a95e872-19b1-4887-bd0f-73c7531d9193",
   "metadata": {},
   "outputs": [
    {
     "name": "stdout",
     "output_type": "stream",
     "text": [
      "bye\n",
      "2\n",
      "bye\n",
      "4\n",
      "56\n",
      "bye\n"
     ]
    }
   ],
   "source": [
    "a=(1,2,3,4,56,7)\n",
    "for i in a:\n",
    "    if i%2==0:\n",
    "        print(i)\n",
    "    else:\n",
    "        print(\"bye\")"
   ]
  },
  {
   "cell_type": "code",
   "execution_count": 3,
   "id": "dd0f4a61-d334-40d1-b26b-69f19d61cc26",
   "metadata": {},
   "outputs": [
    {
     "name": "stdout",
     "output_type": "stream",
     "text": [
      "\n",
      "a\n",
      "aa\n",
      "aaa\n",
      "aaaa\n"
     ]
    }
   ],
   "source": [
    "s1='a'\n",
    "for i in range(5):\n",
    "    print(s1*i)"
   ]
  },
  {
   "cell_type": "code",
   "execution_count": 6,
   "id": "4cf5f8b2-0da9-41b9-aa3c-b7070bd8e621",
   "metadata": {},
   "outputs": [
    {
     "name": "stdout",
     "output_type": "stream",
     "text": [
      "I@I@T@ @M@a@d@a@r@a@s@"
     ]
    }
   ],
   "source": [
    "st=\"IIT Madaras\"\n",
    "for t in st:\n",
    "    print(t,end=\"@\") # \\n new line \\t for tabbed spaces"
   ]
  },
  {
   "cell_type": "code",
   "execution_count": 8,
   "id": "375312d5-4d65-4acb-ab7e-eb93bc6711b0",
   "metadata": {},
   "outputs": [
    {
     "name": "stdout",
     "output_type": "stream",
     "text": [
      "e\n",
      "o\n",
      "e\n",
      "e\n",
      "o\n",
      "e\n",
      "o\n",
      "a\n",
      "e\n",
      "o\n",
      "u\n"
     ]
    }
   ],
   "source": [
    "a=\"hello everyone, how are you?\"\n",
    "vowel=[\"a\",\"e\",\"i\",\"o\",\"u\"]\n",
    "for i in a:\n",
    "    if i in vowel:\n",
    "        print(i)"
   ]
  },
  {
   "cell_type": "code",
   "execution_count": 13,
   "id": "5c015262-f036-4bb1-b80e-17eff8a10b51",
   "metadata": {},
   "outputs": [
    {
     "name": "stdout",
     "output_type": "stream",
     "text": [
      "good one\n",
      "good one\n",
      "data science\n"
     ]
    }
   ],
   "source": [
    "word=\"hello1\"\n",
    "for w in word:\n",
    "    if w==\"l\":\n",
    "        print(\"good one\")\n",
    "else:\n",
    "    print(\"data science\")"
   ]
  },
  {
   "cell_type": "code",
   "execution_count": 14,
   "id": "12db29b6-7fa1-452c-98b5-273cc806f39d",
   "metadata": {},
   "outputs": [
    {
     "name": "stdout",
     "output_type": "stream",
     "text": [
      "a\n",
      "hello\n",
      "r\n",
      "hello\n",
      "that's great\n",
      "p\n",
      "hello\n",
      "i\n",
      "hello\n",
      "t\n",
      "hello\n",
      "t\n"
     ]
    }
   ],
   "source": [
    "name=\"arpit\"\n",
    "for i in name:\n",
    "    if i==\"p\":\n",
    "        print(\"that's great\")\n",
    "    print(i)\n",
    "    print(\"hello\")\n",
    "print(i)"
   ]
  },
  {
   "cell_type": "code",
   "execution_count": 15,
   "id": "67488cda-14f6-471a-bac5-a668f393856e",
   "metadata": {},
   "outputs": [
    {
     "name": "stdout",
     "output_type": "stream",
     "text": [
      "good\n",
      "even 2\n",
      "good\n",
      "good\n",
      "even 4\n",
      "good\n",
      "good\n",
      "even 6\n",
      "good\n",
      "good\n",
      "even 8\n",
      "good\n",
      "good\n"
     ]
    }
   ],
   "source": [
    "a=[1,2,3,4,5,6,7,8,9]\n",
    "for i in a:\n",
    "    if i%2==0:\n",
    "        print(\"even\",i)\n",
    "    print(\"good\")"
   ]
  },
  {
   "cell_type": "code",
   "execution_count": 16,
   "id": "15ea3b79-3941-4d8f-8018-47a780c3de94",
   "metadata": {},
   "outputs": [
    {
     "name": "stdout",
     "output_type": "stream",
     "text": [
      "the sum of even number is 2450\n",
      "the sum of odd number is 2500\n"
     ]
    }
   ],
   "source": [
    "# even and odd number sum \n",
    "se=0\n",
    "so=0\n",
    "for i in range(1,100):\n",
    "    if i%2==0:\n",
    "        se=se+i\n",
    "    else:\n",
    "        so=so+i\n",
    "print(\"the sum of even number is\",se)\n",
    "print(\"the sum of odd number is\",so)"
   ]
  },
  {
   "cell_type": "code",
   "execution_count": 17,
   "id": "46d99834-e17e-4f04-96e3-2721c8baaa90",
   "metadata": {},
   "outputs": [
    {
     "name": "stdout",
     "output_type": "stream",
     "text": [
      "11 22 33 44 55 66 77 88 99 101 111 121 131 141 151 161 171 181 191 202 212 222 232 242 252 262 272 282 292 303 313 323 333 343 353 363 373 383 393 404 414 424 434 444 454 464 474 484 494 505 515 525 535 545 555 565 575 585 595 606 616 626 636 646 656 666 676 686 696 707 717 727 737 747 757 767 777 787 797 808 818 828 838 848 858 868 878 888 898 909 919 929 939 949 959 969 979 989 999 "
     ]
    }
   ],
   "source": [
    "# print all palindrome number from 11-999\n",
    "for i in range(11,1000):\n",
    "    n=i\n",
    "    rev=0\n",
    "    while n>0:\n",
    "        rem=n%10\n",
    "        rev=rev*10+rem\n",
    "        n=n//10\n",
    "    if rev==i:\n",
    "        print(i,end=\" \")"
   ]
  },
  {
   "cell_type": "code",
   "execution_count": null,
   "id": "fd69cbca-6671-463a-9225-57eed4df885d",
   "metadata": {},
   "outputs": [],
   "source": []
  }
 ],
 "metadata": {
  "kernelspec": {
   "display_name": "Python 3 (ipykernel)",
   "language": "python",
   "name": "python3"
  },
  "language_info": {
   "codemirror_mode": {
    "name": "ipython",
    "version": 3
   },
   "file_extension": ".py",
   "mimetype": "text/x-python",
   "name": "python",
   "nbconvert_exporter": "python",
   "pygments_lexer": "ipython3",
   "version": "3.11.7"
  }
 },
 "nbformat": 4,
 "nbformat_minor": 5
}
