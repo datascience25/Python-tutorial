{
 "cells": [
  {
   "cell_type": "markdown",
   "id": "dd7a744b-2d12-42a3-bc2f-3870ec0c48f2",
   "metadata": {},
   "source": [
    "Function \n",
    "---------\n",
    "A short snippet of code.\n",
    "There are following types of function available:\n",
    "1. Default\n",
    "2. Argument\n",
    "3. Return type\n",
    "4. Placeholder"
   ]
  },
  {
   "cell_type": "markdown",
   "id": "0e980e87-1f55-4035-b35c-9e775c7058c0",
   "metadata": {},
   "source": [
    "Default Function\n",
    "-----------------"
   ]
  },
  {
   "cell_type": "code",
   "execution_count": 2,
   "id": "57dfc6a9-8bd8-42a0-8a55-0aee26919712",
   "metadata": {},
   "outputs": [],
   "source": [
    "# syntax --- def function_name(): # function definition\n",
    "#                     logic/statement\n",
    "#function_name() # calling"
   ]
  },
  {
   "cell_type": "code",
   "execution_count": 3,
   "id": "d6736d57-220e-4cbe-8e60-2c67c1331990",
   "metadata": {},
   "outputs": [],
   "source": [
    "def addition():\n",
    "    a=int(input(\"enter the number: \"))\n",
    "    b=int(input(\"enter the number: \"))\n",
    "    c=a+b\n",
    "    print(\"the sum is: \",c)"
   ]
  },
  {
   "cell_type": "code",
   "execution_count": 4,
   "id": "571e4e7f-e14b-4c7e-969c-40d3e224d955",
   "metadata": {},
   "outputs": [
    {
     "name": "stdin",
     "output_type": "stream",
     "text": [
      "enter the number:  12\n",
      "enter the number:  34\n"
     ]
    },
    {
     "name": "stdout",
     "output_type": "stream",
     "text": [
      "the sum is:  46\n"
     ]
    }
   ],
   "source": [
    "addition()"
   ]
  },
  {
   "cell_type": "code",
   "execution_count": 5,
   "id": "582fe079-fc53-491f-a960-db7c25e5d8ff",
   "metadata": {},
   "outputs": [
    {
     "name": "stdin",
     "output_type": "stream",
     "text": [
      "enter the number:  45\n",
      "enter the number:  67\n"
     ]
    },
    {
     "name": "stdout",
     "output_type": "stream",
     "text": [
      "the sum is:  112\n"
     ]
    }
   ],
   "source": [
    "addition()"
   ]
  },
  {
   "cell_type": "code",
   "execution_count": 6,
   "id": "198860dd-918d-4988-b859-62d414eb4f5e",
   "metadata": {},
   "outputs": [],
   "source": [
    "def simple_interest():\n",
    "    p=int(input(\"enter the value of the principle\"))\n",
    "    r=int(input(\"enter the value of rate\"))\n",
    "    t=int(input(\"enter the value of time\"))\n",
    "    si=p*r*t/100\n",
    "    print(\"the interest is\",si)   "
   ]
  },
  {
   "cell_type": "code",
   "execution_count": 7,
   "id": "e68c576b-06f0-45a4-8158-58715e363a36",
   "metadata": {},
   "outputs": [
    {
     "name": "stdin",
     "output_type": "stream",
     "text": [
      "enter the value of the principle 20000\n",
      "enter the value of rate 3\n",
      "enter the value of time 5\n"
     ]
    },
    {
     "name": "stdout",
     "output_type": "stream",
     "text": [
      "the interest is 3000.0\n"
     ]
    }
   ],
   "source": [
    "simple_interest()"
   ]
  },
  {
   "cell_type": "code",
   "execution_count": 8,
   "id": "c25d8dbe-af28-449c-bba0-0ac89436ac00",
   "metadata": {},
   "outputs": [
    {
     "name": "stdin",
     "output_type": "stream",
     "text": [
      "enter the value of the principle 87000\n",
      "enter the value of rate 2\n",
      "enter the value of time 3\n"
     ]
    },
    {
     "name": "stdout",
     "output_type": "stream",
     "text": [
      "the interest is 5220.0\n"
     ]
    }
   ],
   "source": [
    "simple_interest()"
   ]
  },
  {
   "cell_type": "code",
   "execution_count": 10,
   "id": "3af25b88-5363-45fc-9427-e0a4480b3b39",
   "metadata": {},
   "outputs": [],
   "source": [
    "def avg():\n",
    "    a=int(input(\"enter the number: \"))\n",
    "    b=int(input(\"enter the number: \"))\n",
    "    c=int(input(\"enter the number: \"))\n",
    "    d=(a+b+c)/3\n",
    "    print(\"The average is: \",d)"
   ]
  },
  {
   "cell_type": "code",
   "execution_count": 11,
   "id": "de65ad13-59e3-48fb-9bd2-4b018167b0c4",
   "metadata": {},
   "outputs": [
    {
     "name": "stdin",
     "output_type": "stream",
     "text": [
      "enter the number:  5\n",
      "enter the number:  6\n",
      "enter the number:  7\n"
     ]
    },
    {
     "name": "stdout",
     "output_type": "stream",
     "text": [
      "The average is:  6.0\n"
     ]
    }
   ],
   "source": [
    "avg()"
   ]
  },
  {
   "cell_type": "code",
   "execution_count": 12,
   "id": "2dfa9e9c-096a-4701-952f-fe4fa4226b48",
   "metadata": {},
   "outputs": [
    {
     "name": "stdin",
     "output_type": "stream",
     "text": [
      "enter the number:  78\n",
      "enter the number:  67\n",
      "enter the number:  90\n"
     ]
    },
    {
     "name": "stdout",
     "output_type": "stream",
     "text": [
      "The average is:  78.33333333333333\n"
     ]
    }
   ],
   "source": [
    "avg()"
   ]
  },
  {
   "cell_type": "code",
   "execution_count": 16,
   "id": "6ada540d-ab20-4e30-ad09-a13f07611f71",
   "metadata": {},
   "outputs": [],
   "source": [
    "def check():\n",
    "    n=int(input(\"enter the number\"))\n",
    "    if n%2==0:\n",
    "        print(\"even number\")\n",
    "    else:\n",
    "        print(\"odd number\")"
   ]
  },
  {
   "cell_type": "code",
   "execution_count": 14,
   "id": "26ca416f-0a1f-41d0-b958-cfd257d60362",
   "metadata": {},
   "outputs": [
    {
     "name": "stdin",
     "output_type": "stream",
     "text": [
      "enter the number 24\n"
     ]
    },
    {
     "name": "stdout",
     "output_type": "stream",
     "text": [
      "even number\n"
     ]
    }
   ],
   "source": [
    "check()"
   ]
  },
  {
   "cell_type": "code",
   "execution_count": 15,
   "id": "f5b8939a-fd09-4aa1-ba5b-c3bbbebeb318",
   "metadata": {},
   "outputs": [
    {
     "name": "stdin",
     "output_type": "stream",
     "text": [
      "enter the number 13\n"
     ]
    },
    {
     "name": "stdout",
     "output_type": "stream",
     "text": [
      "odd number\n"
     ]
    }
   ],
   "source": [
    "check()"
   ]
  },
  {
   "cell_type": "code",
   "execution_count": 17,
   "id": "0b0eefbf-47e8-4069-b907-3eb6ec4ace61",
   "metadata": {},
   "outputs": [],
   "source": [
    "def check_leap():\n",
    "    year=int(input(\"enter the year\"))\n",
    "    if year%4==0:\n",
    "        print(\"Leap year\")\n",
    "    else:\n",
    "        print(\"Not a leap year\")"
   ]
  },
  {
   "cell_type": "code",
   "execution_count": 18,
   "id": "89f883a8-53a1-4eea-9585-5da47f979b06",
   "metadata": {},
   "outputs": [
    {
     "name": "stdin",
     "output_type": "stream",
     "text": [
      "enter the year 2089\n"
     ]
    },
    {
     "name": "stdout",
     "output_type": "stream",
     "text": [
      "Not a leap year\n"
     ]
    }
   ],
   "source": [
    "check_leap()"
   ]
  },
  {
   "cell_type": "code",
   "execution_count": 19,
   "id": "6edd640a-8569-4458-84ba-11656efe6c8f",
   "metadata": {},
   "outputs": [
    {
     "name": "stdin",
     "output_type": "stream",
     "text": [
      "enter the year 2028\n"
     ]
    },
    {
     "name": "stdout",
     "output_type": "stream",
     "text": [
      "Leap year\n"
     ]
    }
   ],
   "source": [
    "check_leap()"
   ]
  },
  {
   "cell_type": "code",
   "execution_count": 22,
   "id": "06ab9322-4013-46aa-8d8f-ed2364b40ec5",
   "metadata": {},
   "outputs": [],
   "source": [
    "def eligible():\n",
    "    age=int(input(\"enter your age\"))\n",
    "    if age>=18:\n",
    "        print(\"Eligible to vote\")\n",
    "    else:\n",
    "        print(\"Non-eligible\")"
   ]
  },
  {
   "cell_type": "code",
   "execution_count": 23,
   "id": "53e35ff7-9b54-4ea3-9d91-3c59cd2da7fc",
   "metadata": {},
   "outputs": [
    {
     "name": "stdin",
     "output_type": "stream",
     "text": [
      "enter your age 45\n"
     ]
    },
    {
     "name": "stdout",
     "output_type": "stream",
     "text": [
      "Eligible to vote\n"
     ]
    }
   ],
   "source": [
    "eligible()"
   ]
  },
  {
   "cell_type": "code",
   "execution_count": 24,
   "id": "7311e1f8-41e4-4a0d-b46d-b5004daf5756",
   "metadata": {},
   "outputs": [
    {
     "name": "stdin",
     "output_type": "stream",
     "text": [
      "enter your age 12\n"
     ]
    },
    {
     "name": "stdout",
     "output_type": "stream",
     "text": [
      "Non-eligible\n"
     ]
    }
   ],
   "source": [
    "eligible()"
   ]
  },
  {
   "cell_type": "code",
   "execution_count": 25,
   "id": "f330de5f-411f-400a-bb0d-3dba2e0f8da0",
   "metadata": {},
   "outputs": [],
   "source": [
    "def largest():\n",
    "    a=int(input(\"enter the number: \"))\n",
    "    b=int(input(\"enter the number: \"))\n",
    "    c=int(input(\"enter the number: \"))\n",
    "    if a>b and a>c:\n",
    "        print(a,\" is greatest\")\n",
    "    elif b>a and b>c:\n",
    "        print(b,\" is greatest\")\n",
    "    else:\n",
    "        print(c,\" is greatest\")"
   ]
  },
  {
   "cell_type": "code",
   "execution_count": 26,
   "id": "98be8c40-0509-4126-9205-38c9f20edcde",
   "metadata": {},
   "outputs": [
    {
     "name": "stdin",
     "output_type": "stream",
     "text": [
      "enter the number:  23\n",
      "enter the number:  54\n",
      "enter the number:  33\n"
     ]
    },
    {
     "name": "stdout",
     "output_type": "stream",
     "text": [
      "54  is greatest\n"
     ]
    }
   ],
   "source": [
    "largest()"
   ]
  },
  {
   "cell_type": "code",
   "execution_count": 27,
   "id": "c88d870f-d332-447d-9d21-a167aa8fb4fe",
   "metadata": {},
   "outputs": [
    {
     "name": "stdin",
     "output_type": "stream",
     "text": [
      "enter the number:  234\n",
      "enter the number:  45\n",
      "enter the number:  555\n"
     ]
    },
    {
     "name": "stdout",
     "output_type": "stream",
     "text": [
      "555  is greatest\n"
     ]
    }
   ],
   "source": [
    "largest()"
   ]
  },
  {
   "cell_type": "code",
   "execution_count": 28,
   "id": "19aeb4e1-8386-46d2-b6b8-a2e1aab2c182",
   "metadata": {},
   "outputs": [],
   "source": [
    "def factorial():\n",
    "    n=int(input(\"enter the number\"))\n",
    "    f=1\n",
    "    for i in range(1,n+1):\n",
    "        f=f*i\n",
    "    print(\"factorial is \",f)"
   ]
  },
  {
   "cell_type": "code",
   "execution_count": 29,
   "id": "138cf62d-991d-4435-8a7d-7afc89d3d1bb",
   "metadata": {},
   "outputs": [
    {
     "name": "stdin",
     "output_type": "stream",
     "text": [
      "enter the number 56\n"
     ]
    },
    {
     "name": "stdout",
     "output_type": "stream",
     "text": [
      "factorial is  710998587804863451854045647463724949736497978881168458687447040000000000000\n"
     ]
    }
   ],
   "source": [
    "factorial()"
   ]
  },
  {
   "cell_type": "code",
   "execution_count": 31,
   "id": "c07170be-769d-4796-b874-25adde5a33cb",
   "metadata": {},
   "outputs": [
    {
     "name": "stdin",
     "output_type": "stream",
     "text": [
      "enter the number 6\n"
     ]
    },
    {
     "name": "stdout",
     "output_type": "stream",
     "text": [
      "factorial is  720\n"
     ]
    }
   ],
   "source": [
    "factorial()"
   ]
  },
  {
   "cell_type": "code",
   "execution_count": 32,
   "id": "eaa7e415-47c9-4fa2-9fc7-af3215141bb1",
   "metadata": {},
   "outputs": [],
   "source": [
    "def reverse():\n",
    "    n=int(input(\"enter the number: \"))\n",
    "    rev=0\n",
    "    while n>0:\n",
    "        rem=n%10\n",
    "        rev=rev*10+rem\n",
    "        n=n//10\n",
    "    print(\"The reverse is \",rev)"
   ]
  },
  {
   "cell_type": "code",
   "execution_count": 33,
   "id": "88732a78-51cd-40b7-88e3-45e6dcfd5b29",
   "metadata": {},
   "outputs": [
    {
     "name": "stdin",
     "output_type": "stream",
     "text": [
      "enter the number:  234\n"
     ]
    },
    {
     "name": "stdout",
     "output_type": "stream",
     "text": [
      "The reverse is  432\n"
     ]
    }
   ],
   "source": [
    "reverse()"
   ]
  },
  {
   "cell_type": "code",
   "execution_count": 34,
   "id": "5fed13da-1681-4dc0-ac94-fc234cda2ad8",
   "metadata": {},
   "outputs": [],
   "source": [
    "def prime():\n",
    "    co=0\n",
    "    n=int(input(\"enter the number\"))\n",
    "    for i in range(1,n+1):\n",
    "        if n%i==0:\n",
    "            co=co+1\n",
    "    if co==2:\n",
    "        print(\"Prime Number\")\n",
    "    else:\n",
    "        print(\"Not a prime number\")"
   ]
  },
  {
   "cell_type": "code",
   "execution_count": 35,
   "id": "fb0559b7-076a-4952-89ad-d8b8b8e99978",
   "metadata": {},
   "outputs": [
    {
     "name": "stdin",
     "output_type": "stream",
     "text": [
      "enter the number 67\n"
     ]
    },
    {
     "name": "stdout",
     "output_type": "stream",
     "text": [
      "Prime Number\n"
     ]
    }
   ],
   "source": [
    "prime()"
   ]
  },
  {
   "cell_type": "code",
   "execution_count": 36,
   "id": "3c8d0efb-0c8a-42ef-a304-b19e66fe458c",
   "metadata": {},
   "outputs": [
    {
     "name": "stdin",
     "output_type": "stream",
     "text": [
      "enter the number 12\n"
     ]
    },
    {
     "name": "stdout",
     "output_type": "stream",
     "text": [
      "Not a prime number\n"
     ]
    }
   ],
   "source": [
    "prime()"
   ]
  },
  {
   "cell_type": "markdown",
   "id": "ab0ca1e4-84bc-493e-ac46-73351cdb6b18",
   "metadata": {},
   "source": [
    "Parameter vs Argument\n",
    "-----------------------\n",
    "eg: def sum(a,b) ---- a ,b are parameters\n",
    " \n",
    " sum(12,34) ---- 12, 34 are argument\n",
    "\n",
    "i.e Parameter is the variable listed inside the parentheses in the function definition.\n",
    "\n",
    " Argument is the value that is sent to the function when it is called."
   ]
  },
  {
   "cell_type": "markdown",
   "id": "d30d3a74-641b-4ac6-ac66-44a7af5d3c26",
   "metadata": {},
   "source": [
    "Three types of functions in Python:\n",
    "------------------------------------\n",
    "* Built-in function:- Python predefined functions that are readily available for use like min(), max(), sum(), print() etc.\n",
    "* User-Defined function:- Functions that we define ourselves to perform a specific task.\n",
    "* Anonymous function:- Function that is defined without a name. Anonymous functions are also called as lambda functions. They are not declared with the def keyword."
   ]
  },
  {
   "cell_type": "markdown",
   "id": "504a887d-cec4-4e0a-a47e-41b55aab2750",
   "metadata": {},
   "source": [
    "Argument Function\n",
    "------------------\n",
    "syntax: def function_name(arg1,arg2..):    \n",
    "             \n",
    "             logic/statement\n",
    "\n",
    "function_name(arg)"
   ]
  },
  {
   "cell_type": "code",
   "execution_count": 1,
   "id": "3e12fe3d-3d3e-4c87-8897-3698ac22e33a",
   "metadata": {},
   "outputs": [],
   "source": [
    "def addition(a,b):\n",
    "    c=a+b\n",
    "    print(\"the sum is \",c)"
   ]
  },
  {
   "cell_type": "code",
   "execution_count": 2,
   "id": "a77ff3cc-06be-44d0-bfd4-1c7770405ef8",
   "metadata": {},
   "outputs": [
    {
     "name": "stdout",
     "output_type": "stream",
     "text": [
      "the sum is  35\n"
     ]
    }
   ],
   "source": [
    "addition(12,23)"
   ]
  },
  {
   "cell_type": "code",
   "execution_count": 3,
   "id": "346080c4-f15b-4f7b-898f-79855fdbf115",
   "metadata": {},
   "outputs": [
    {
     "name": "stdin",
     "output_type": "stream",
     "text": [
      "enter the number 123\n",
      "enter the number 456\n"
     ]
    },
    {
     "name": "stdout",
     "output_type": "stream",
     "text": [
      "the sum is  579\n"
     ]
    }
   ],
   "source": [
    "x=int(input('enter the number'))\n",
    "y=int(input('enter the number'))\n",
    "addition(x,y)"
   ]
  },
  {
   "cell_type": "code",
   "execution_count": 4,
   "id": "ea8e067f-b632-4dd9-b58b-b08c123f1bfc",
   "metadata": {},
   "outputs": [
    {
     "name": "stdout",
     "output_type": "stream",
     "text": [
      "the sum is  579\n"
     ]
    }
   ],
   "source": [
    "addition(123,456) # shorter n easier way"
   ]
  },
  {
   "cell_type": "code",
   "execution_count": 5,
   "id": "e9c05d4c-9fa5-495b-b559-05504ec220cd",
   "metadata": {},
   "outputs": [],
   "source": [
    "def check(n):\n",
    "    if n%2==0:\n",
    "        print('even number')\n",
    "    else:\n",
    "        print('odd number')"
   ]
  },
  {
   "cell_type": "code",
   "execution_count": 6,
   "id": "f97fc510-40ce-47e5-827c-d91cd11bba72",
   "metadata": {},
   "outputs": [
    {
     "name": "stdout",
     "output_type": "stream",
     "text": [
      "odd number\n"
     ]
    }
   ],
   "source": [
    "check(23)"
   ]
  },
  {
   "cell_type": "code",
   "execution_count": 7,
   "id": "3c516994-52b4-427a-ad09-dd729472fae1",
   "metadata": {},
   "outputs": [
    {
     "name": "stdout",
     "output_type": "stream",
     "text": [
      "even number\n"
     ]
    }
   ],
   "source": [
    "check(3456568)"
   ]
  },
  {
   "cell_type": "code",
   "execution_count": 11,
   "id": "86eac09c-6ce4-4963-9443-3e74fa0e2a52",
   "metadata": {},
   "outputs": [],
   "source": [
    "def largest(a,b,c):\n",
    "    if a>b:\n",
    "        if a>c:\n",
    "            print('A is greatest')\n",
    "        else:\n",
    "            print('C is greatest')\n",
    "    else:\n",
    "        if b>c:\n",
    "            print('B is greatest')\n",
    "        else:\n",
    "            print('C is greatest ')"
   ]
  },
  {
   "cell_type": "code",
   "execution_count": 9,
   "id": "7dbe5d1c-420e-478a-b6db-ec0321078c17",
   "metadata": {},
   "outputs": [
    {
     "name": "stdout",
     "output_type": "stream",
     "text": [
      "C is greatest \n"
     ]
    }
   ],
   "source": [
    "largest(34,54,66)"
   ]
  },
  {
   "cell_type": "code",
   "execution_count": 12,
   "id": "5cd7c998-2fdd-439b-84e8-17a95182d844",
   "metadata": {},
   "outputs": [
    {
     "name": "stdout",
     "output_type": "stream",
     "text": [
      "B is greatest\n"
     ]
    }
   ],
   "source": [
    "largest(345,678,45)"
   ]
  },
  {
   "cell_type": "code",
   "execution_count": 13,
   "id": "b1f835ca-b7b9-417c-a6b9-2c6553fcb653",
   "metadata": {},
   "outputs": [],
   "source": [
    "def factorial(n):\n",
    "    f=1\n",
    "    for i in range(1,n+1):\n",
    "        f=f*i\n",
    "    print('the factorial is ',f)"
   ]
  },
  {
   "cell_type": "code",
   "execution_count": 14,
   "id": "01e1bf8a-8f55-4f00-ad0f-e83c7b303254",
   "metadata": {},
   "outputs": [
    {
     "name": "stdout",
     "output_type": "stream",
     "text": [
      "the factorial is  5040\n"
     ]
    }
   ],
   "source": [
    "factorial(7)"
   ]
  },
  {
   "cell_type": "code",
   "execution_count": 16,
   "id": "0bf02932-0cce-4edf-bbca-b382d49504c5",
   "metadata": {},
   "outputs": [
    {
     "name": "stdout",
     "output_type": "stream",
     "text": [
      "the factorial is  120\n"
     ]
    }
   ],
   "source": [
    "factorial(5)"
   ]
  },
  {
   "cell_type": "code",
   "execution_count": 17,
   "id": "41342c69-d4eb-4c09-8f33-1552129f9937",
   "metadata": {},
   "outputs": [],
   "source": [
    "def reverse(n):\n",
    "    rev=0\n",
    "    while n>0:\n",
    "        rev=rev*10+n%10\n",
    "        n=n//10\n",
    "    print('the reverse is ',rev)"
   ]
  },
  {
   "cell_type": "code",
   "execution_count": 18,
   "id": "4096b417-57d4-4d16-b255-47ee1b1478f0",
   "metadata": {},
   "outputs": [
    {
     "name": "stdout",
     "output_type": "stream",
     "text": [
      "the reverse is  7654\n"
     ]
    }
   ],
   "source": [
    "reverse(4567)"
   ]
  },
  {
   "cell_type": "code",
   "execution_count": 19,
   "id": "572f4df5-127f-4481-a5bc-0a6d6458baa3",
   "metadata": {},
   "outputs": [
    {
     "name": "stdout",
     "output_type": "stream",
     "text": [
      "the reverse is  567565\n"
     ]
    }
   ],
   "source": [
    "reverse(565765)"
   ]
  },
  {
   "cell_type": "code",
   "execution_count": 23,
   "id": "67c32745-38ee-4466-8e5a-739879c4b72f",
   "metadata": {},
   "outputs": [],
   "source": [
    "def prime(n):\n",
    "    co=0\n",
    "    for i in range(1,n+1):\n",
    "        if n%i==0:\n",
    "            co=co+1\n",
    "    if co==2:\n",
    "        print('Prime number')\n",
    "    else:\n",
    "        print('Non-prime number')"
   ]
  },
  {
   "cell_type": "code",
   "execution_count": 24,
   "id": "30b58365-1afe-4e03-98dc-51a4c1c767ab",
   "metadata": {},
   "outputs": [
    {
     "name": "stdout",
     "output_type": "stream",
     "text": [
      "Prime number\n"
     ]
    }
   ],
   "source": [
    "prime(43)"
   ]
  },
  {
   "cell_type": "code",
   "execution_count": 25,
   "id": "b52f3656-6fd1-436b-9760-22c2c2506ea1",
   "metadata": {},
   "outputs": [
    {
     "name": "stdout",
     "output_type": "stream",
     "text": [
      "Prime number\n"
     ]
    }
   ],
   "source": [
    "prime(2)"
   ]
  },
  {
   "cell_type": "code",
   "execution_count": 26,
   "id": "a4d8a554-cabb-4270-b689-3012b22b893f",
   "metadata": {},
   "outputs": [
    {
     "name": "stdout",
     "output_type": "stream",
     "text": [
      "Non-prime number\n"
     ]
    }
   ],
   "source": [
    "prime(24)"
   ]
  },
  {
   "cell_type": "markdown",
   "id": "7b49c623-e5d2-4cbe-9b23-04065310ebef",
   "metadata": {},
   "source": [
    "Return type function\n",
    "---------------------\n",
    "syntax: def function_name(arg1,arg2,..):\n",
    "\n",
    "           logic\n",
    "           return value/values\n",
    "\n",
    "var=function_name(arg1,arg2,..) /n\n",
    "print(var)\n",
    "\n",
    "or print(function_name(arg1,arg2,..)) "
   ]
  },
  {
   "cell_type": "code",
   "execution_count": 27,
   "id": "02923413-e6d5-4bab-8c6a-507e44f2eaf0",
   "metadata": {},
   "outputs": [],
   "source": [
    "def addition(a,b):\n",
    "    return a+b"
   ]
  },
  {
   "cell_type": "code",
   "execution_count": 29,
   "id": "c9ee5c41-6a74-43d1-8bed-423a36d1be96",
   "metadata": {},
   "outputs": [
    {
     "name": "stdout",
     "output_type": "stream",
     "text": [
      "112\n"
     ]
    }
   ],
   "source": [
    "c=addition(45,67)\n",
    "print(c)"
   ]
  },
  {
   "cell_type": "code",
   "execution_count": 31,
   "id": "a4156a7a-2385-4964-8cad-e259f07a96cb",
   "metadata": {},
   "outputs": [
    {
     "name": "stdout",
     "output_type": "stream",
     "text": [
      "the sum is  112\n"
     ]
    }
   ],
   "source": [
    "print('the sum is ',addition(45,67))"
   ]
  },
  {
   "cell_type": "code",
   "execution_count": 32,
   "id": "48bfd5f6-af93-47eb-b53c-a74f86f77b02",
   "metadata": {},
   "outputs": [],
   "source": [
    "def mathop(a,b):\n",
    "    return a+b,a-b,a*b,a/b,a%b\n",
    "# res=34,56,43,66 --- assigning multiple values is called tuple packing"
   ]
  },
  {
   "cell_type": "code",
   "execution_count": 33,
   "id": "0223551b-40db-4a5e-8880-6b5c45ee8e8d",
   "metadata": {},
   "outputs": [
    {
     "name": "stdout",
     "output_type": "stream",
     "text": [
      "(46, 22, 408, 2.8333333333333335, 10)\n",
      "<class 'tuple'>\n"
     ]
    }
   ],
   "source": [
    "res=mathop(34,12)\n",
    "print(res)\n",
    "print(type(res))"
   ]
  },
  {
   "cell_type": "code",
   "execution_count": 34,
   "id": "44dc4541-66a3-4630-b001-cbce3759a6cf",
   "metadata": {},
   "outputs": [
    {
     "name": "stdout",
     "output_type": "stream",
     "text": [
      "add 46\n",
      "sub 22\n",
      "prod 408\n",
      "div 2.8333333333333335\n",
      "mod 10\n"
     ]
    }
   ],
   "source": [
    "x,y,z,w,r=mathop(34,12)\n",
    "print('add',x)\n",
    "print('sub',y)\n",
    "print('prod',z)\n",
    "print('div',w)\n",
    "print('mod',r)"
   ]
  },
  {
   "cell_type": "code",
   "execution_count": 36,
   "id": "260cf9ef-98bf-4bd9-a58b-45a049e0557b",
   "metadata": {},
   "outputs": [
    {
     "name": "stdout",
     "output_type": "stream",
     "text": [
      "odd\n"
     ]
    }
   ],
   "source": [
    "def check(n):\n",
    "    if n%2==0:\n",
    "        return 'even'\n",
    "    else:\n",
    "        return 'odd'\n",
    "print(check(57))"
   ]
  },
  {
   "cell_type": "code",
   "execution_count": 37,
   "id": "3d01334d-febb-4bdc-871e-ab68cee3c68e",
   "metadata": {},
   "outputs": [
    {
     "name": "stdout",
     "output_type": "stream",
     "text": [
      "the factorial is  120\n"
     ]
    }
   ],
   "source": [
    "def factorial(n):\n",
    "    f=1\n",
    "    for i in range(1,n+1):\n",
    "        f=f*i\n",
    "    return f\n",
    "fac=factorial(5)\n",
    "print('the factorial is ',fac)"
   ]
  },
  {
   "cell_type": "code",
   "execution_count": 39,
   "id": "0e57c85a-7624-4045-a5c1-ee79737ea31a",
   "metadata": {},
   "outputs": [
    {
     "data": {
      "text/plain": [
       "120"
      ]
     },
     "execution_count": 39,
     "metadata": {},
     "output_type": "execute_result"
    }
   ],
   "source": [
    "fac # the value is stored which is possible due the 'return' "
   ]
  },
  {
   "cell_type": "markdown",
   "id": "79104e5c-4827-4553-84cf-98f99690299a",
   "metadata": {},
   "source": [
    "PlaceHolder argument\n",
    "---------------------"
   ]
  },
  {
   "cell_type": "code",
   "execution_count": 41,
   "id": "ba0a7f2f-823e-4a37-a824-067303cf5ef4",
   "metadata": {},
   "outputs": [
    {
     "name": "stdout",
     "output_type": "stream",
     "text": [
      "1100\n",
      "1300\n",
      "69\n"
     ]
    }
   ],
   "source": [
    "def sums(a,b=400,c=600):  # initialisation starts from RHS\n",
    "    return a+b+c\n",
    "print(sums(100))  # b=400,c=600\n",
    "print(sums(200,500)) # b=500\n",
    "print(sums(12,23,34)) # a,b,c changes to 12,23,34"
   ]
  },
  {
   "cell_type": "code",
   "execution_count": 42,
   "id": "e4a116e5-5d69-4d63-bb82-cc0b19be5b55",
   "metadata": {},
   "outputs": [],
   "source": [
    "# practice "
   ]
  },
  {
   "cell_type": "code",
   "execution_count": 43,
   "id": "36bb848f-0712-4732-a3a4-6cb680a1e66b",
   "metadata": {},
   "outputs": [],
   "source": [
    "def datascience(a,b,c,d,e):\n",
    "    return(a+b,a*b)"
   ]
  },
  {
   "cell_type": "code",
   "execution_count": 44,
   "id": "8a2f7cfc-389a-4c0b-8e6d-4f8552af6baa",
   "metadata": {},
   "outputs": [
    {
     "data": {
      "text/plain": [
       "(6, 8)"
      ]
     },
     "execution_count": 44,
     "metadata": {},
     "output_type": "execute_result"
    }
   ],
   "source": [
    "datascience(2,4,6,7,5) "
   ]
  },
  {
   "cell_type": "code",
   "execution_count": 45,
   "id": "65cb258e-3f35-4e08-ad92-023cf16092d7",
   "metadata": {},
   "outputs": [],
   "source": [
    "def hello(a,b):\n",
    "    return('My name is {} and gender is {}'.format(a,b))"
   ]
  },
  {
   "cell_type": "code",
   "execution_count": 48,
   "id": "712afdee-2e66-4015-9034-8b58ae8ca789",
   "metadata": {},
   "outputs": [
    {
     "data": {
      "text/plain": [
       "'My name is Darina and gender is female'"
      ]
     },
     "execution_count": 48,
     "metadata": {},
     "output_type": "execute_result"
    }
   ],
   "source": [
    "a=hello('Darina','female')\n",
    "a"
   ]
  },
  {
   "cell_type": "code",
   "execution_count": 49,
   "id": "b2f9c512-9563-4431-af82-ea4e429f5da0",
   "metadata": {},
   "outputs": [],
   "source": [
    "def addition(a,b=100):\n",
    "    return a+b"
   ]
  },
  {
   "cell_type": "code",
   "execution_count": 50,
   "id": "7ad031e4-f400-40fb-b2d4-b5840ddc4a2b",
   "metadata": {},
   "outputs": [
    {
     "data": {
      "text/plain": [
       "1100"
      ]
     },
     "execution_count": 50,
     "metadata": {},
     "output_type": "execute_result"
    }
   ],
   "source": [
    "addition(1000)"
   ]
  },
  {
   "cell_type": "code",
   "execution_count": 51,
   "id": "65c570f3-84de-49dc-b045-e4d88b7853d0",
   "metadata": {},
   "outputs": [
    {
     "name": "stdout",
     "output_type": "stream",
     "text": [
      "1600\n",
      "1600\n",
      "5100\n"
     ]
    }
   ],
   "source": [
    "def add(a,b=700,c=600):\n",
    "    return a+b+c\n",
    "print(add(300))\n",
    "print(add(a=400,c=500))\n",
    "print(add(100,2000,3000))"
   ]
  },
  {
   "cell_type": "code",
   "execution_count": 52,
   "id": "6866263b-7356-415d-8bb6-18d59b7c7347",
   "metadata": {},
   "outputs": [
    {
     "data": {
      "text/plain": [
       "1400"
      ]
     },
     "execution_count": 52,
     "metadata": {},
     "output_type": "execute_result"
    }
   ],
   "source": [
    "add(100)"
   ]
  },
  {
   "cell_type": "code",
   "execution_count": 53,
   "id": "6b3c4284-d6e5-42d2-a58a-e74aad42b6d3",
   "metadata": {},
   "outputs": [],
   "source": [
    "def hello(name,age=22,gender='female'):\n",
    "    return ('My name is {} and age is {} and gender is {}'.format(name,age,gender))"
   ]
  },
  {
   "cell_type": "code",
   "execution_count": 54,
   "id": "bff8d2ac-69f5-471d-bc5a-9e58c092c826",
   "metadata": {},
   "outputs": [
    {
     "data": {
      "text/plain": [
       "'My name is Darina and age is 22 and gender is female'"
      ]
     },
     "execution_count": 54,
     "metadata": {},
     "output_type": "execute_result"
    }
   ],
   "source": [
    "hello('Darina')"
   ]
  },
  {
   "cell_type": "markdown",
   "id": "28918c78-1e88-456f-ab29-eeb7468a76dd",
   "metadata": {},
   "source": [
    "Format of args,kwargs\n",
    "----------------------\n",
    "1. Unpacking operators are operators that unpack the values from iterable objects in Python.\n",
    "2. The single asterisk operator * can be used on any iterable that Python provides.\n",
    "3. While the double asterisk operator ** can only be used on dictionaries."
   ]
  },
  {
   "cell_type": "code",
   "execution_count": 1,
   "id": "1727fe15-1a41-44ee-be6a-ec5064bb6efe",
   "metadata": {},
   "outputs": [
    {
     "data": {
      "text/plain": [
       "[1, 2, 3]"
      ]
     },
     "execution_count": 1,
     "metadata": {},
     "output_type": "execute_result"
    }
   ],
   "source": [
    "u=[1,2,3]\n",
    "u"
   ]
  },
  {
   "cell_type": "code",
   "execution_count": 2,
   "id": "e14c24ca-be84-43e5-9ba1-3938b05f2883",
   "metadata": {},
   "outputs": [
    {
     "name": "stdout",
     "output_type": "stream",
     "text": [
      "1 2 3\n"
     ]
    }
   ],
   "source": [
    "print(*u)"
   ]
  },
  {
   "cell_type": "code",
   "execution_count": 3,
   "id": "0c0beb7a-b7a8-434f-9fbb-2d7b6c3201aa",
   "metadata": {},
   "outputs": [],
   "source": [
    "a,*b,c=[1,2,3,2,3,4,5,6,78,63,4]"
   ]
  },
  {
   "cell_type": "code",
   "execution_count": 4,
   "id": "9dfcaba5-6b46-46d0-bbab-9338ce6d05c1",
   "metadata": {},
   "outputs": [
    {
     "data": {
      "text/plain": [
       "1"
      ]
     },
     "execution_count": 4,
     "metadata": {},
     "output_type": "execute_result"
    }
   ],
   "source": [
    "a"
   ]
  },
  {
   "cell_type": "code",
   "execution_count": 5,
   "id": "cd3c060c-ba7d-45ed-ab01-2b6a7cf29155",
   "metadata": {},
   "outputs": [
    {
     "data": {
      "text/plain": [
       "4"
      ]
     },
     "execution_count": 5,
     "metadata": {},
     "output_type": "execute_result"
    }
   ],
   "source": [
    "c"
   ]
  },
  {
   "cell_type": "code",
   "execution_count": 7,
   "id": "fc9551c1-29e6-46c3-a1c4-a2f1e2a1a45b",
   "metadata": {},
   "outputs": [
    {
     "name": "stdout",
     "output_type": "stream",
     "text": [
      "2 3 2 3 4 5 6 78 63\n"
     ]
    }
   ],
   "source": [
    "print(*b)"
   ]
  },
  {
   "cell_type": "code",
   "execution_count": 8,
   "id": "cb77f257-488b-49e1-8f16-595465729665",
   "metadata": {},
   "outputs": [],
   "source": [
    "*a,b,c=[1,2,3,2,3,4,5,6,78,63,4]"
   ]
  },
  {
   "cell_type": "code",
   "execution_count": 9,
   "id": "548658f0-a1f8-40df-bca5-a9251b6f087c",
   "metadata": {},
   "outputs": [
    {
     "name": "stdout",
     "output_type": "stream",
     "text": [
      "1 2 3 2 3 4 5 6 78\n"
     ]
    }
   ],
   "source": [
    "print(*a)"
   ]
  },
  {
   "cell_type": "code",
   "execution_count": 10,
   "id": "59de2420-5d08-4fe2-912e-a030b249e743",
   "metadata": {},
   "outputs": [
    {
     "data": {
      "text/plain": [
       "63"
      ]
     },
     "execution_count": 10,
     "metadata": {},
     "output_type": "execute_result"
    }
   ],
   "source": [
    "b"
   ]
  },
  {
   "cell_type": "code",
   "execution_count": 11,
   "id": "572ef2f9-6df4-4d39-9015-29b5e6d0380a",
   "metadata": {},
   "outputs": [
    {
     "data": {
      "text/plain": [
       "4"
      ]
     },
     "execution_count": 11,
     "metadata": {},
     "output_type": "execute_result"
    }
   ],
   "source": [
    "c"
   ]
  },
  {
   "cell_type": "code",
   "execution_count": 12,
   "id": "dba4fb41-ce01-45dc-bafc-789c47808b36",
   "metadata": {},
   "outputs": [],
   "source": [
    "a,b,*c=[1,2,3,2,3,4,5,6,78,63,4]"
   ]
  },
  {
   "cell_type": "code",
   "execution_count": 13,
   "id": "3914c0eb-f63f-43e5-9b7a-df63d4b318e2",
   "metadata": {},
   "outputs": [
    {
     "name": "stdout",
     "output_type": "stream",
     "text": [
      "3 2 3 4 5 6 78 63 4\n"
     ]
    }
   ],
   "source": [
    "print(*c)"
   ]
  },
  {
   "cell_type": "code",
   "execution_count": 14,
   "id": "f3381966-4c63-40d3-a684-7bfc160820e8",
   "metadata": {},
   "outputs": [
    {
     "data": {
      "text/plain": [
       "1"
      ]
     },
     "execution_count": 14,
     "metadata": {},
     "output_type": "execute_result"
    }
   ],
   "source": [
    "a"
   ]
  },
  {
   "cell_type": "code",
   "execution_count": 15,
   "id": "cdb531be-47e2-4249-8a6e-08c4109eb024",
   "metadata": {},
   "outputs": [
    {
     "data": {
      "text/plain": [
       "2"
      ]
     },
     "execution_count": 15,
     "metadata": {},
     "output_type": "execute_result"
    }
   ],
   "source": [
    "b"
   ]
  },
  {
   "cell_type": "code",
   "execution_count": 20,
   "id": "008fefe6-ac89-459f-8797-87a33e6709cc",
   "metadata": {},
   "outputs": [
    {
     "data": {
      "text/plain": [
       "[[1, 2, 3], [4, 5, 6]]"
      ]
     },
     "execution_count": 20,
     "metadata": {},
     "output_type": "execute_result"
    }
   ],
   "source": [
    "# list concatenate (three ways)\n",
    "A=[1,2,3]\n",
    "B=[4,5,6]\n",
    "C=[A,B]\n",
    "C"
   ]
  },
  {
   "cell_type": "code",
   "execution_count": 17,
   "id": "166e027a-6bd2-4bdb-8e80-f0add11938ee",
   "metadata": {},
   "outputs": [
    {
     "data": {
      "text/plain": [
       "[1, 2, 3, 4, 5, 6]"
      ]
     },
     "execution_count": 17,
     "metadata": {},
     "output_type": "execute_result"
    }
   ],
   "source": [
    "D=[*A,*B]\n",
    "D"
   ]
  },
  {
   "cell_type": "code",
   "execution_count": 19,
   "id": "6e8ba06a-050c-4f9b-adc7-d385a67a03c9",
   "metadata": {},
   "outputs": [
    {
     "data": {
      "text/plain": [
       "[1, 2, 3, 4, 5, 6, 4, 5, 6]"
      ]
     },
     "execution_count": 19,
     "metadata": {},
     "output_type": "execute_result"
    }
   ],
   "source": [
    "A.extend(B)\n",
    "A"
   ]
  },
  {
   "cell_type": "code",
   "execution_count": 21,
   "id": "17ad8d73-fa20-469a-93be-1893d5ef03f1",
   "metadata": {},
   "outputs": [
    {
     "name": "stdout",
     "output_type": "stream",
     "text": [
      "['r', 'e', 'a', 'l', 'p', 'y', 't', 'h', 'o', 'n']\n"
     ]
    }
   ],
   "source": [
    "a=[*\"realpython\"]\n",
    "print(a)\n",
    "# b=list(\"realpython\")\n",
    "# print(b) ----- same output as above"
   ]
  },
  {
   "cell_type": "code",
   "execution_count": 22,
   "id": "bd47ce66-58b8-4586-b395-487b54ad5b90",
   "metadata": {},
   "outputs": [],
   "source": [
    "d1={'A':1,'B':2}\n",
    "d2={'C':3,'D':4,'F':7}"
   ]
  },
  {
   "cell_type": "code",
   "execution_count": 24,
   "id": "65420272-2c9e-428d-b0f4-1570755ddce7",
   "metadata": {},
   "outputs": [
    {
     "data": {
      "text/plain": [
       "{'A': 1, 'B': 2, 'C': 3, 'D': 4, 'F': 7}"
      ]
     },
     "execution_count": 24,
     "metadata": {},
     "output_type": "execute_result"
    }
   ],
   "source": [
    "d1.update(d2)\n",
    "d1"
   ]
  },
  {
   "cell_type": "code",
   "execution_count": 26,
   "id": "80bc5d27-345f-479c-9b7e-e408d92d3420",
   "metadata": {},
   "outputs": [
    {
     "data": {
      "text/plain": [
       "{'A': 1, 'B': 2, 'C': 3, 'D': 4, 'F': 7}"
      ]
     },
     "execution_count": 26,
     "metadata": {},
     "output_type": "execute_result"
    }
   ],
   "source": [
    "# dict concatenate (alternate way using **)\n",
    "d1={'A':1,'B':2}\n",
    "d2={'C':3,'D':4,'F':7}\n",
    "d3={**d1,**d2}\n",
    "d3"
   ]
  },
  {
   "cell_type": "code",
   "execution_count": 28,
   "id": "fbbca9f9-ec73-4b24-bf13-75ede91f6690",
   "metadata": {},
   "outputs": [
    {
     "data": {
      "text/plain": [
       "{'A', 'B', 'C', 'D', 'F'}"
      ]
     },
     "execution_count": 28,
     "metadata": {},
     "output_type": "execute_result"
    }
   ],
   "source": [
    "d1={'A':1,'B':2}\n",
    "d2={'C':3,'D':4,'F':7}\n",
    "d3={*d1,*d2}\n",
    "d3 # only keys "
   ]
  },
  {
   "cell_type": "code",
   "execution_count": 29,
   "id": "5adafb87-df5e-4707-9c08-80a84f15cead",
   "metadata": {},
   "outputs": [],
   "source": [
    "# uses"
   ]
  },
  {
   "cell_type": "code",
   "execution_count": 30,
   "id": "445fcf54-8295-4144-8681-228f8f5ed4ce",
   "metadata": {},
   "outputs": [],
   "source": [
    "def my_sum(a,b,c,d,e):\n",
    "    return(a+b+c+d+e)"
   ]
  },
  {
   "cell_type": "code",
   "execution_count": 31,
   "id": "ce289289-0537-4f15-99c1-dd2ec38e1018",
   "metadata": {},
   "outputs": [],
   "source": [
    "mylist=[1,2,3,4,5]"
   ]
  },
  {
   "cell_type": "code",
   "execution_count": 32,
   "id": "9c376689-1cc6-4b13-b9bb-22fc6b96ae8e",
   "metadata": {},
   "outputs": [
    {
     "data": {
      "text/plain": [
       "15"
      ]
     },
     "execution_count": 32,
     "metadata": {},
     "output_type": "execute_result"
    }
   ],
   "source": [
    "my_sum(*mylist)"
   ]
  },
  {
   "cell_type": "code",
   "execution_count": 35,
   "id": "67594b9d-44aa-48e0-b767-8524fa858504",
   "metadata": {},
   "outputs": [],
   "source": [
    "list1=[23,45,67,44,12]"
   ]
  },
  {
   "cell_type": "code",
   "execution_count": 36,
   "id": "83b5cb4d-a2f9-47de-9299-77faf462ee4f",
   "metadata": {},
   "outputs": [
    {
     "data": {
      "text/plain": [
       "191"
      ]
     },
     "execution_count": 36,
     "metadata": {},
     "output_type": "execute_result"
    }
   ],
   "source": [
    "my_sum(*list1)"
   ]
  },
  {
   "cell_type": "code",
   "execution_count": 37,
   "id": "00b42660-aefb-4b56-9c64-a61d81586688",
   "metadata": {},
   "outputs": [],
   "source": [
    "def my_sum(*a):\n",
    "    result=0\n",
    "    for i in a:\n",
    "        result=result+i\n",
    "    return result"
   ]
  },
  {
   "cell_type": "code",
   "execution_count": 38,
   "id": "661156ad-e40f-4d42-b0d5-0dac02f0b62b",
   "metadata": {},
   "outputs": [
    {
     "data": {
      "text/plain": [
       "45"
      ]
     },
     "execution_count": 38,
     "metadata": {},
     "output_type": "execute_result"
    }
   ],
   "source": [
    "list1=[1,2,3]\n",
    "list2=[4,5]\n",
    "list3=[6,7,8,9]\n",
    "my_sum(*list1,*list2,*list3)"
   ]
  },
  {
   "cell_type": "code",
   "execution_count": 39,
   "id": "a3d2706f-d071-4929-ab34-7b2f880c1180",
   "metadata": {},
   "outputs": [],
   "source": [
    "def my_sum(a):\n",
    "    result=0\n",
    "    for i in a:\n",
    "        result=result+i\n",
    "    return result"
   ]
  },
  {
   "cell_type": "code",
   "execution_count": 40,
   "id": "18446216-7ccc-49db-8066-1f868b73e088",
   "metadata": {},
   "outputs": [
    {
     "ename": "TypeError",
     "evalue": "my_sum() takes 1 positional argument but 9 were given",
     "output_type": "error",
     "traceback": [
      "\u001b[1;31m---------------------------------------------------------------------------\u001b[0m",
      "\u001b[1;31mTypeError\u001b[0m                                 Traceback (most recent call last)",
      "Cell \u001b[1;32mIn[40], line 4\u001b[0m\n\u001b[0;32m      2\u001b[0m list2\u001b[38;5;241m=\u001b[39m[\u001b[38;5;241m4\u001b[39m,\u001b[38;5;241m5\u001b[39m]\n\u001b[0;32m      3\u001b[0m list3\u001b[38;5;241m=\u001b[39m[\u001b[38;5;241m6\u001b[39m,\u001b[38;5;241m7\u001b[39m,\u001b[38;5;241m8\u001b[39m,\u001b[38;5;241m9\u001b[39m]\n\u001b[1;32m----> 4\u001b[0m my_sum(\u001b[38;5;241m*\u001b[39mlist1,\u001b[38;5;241m*\u001b[39mlist2,\u001b[38;5;241m*\u001b[39mlist3)\n",
      "\u001b[1;31mTypeError\u001b[0m: my_sum() takes 1 positional argument but 9 were given"
     ]
    }
   ],
   "source": [
    "list1=[1,2,3]\n",
    "list2=[4,5]\n",
    "list3=[6,7,8,9]\n",
    "my_sum(*list1,*list2,*list3)"
   ]
  },
  {
   "cell_type": "markdown",
   "id": "92656aca-b67f-47d2-9750-c96277ef324d",
   "metadata": {},
   "source": [
    "ZIP Function\n",
    "-------------"
   ]
  },
  {
   "cell_type": "code",
   "execution_count": 43,
   "id": "d577ba26-a810-450a-80b7-d6c78cdeba56",
   "metadata": {},
   "outputs": [],
   "source": [
    "a=['John','Jenny','Jesh']\n",
    "b=['Ashwin','Peter']"
   ]
  },
  {
   "cell_type": "code",
   "execution_count": 44,
   "id": "5702e684-889b-4698-80d1-37db5f4c1c0d",
   "metadata": {},
   "outputs": [
    {
     "data": {
      "text/plain": [
       "[('John', 'Ashwin'), ('Jenny', 'Peter')]"
      ]
     },
     "execution_count": 44,
     "metadata": {},
     "output_type": "execute_result"
    }
   ],
   "source": [
    "list(zip(a,b))"
   ]
  },
  {
   "cell_type": "code",
   "execution_count": 45,
   "id": "35203bd4-efee-4276-97fc-de84e4458b67",
   "metadata": {},
   "outputs": [
    {
     "data": {
      "text/plain": [
       "[('Ashwin', 'John'), ('Peter', 'Jenny')]"
      ]
     },
     "execution_count": 45,
     "metadata": {},
     "output_type": "execute_result"
    }
   ],
   "source": [
    "list(zip(b,a))"
   ]
  },
  {
   "cell_type": "code",
   "execution_count": 46,
   "id": "9dfdaebb-f204-4d5c-a3d5-3f5c357006ed",
   "metadata": {},
   "outputs": [
    {
     "data": {
      "text/plain": [
       "[('b', 'h'), ('u', 'a'), ('s', 's'), ('h', 's'), ('a', 'a'), ('n', 'n')]"
      ]
     },
     "execution_count": 46,
     "metadata": {},
     "output_type": "execute_result"
    }
   ],
   "source": [
    "a='bushan'\n",
    "b='hassanfhfuhdn'\n",
    "list(zip(a,b))"
   ]
  },
  {
   "cell_type": "code",
   "execution_count": 47,
   "id": "e6a8d336-b43f-4dd7-a860-b09aed4480a5",
   "metadata": {},
   "outputs": [
    {
     "name": "stdout",
     "output_type": "stream",
     "text": [
      "[(1, 'one'), (2, 'two'), (3, 'three'), (3, 'three')]\n"
     ]
    }
   ],
   "source": [
    "number_list=[1,2,3,3]\n",
    "str_list=['one','two','three','three']\n",
    "result=list(zip(number_list,str_list))\n",
    "print(result)"
   ]
  },
  {
   "cell_type": "code",
   "execution_count": 48,
   "id": "1329f7bf-7dd1-424c-95ed-e66850a11823",
   "metadata": {},
   "outputs": [
    {
     "data": {
      "text/plain": [
       "{(1, 'one'), (2, 'two'), (3, 'three')}"
      ]
     },
     "execution_count": 48,
     "metadata": {},
     "output_type": "execute_result"
    }
   ],
   "source": [
    "set(result)"
   ]
  },
  {
   "cell_type": "code",
   "execution_count": 50,
   "id": "69c9afbd-49bc-4779-b1a4-773aa2f2336e",
   "metadata": {},
   "outputs": [
    {
     "name": "stdout",
     "output_type": "stream",
     "text": [
      "[(1, 'ONE'), (2, 'TWO'), (3, 'THREE')]\n",
      "[(1, 'one', 'ONE'), (2, 'two', 'TWO')]\n"
     ]
    }
   ],
   "source": [
    "number_list=[1,2,3,]\n",
    "str_list=['one','two']\n",
    "numbers_tuple=('ONE','TWO','THREE','FOUR')\n",
    "\n",
    "result=zip(number_list,numbers_tuple)\n",
    "print(list(result))\n",
    "\n",
    "result1=zip(number_list,str_list,numbers_tuple)\n",
    "print(list(result1))"
   ]
  },
  {
   "cell_type": "code",
   "execution_count": 61,
   "id": "2a463ffc-8fd7-4bc3-becc-61e20fc19f4a",
   "metadata": {},
   "outputs": [
    {
     "name": "stdout",
     "output_type": "stream",
     "text": [
      "[('x', 3), ('y', 4), ('z', 5)]\n"
     ]
    }
   ],
   "source": [
    "coordinate=['x','y','z']\n",
    "value=[3,4,5]\n",
    "result=zip(coordinate,value)\n",
    "result_list=list(result)\n",
    "print(result_list)\n",
    "\n",
    "c,v=zip(*result_list)"
   ]
  },
  {
   "cell_type": "code",
   "execution_count": 62,
   "id": "4f27dace-c4cd-4381-bc24-8e70859e084c",
   "metadata": {},
   "outputs": [
    {
     "data": {
      "text/plain": [
       "('x', 'y', 'z')"
      ]
     },
     "execution_count": 62,
     "metadata": {},
     "output_type": "execute_result"
    }
   ],
   "source": [
    "c"
   ]
  },
  {
   "cell_type": "code",
   "execution_count": 63,
   "id": "85505528-2e6f-4249-bd74-df550e062726",
   "metadata": {},
   "outputs": [
    {
     "data": {
      "text/plain": [
       "(3, 4, 5)"
      ]
     },
     "execution_count": 63,
     "metadata": {},
     "output_type": "execute_result"
    }
   ],
   "source": [
    "v"
   ]
  },
  {
   "cell_type": "markdown",
   "id": "46be19f3-0b46-4e7f-8bcb-d77077044493",
   "metadata": {},
   "source": [
    "Enumerate\n",
    "-----------"
   ]
  },
  {
   "cell_type": "code",
   "execution_count": 55,
   "id": "6662169c-ab04-440a-96ef-cc3a3125bba6",
   "metadata": {},
   "outputs": [
    {
     "name": "stdout",
     "output_type": "stream",
     "text": [
      "[(0, 'P'), (1, 'y'), (2, 't'), (3, 'h'), (4, 'o'), (5, 'n')]\n"
     ]
    }
   ],
   "source": [
    "s1='Python'\n",
    "b=list(enumerate(s1))\n",
    "print(b)"
   ]
  },
  {
   "cell_type": "code",
   "execution_count": 52,
   "id": "9ebee239-a436-4a05-ac7b-bf71c2c56f62",
   "metadata": {},
   "outputs": [
    {
     "name": "stdout",
     "output_type": "stream",
     "text": [
      "[(5, 'DL'), (6, 'ML'), (7, 'NLP')]\n"
     ]
    }
   ],
   "source": [
    "l1=['DL','ML','NLP']\n",
    "ls=list(enumerate(l1,5))\n",
    "print(ls)"
   ]
  },
  {
   "cell_type": "code",
   "execution_count": 56,
   "id": "25f1e237-0b44-4d12-9efb-11bddafde684",
   "metadata": {},
   "outputs": [
    {
     "data": {
      "text/plain": [
       "[(0, 'P'), (1, 'y'), (2, 't'), (3, 'h'), (4, 'o'), (5, 'n')]"
      ]
     },
     "execution_count": 56,
     "metadata": {},
     "output_type": "execute_result"
    }
   ],
   "source": [
    "list(b)"
   ]
  },
  {
   "cell_type": "code",
   "execution_count": 57,
   "id": "798609e3-a76f-4099-8770-1004c9ad66cb",
   "metadata": {},
   "outputs": [
    {
     "data": {
      "text/plain": [
       "[(100, 'DL'), (101, 'ML'), (102, 'NLP')]"
      ]
     },
     "execution_count": 57,
     "metadata": {},
     "output_type": "execute_result"
    }
   ],
   "source": [
    "b=enumerate(s1)\n",
    "list(a)\n",
    "list(b)\n",
    "list(enumerate(l1,100))"
   ]
  },
  {
   "cell_type": "code",
   "execution_count": 58,
   "id": "6df0135f-01ec-4120-b179-40918fd4c352",
   "metadata": {},
   "outputs": [],
   "source": [
    "l1=['DL','ML','NLP']"
   ]
  },
  {
   "cell_type": "code",
   "execution_count": 59,
   "id": "7cf70111-3e9c-4a6d-9ced-4b47bdd71928",
   "metadata": {},
   "outputs": [
    {
     "name": "stdout",
     "output_type": "stream",
     "text": [
      "DL 0\n",
      "ML 1\n"
     ]
    }
   ],
   "source": [
    "for i,j in enumerate(l1):\n",
    "    if i<2:\n",
    "        print(j,i)"
   ]
  }
 ],
 "metadata": {
  "kernelspec": {
   "display_name": "Python 3 (ipykernel)",
   "language": "python",
   "name": "python3"
  },
  "language_info": {
   "codemirror_mode": {
    "name": "ipython",
    "version": 3
   },
   "file_extension": ".py",
   "mimetype": "text/x-python",
   "name": "python",
   "nbconvert_exporter": "python",
   "pygments_lexer": "ipython3",
   "version": "3.11.7"
  }
 },
 "nbformat": 4,
 "nbformat_minor": 5
}
