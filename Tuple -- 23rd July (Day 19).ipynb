{
 "cells": [
  {
   "cell_type": "markdown",
   "id": "3231bd51-e602-47cf-9b47-b4ecc8be0e93",
   "metadata": {},
   "source": [
    "Tuples\n",
    "-------\n",
    "1. Tuple is similar to List except that the objects in tuple are immutable which means we cannot change the elements of a tuple once assigned.\n",
    "2. When we do not want to change the data over time, tuple is a preferred data type.\n",
    "3. Iterating over the elements of a tuple is faster compared to iterating over a list."
   ]
  },
  {
   "cell_type": "code",
   "execution_count": 39,
   "id": "dce5e4f4-2397-44dc-a9fc-f127519414b8",
   "metadata": {},
   "outputs": [
    {
     "name": "stdout",
     "output_type": "stream",
     "text": [
      "()\n"
     ]
    }
   ],
   "source": [
    "# Tuple Creation\n",
    "tup1=() # empty tuple\n",
    "print(tup1)"
   ]
  },
  {
   "cell_type": "code",
   "execution_count": 40,
   "id": "32519304-ee9c-44d1-ad89-33e4f0609a4b",
   "metadata": {},
   "outputs": [
    {
     "name": "stdout",
     "output_type": "stream",
     "text": [
      "(10, 30, 60)\n"
     ]
    }
   ],
   "source": [
    "tup2=(10,30,60) # integer no tuple\n",
    "print(tup2)"
   ]
  },
  {
   "cell_type": "code",
   "execution_count": 41,
   "id": "93ed6477-7752-4776-a508-2ba9ac4d04ae",
   "metadata": {},
   "outputs": [
    {
     "name": "stdout",
     "output_type": "stream",
     "text": [
      "('one', 'two', 'three')\n"
     ]
    }
   ],
   "source": [
    "tup3=('one','two','three') # tuple of strings\n",
    "print(tup3)"
   ]
  },
  {
   "cell_type": "code",
   "execution_count": 42,
   "id": "b3ab311a-f9f5-402c-b9df-051369ce379d",
   "metadata": {},
   "outputs": [
    {
     "name": "stdout",
     "output_type": "stream",
     "text": [
      "('one', 25, (3, 4))\n"
     ]
    }
   ],
   "source": [
    "tup4=('one',25,(3,4)) # nested tuple \n",
    "print(tup4)"
   ]
  },
  {
   "cell_type": "code",
   "execution_count": 43,
   "id": "63e60c6e-3906-4dec-8ff7-7840248a301e",
   "metadata": {},
   "outputs": [
    {
     "name": "stdout",
     "output_type": "stream",
     "text": [
      "('one', 25, (3, 4), [50, 100], {'john', 'david'})\n"
     ]
    }
   ],
   "source": [
    "tup5=('one',25,(3,4),[50,100],{'john','david'}) # tuple of mixed data type\n",
    "print(tup5)"
   ]
  },
  {
   "cell_type": "code",
   "execution_count": 6,
   "id": "4ad3b234-eed1-4eb1-9f67-40fb9b2f6deb",
   "metadata": {},
   "outputs": [
    {
     "data": {
      "text/plain": [
       "5"
      ]
     },
     "execution_count": 6,
     "metadata": {},
     "output_type": "execute_result"
    }
   ],
   "source": [
    "len(tup5)"
   ]
  },
  {
   "cell_type": "code",
   "execution_count": 7,
   "id": "da46a0cb-b296-4f7e-9c3e-87925db43bb3",
   "metadata": {},
   "outputs": [
    {
     "data": {
      "text/plain": [
       "10"
      ]
     },
     "execution_count": 7,
     "metadata": {},
     "output_type": "execute_result"
    }
   ],
   "source": [
    "# Tuple Indexing (same as of list)\n",
    "tup2[0]"
   ]
  },
  {
   "cell_type": "code",
   "execution_count": 8,
   "id": "841ad7c5-8850-4856-9fc9-637651fbff56",
   "metadata": {},
   "outputs": [
    {
     "data": {
      "text/plain": [
       "'one'"
      ]
     },
     "execution_count": 8,
     "metadata": {},
     "output_type": "execute_result"
    }
   ],
   "source": [
    "tup4[0]"
   ]
  },
  {
   "cell_type": "code",
   "execution_count": 9,
   "id": "5136c73f-55f1-430d-8f7f-cacbe27834f9",
   "metadata": {},
   "outputs": [
    {
     "data": {
      "text/plain": [
       "'o'"
      ]
     },
     "execution_count": 9,
     "metadata": {},
     "output_type": "execute_result"
    }
   ],
   "source": [
    "tup4[0][0]"
   ]
  },
  {
   "cell_type": "code",
   "execution_count": 10,
   "id": "ed7b7883-8091-4fbc-8867-a4daeafeec2c",
   "metadata": {},
   "outputs": [
    {
     "data": {
      "text/plain": [
       "'three'"
      ]
     },
     "execution_count": 10,
     "metadata": {},
     "output_type": "execute_result"
    }
   ],
   "source": [
    "tup3[-1]"
   ]
  },
  {
   "cell_type": "code",
   "execution_count": 11,
   "id": "f7a82a70-b576-4296-b011-3e2d63d39188",
   "metadata": {},
   "outputs": [],
   "source": [
    "# Tuple Slicing\n",
    "mytuple=('one','two','three','four','five','six','seven','eight')"
   ]
  },
  {
   "cell_type": "code",
   "execution_count": 12,
   "id": "02e61694-1708-42bb-ad9f-93e7e683d1ed",
   "metadata": {},
   "outputs": [
    {
     "data": {
      "text/plain": [
       "('one', 'two', 'three')"
      ]
     },
     "execution_count": 12,
     "metadata": {},
     "output_type": "execute_result"
    }
   ],
   "source": [
    "mytuple[0:3]"
   ]
  },
  {
   "cell_type": "code",
   "execution_count": 13,
   "id": "84f63621-1933-443b-b86b-3b538f5d2215",
   "metadata": {},
   "outputs": [
    {
     "data": {
      "text/plain": [
       "('three', 'four', 'five')"
      ]
     },
     "execution_count": 13,
     "metadata": {},
     "output_type": "execute_result"
    }
   ],
   "source": [
    "mytuple[2:5]"
   ]
  },
  {
   "cell_type": "code",
   "execution_count": 14,
   "id": "6364fc13-81df-4cdb-aec1-4c67e49caf93",
   "metadata": {},
   "outputs": [
    {
     "data": {
      "text/plain": [
       "('one', 'two', 'three', 'four')"
      ]
     },
     "execution_count": 14,
     "metadata": {},
     "output_type": "execute_result"
    }
   ],
   "source": [
    "mytuple[:4]"
   ]
  },
  {
   "cell_type": "code",
   "execution_count": 15,
   "id": "75334eae-5b8b-4105-ac23-31b7f4a9ee01",
   "metadata": {},
   "outputs": [
    {
     "data": {
      "text/plain": [
       "('one', 'two')"
      ]
     },
     "execution_count": 15,
     "metadata": {},
     "output_type": "execute_result"
    }
   ],
   "source": [
    "mytuple[:2]"
   ]
  },
  {
   "cell_type": "code",
   "execution_count": 16,
   "id": "c8a44361-eac9-46dc-ae74-c02895e78f4e",
   "metadata": {},
   "outputs": [
    {
     "data": {
      "text/plain": [
       "('six', 'seven', 'eight')"
      ]
     },
     "execution_count": 16,
     "metadata": {},
     "output_type": "execute_result"
    }
   ],
   "source": [
    "mytuple[-3:]"
   ]
  },
  {
   "cell_type": "code",
   "execution_count": 17,
   "id": "d01534f5-d2fa-4085-9e0d-d3629fd7bf6e",
   "metadata": {},
   "outputs": [
    {
     "data": {
      "text/plain": [
       "('seven', 'eight')"
      ]
     },
     "execution_count": 17,
     "metadata": {},
     "output_type": "execute_result"
    }
   ],
   "source": [
    "mytuple[-2:]"
   ]
  },
  {
   "cell_type": "code",
   "execution_count": 18,
   "id": "3fb3a16c-79b5-42bc-9420-702cc5ce6bcf",
   "metadata": {},
   "outputs": [
    {
     "data": {
      "text/plain": [
       "'eight'"
      ]
     },
     "execution_count": 18,
     "metadata": {},
     "output_type": "execute_result"
    }
   ],
   "source": [
    "mytuple[-1]"
   ]
  },
  {
   "cell_type": "code",
   "execution_count": 19,
   "id": "2edca3a3-387a-4261-807a-bf90bf7146cc",
   "metadata": {},
   "outputs": [
    {
     "data": {
      "text/plain": [
       "('one', 'two', 'three', 'four', 'five', 'six', 'seven', 'eight')"
      ]
     },
     "execution_count": 19,
     "metadata": {},
     "output_type": "execute_result"
    }
   ],
   "source": [
    "mytuple[:]"
   ]
  },
  {
   "cell_type": "code",
   "execution_count": 20,
   "id": "1e954fe2-b1a4-49ee-ba7c-0dd1d74e0db4",
   "metadata": {},
   "outputs": [
    {
     "data": {
      "text/plain": [
       "('one', 'two', 'three', 'four', 'five', 'six', 'seven', 'eight')"
      ]
     },
     "execution_count": 20,
     "metadata": {},
     "output_type": "execute_result"
    }
   ],
   "source": [
    "# Remove and Change Items\n",
    "mytuple"
   ]
  },
  {
   "cell_type": "code",
   "execution_count": 21,
   "id": "a6eb1e92-cdb0-48e7-9f89-ef8ec3c67ce0",
   "metadata": {},
   "outputs": [
    {
     "ename": "TypeError",
     "evalue": "'tuple' object doesn't support item deletion",
     "output_type": "error",
     "traceback": [
      "\u001b[1;31m---------------------------------------------------------------------------\u001b[0m",
      "\u001b[1;31mTypeError\u001b[0m                                 Traceback (most recent call last)",
      "Cell \u001b[1;32mIn[21], line 1\u001b[0m\n\u001b[1;32m----> 1\u001b[0m \u001b[38;5;28;01mdel\u001b[39;00m mytuple[\u001b[38;5;241m0\u001b[39m]\n",
      "\u001b[1;31mTypeError\u001b[0m: 'tuple' object doesn't support item deletion"
     ]
    }
   ],
   "source": [
    "del mytuple[0] # tuples are immutable which means we can't delete tuple items"
   ]
  },
  {
   "cell_type": "code",
   "execution_count": 22,
   "id": "84da2022-e632-40d6-844e-423267ec9ff2",
   "metadata": {},
   "outputs": [
    {
     "ename": "TypeError",
     "evalue": "'tuple' object does not support item assignment",
     "output_type": "error",
     "traceback": [
      "\u001b[1;31m---------------------------------------------------------------------------\u001b[0m",
      "\u001b[1;31mTypeError\u001b[0m                                 Traceback (most recent call last)",
      "Cell \u001b[1;32mIn[22], line 1\u001b[0m\n\u001b[1;32m----> 1\u001b[0m mytuple[\u001b[38;5;241m0\u001b[39m]\u001b[38;5;241m=\u001b[39m\u001b[38;5;241m1\u001b[39m\n",
      "\u001b[1;31mTypeError\u001b[0m: 'tuple' object does not support item assignment"
     ]
    }
   ],
   "source": [
    "mytuple[0]=1"
   ]
  },
  {
   "cell_type": "code",
   "execution_count": 23,
   "id": "f849ad83-9078-43ad-bfa5-3248a2a6f0be",
   "metadata": {},
   "outputs": [],
   "source": [
    "del mytuple # deletes the entire tuple"
   ]
  },
  {
   "cell_type": "code",
   "execution_count": 24,
   "id": "74ac0b19-cb18-4f99-9bf2-5db9feb75361",
   "metadata": {},
   "outputs": [],
   "source": [
    "# Count --- number of occurrences\n",
    "mytuple1=('one','two','three','four','one','one','two','three')"
   ]
  },
  {
   "cell_type": "code",
   "execution_count": 25,
   "id": "3e761681-b811-4108-bb98-e8d4648b2101",
   "metadata": {},
   "outputs": [
    {
     "data": {
      "text/plain": [
       "3"
      ]
     },
     "execution_count": 25,
     "metadata": {},
     "output_type": "execute_result"
    }
   ],
   "source": [
    "mytuple1.count('one')"
   ]
  },
  {
   "cell_type": "code",
   "execution_count": 26,
   "id": "4516bc3b-f24d-45c4-8893-c0a997f2007d",
   "metadata": {},
   "outputs": [
    {
     "data": {
      "text/plain": [
       "2"
      ]
     },
     "execution_count": 26,
     "metadata": {},
     "output_type": "execute_result"
    }
   ],
   "source": [
    "mytuple1.count('two')"
   ]
  },
  {
   "cell_type": "code",
   "execution_count": 27,
   "id": "7e304775-e623-4a20-abec-db37d127bf64",
   "metadata": {},
   "outputs": [
    {
     "data": {
      "text/plain": [
       "1"
      ]
     },
     "execution_count": 27,
     "metadata": {},
     "output_type": "execute_result"
    }
   ],
   "source": [
    "mytuple1.count('four')"
   ]
  },
  {
   "cell_type": "code",
   "execution_count": 28,
   "id": "b122afa4-e55a-48f3-994f-72d609523543",
   "metadata": {},
   "outputs": [
    {
     "data": {
      "text/plain": [
       "0"
      ]
     },
     "execution_count": 28,
     "metadata": {},
     "output_type": "execute_result"
    }
   ],
   "source": [
    "# Index function\n",
    "mytuple1.index('one')"
   ]
  },
  {
   "cell_type": "code",
   "execution_count": 29,
   "id": "5c4e791a-82ad-47bb-9c76-12e7af27831a",
   "metadata": {},
   "outputs": [
    {
     "data": {
      "text/plain": [
       "3"
      ]
     },
     "execution_count": 29,
     "metadata": {},
     "output_type": "execute_result"
    }
   ],
   "source": [
    "mytuple1.index('four')"
   ]
  },
  {
   "cell_type": "code",
   "execution_count": 30,
   "id": "df3b4d71-c3a9-4b5f-92e0-159640fa9609",
   "metadata": {},
   "outputs": [],
   "source": [
    "# Sorting\n",
    "mytuple2=(43,67,99,12,6,90,67)"
   ]
  },
  {
   "cell_type": "code",
   "execution_count": 31,
   "id": "b77f2971-7e2a-4f41-bdfc-9cf31e444e7a",
   "metadata": {},
   "outputs": [
    {
     "data": {
      "text/plain": [
       "[6, 12, 43, 67, 67, 90, 99]"
      ]
     },
     "execution_count": 31,
     "metadata": {},
     "output_type": "execute_result"
    }
   ],
   "source": [
    "sorted(mytuple2) # returns a new sorted list and doesn't change original tuple"
   ]
  },
  {
   "cell_type": "code",
   "execution_count": 32,
   "id": "1f37e465-fb04-4436-a373-b323e48c806b",
   "metadata": {},
   "outputs": [
    {
     "data": {
      "text/plain": [
       "(43, 67, 99, 12, 6, 90, 67)"
      ]
     },
     "execution_count": 32,
     "metadata": {},
     "output_type": "execute_result"
    }
   ],
   "source": [
    "mytuple2 # tuple didnot change"
   ]
  },
  {
   "cell_type": "code",
   "execution_count": 33,
   "id": "3ca5b8f5-1b28-4da1-a6fd-465c0447b21f",
   "metadata": {},
   "outputs": [
    {
     "name": "stdout",
     "output_type": "stream",
     "text": [
      "(12, 23, 'Abhishek', 45, 56, 67, 78)\n"
     ]
    }
   ],
   "source": [
    "# Can we change the element of the tuple --- NO\n",
    "# but there is one alternate of this --- tuple to list to tuple\n",
    "t1=(12,23,34,45,56,67,78)\n",
    "x=list(t1)\n",
    "x[2]='Abhishek'\n",
    "t1=tuple(x)\n",
    "print(t1)"
   ]
  },
  {
   "cell_type": "code",
   "execution_count": 34,
   "id": "da0d03ed-6d08-4195-9926-3f3d16eb46b5",
   "metadata": {},
   "outputs": [
    {
     "name": "stdout",
     "output_type": "stream",
     "text": [
      "12\n",
      "23\n",
      "34\n",
      "45\n",
      "56\n"
     ]
    }
   ],
   "source": [
    "# Tuple packing\n",
    "t1=12,23,34,45,56\n",
    "a,b,c,d,e=t1 # unpacking\n",
    "print(a)\n",
    "print(b)\n",
    "print(c)\n",
    "print(d)\n",
    "print(e)"
   ]
  },
  {
   "cell_type": "code",
   "execution_count": 35,
   "id": "fdd2ae1d-e2ea-4576-86a5-51af3b87718d",
   "metadata": {},
   "outputs": [
    {
     "name": "stdout",
     "output_type": "stream",
     "text": [
      "<class 'int'>\n"
     ]
    }
   ],
   "source": [
    "t2=(12) # we cannot create single value tuple like this\n",
    "print(type(t2))"
   ]
  },
  {
   "cell_type": "code",
   "execution_count": 36,
   "id": "0ddf90a4-dfdd-46c8-8e47-249833bec4cb",
   "metadata": {},
   "outputs": [
    {
     "name": "stdout",
     "output_type": "stream",
     "text": [
      "<class 'tuple'>\n"
     ]
    }
   ],
   "source": [
    "t2=(12,)\n",
    "print(type(t2))"
   ]
  },
  {
   "cell_type": "code",
   "execution_count": 37,
   "id": "d3598051-2c57-479c-9620-76833be86bbc",
   "metadata": {},
   "outputs": [
    {
     "name": "stdout",
     "output_type": "stream",
     "text": [
      "(1, 2, 3, 4, 5, 6, 77, 98)\n"
     ]
    }
   ],
   "source": [
    "# adding one element in the tuple\n",
    "t1=(1,2,3,4,5,6,77)\n",
    "ls=list(t1)\n",
    "ls.append(98)\n",
    "t1=tuple(ls)\n",
    "print(t1)"
   ]
  },
  {
   "cell_type": "code",
   "execution_count": 38,
   "id": "e8c60eec-c858-4ce9-888e-a98f48c56dcf",
   "metadata": {},
   "outputs": [
    {
     "name": "stdout",
     "output_type": "stream",
     "text": [
      "(1, 2, 'Hello', 4, 5, 6, 77)\n"
     ]
    }
   ],
   "source": [
    "# update an element in the tuple\n",
    "t1=(1,2,3,4,5,6,77)\n",
    "ls=list(t1)\n",
    "ls[2]=\"Hello\"\n",
    "t1=tuple(ls)\n",
    "print(t1)"
   ]
  }
 ],
 "metadata": {
  "kernelspec": {
   "display_name": "Python 3 (ipykernel)",
   "language": "python",
   "name": "python3"
  },
  "language_info": {
   "codemirror_mode": {
    "name": "ipython",
    "version": 3
   },
   "file_extension": ".py",
   "mimetype": "text/x-python",
   "name": "python",
   "nbconvert_exporter": "python",
   "pygments_lexer": "ipython3",
   "version": "3.11.7"
  }
 },
 "nbformat": 4,
 "nbformat_minor": 5
}
