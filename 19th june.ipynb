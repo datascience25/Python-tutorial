{
 "cells": [
  {
   "cell_type": "code",
   "execution_count": 1,
   "id": "0766800a-f4fe-40e0-8824-f7cf75ff3729",
   "metadata": {},
   "outputs": [],
   "source": [
    "a=10 # variable=value"
   ]
  },
  {
   "cell_type": "code",
   "execution_count": 2,
   "id": "20d39cda-dcab-48ca-aa5f-b4c2916f7789",
   "metadata": {},
   "outputs": [
    {
     "data": {
      "text/plain": [
       "10"
      ]
     },
     "execution_count": 2,
     "metadata": {},
     "output_type": "execute_result"
    }
   ],
   "source": [
    "a"
   ]
  },
  {
   "cell_type": "code",
   "execution_count": 3,
   "id": "8acf07e8-8ae8-4eb1-b042-9461165fb1c3",
   "metadata": {},
   "outputs": [],
   "source": [
    "a=a+10"
   ]
  },
  {
   "cell_type": "code",
   "execution_count": 4,
   "id": "a5164b0f-64a5-4705-ad49-46f254da7ebd",
   "metadata": {},
   "outputs": [
    {
     "data": {
      "text/plain": [
       "20"
      ]
     },
     "execution_count": 4,
     "metadata": {},
     "output_type": "execute_result"
    }
   ],
   "source": [
    "a"
   ]
  },
  {
   "cell_type": "code",
   "execution_count": 6,
   "id": "4c41f9ad-4194-48e8-b7e7-ce8cd616d4f6",
   "metadata": {},
   "outputs": [
    {
     "data": {
      "text/plain": [
       "30"
      ]
     },
     "execution_count": 6,
     "metadata": {},
     "output_type": "execute_result"
    }
   ],
   "source": [
    "a1=30\n",
    "a1"
   ]
  },
  {
   "cell_type": "code",
   "execution_count": 7,
   "id": "3ac33fc6-96c3-4865-ac87-67754072dce6",
   "metadata": {},
   "outputs": [
    {
     "data": {
      "text/plain": [
       "40"
      ]
     },
     "execution_count": 7,
     "metadata": {},
     "output_type": "execute_result"
    }
   ],
   "source": [
    "a_1=40\n",
    "a_1"
   ]
  },
  {
   "cell_type": "code",
   "execution_count": 8,
   "id": "7c4a8cf8-fa52-4982-aca1-60f63376d200",
   "metadata": {},
   "outputs": [
    {
     "ename": "SyntaxError",
     "evalue": "invalid decimal literal (3327764251.py, line 1)",
     "output_type": "error",
     "traceback": [
      "\u001b[1;36m  Cell \u001b[1;32mIn[8], line 1\u001b[1;36m\u001b[0m\n\u001b[1;33m    1a=60\u001b[0m\n\u001b[1;37m    ^\u001b[0m\n\u001b[1;31mSyntaxError\u001b[0m\u001b[1;31m:\u001b[0m invalid decimal literal\n"
     ]
    }
   ],
   "source": [
    "1a=60"
   ]
  },
  {
   "cell_type": "code",
   "execution_count": 9,
   "id": "f5631e78-ac18-4806-b917-2e677356f720",
   "metadata": {},
   "outputs": [
    {
     "ename": "SyntaxError",
     "evalue": "invalid syntax (4121825865.py, line 1)",
     "output_type": "error",
     "traceback": [
      "\u001b[1;36m  Cell \u001b[1;32mIn[9], line 1\u001b[1;36m\u001b[0m\n\u001b[1;33m    a b=98\u001b[0m\n\u001b[1;37m      ^\u001b[0m\n\u001b[1;31mSyntaxError\u001b[0m\u001b[1;31m:\u001b[0m invalid syntax\n"
     ]
    }
   ],
   "source": [
    "a b=98"
   ]
  },
  {
   "cell_type": "code",
   "execution_count": 10,
   "id": "ea090388-d199-4e5c-80d5-f0983918c143",
   "metadata": {},
   "outputs": [
    {
     "ename": "SyntaxError",
     "evalue": "cannot assign to expression here. Maybe you meant '==' instead of '='? (3237238075.py, line 1)",
     "output_type": "error",
     "traceback": [
      "\u001b[1;36m  Cell \u001b[1;32mIn[10], line 1\u001b[1;36m\u001b[0m\n\u001b[1;33m    a-b=8\u001b[0m\n\u001b[1;37m    ^\u001b[0m\n\u001b[1;31mSyntaxError\u001b[0m\u001b[1;31m:\u001b[0m cannot assign to expression here. Maybe you meant '==' instead of '='?\n"
     ]
    }
   ],
   "source": [
    "a-b=8"
   ]
  },
  {
   "cell_type": "code",
   "execution_count": 11,
   "id": "b0dc3bef-e2fc-47ce-9109-f8a929f2ab1a",
   "metadata": {},
   "outputs": [
    {
     "ename": "SyntaxError",
     "evalue": "cannot assign to expression here. Maybe you meant '==' instead of '='? (3084457085.py, line 1)",
     "output_type": "error",
     "traceback": [
      "\u001b[1;36m  Cell \u001b[1;32mIn[11], line 1\u001b[1;36m\u001b[0m\n\u001b[1;33m    a*b=98\u001b[0m\n\u001b[1;37m    ^\u001b[0m\n\u001b[1;31mSyntaxError\u001b[0m\u001b[1;31m:\u001b[0m cannot assign to expression here. Maybe you meant '==' instead of '='?\n"
     ]
    }
   ],
   "source": [
    "a*b=98"
   ]
  },
  {
   "cell_type": "code",
   "execution_count": 12,
   "id": "1c438023-fc2e-498a-be3d-fac14870c0c4",
   "metadata": {},
   "outputs": [],
   "source": [
    "a=25\n",
    "b=6"
   ]
  },
  {
   "cell_type": "code",
   "execution_count": 13,
   "id": "1024234c-7d52-4043-8d1d-08b7d67cfa10",
   "metadata": {},
   "outputs": [
    {
     "data": {
      "text/plain": [
       "31"
      ]
     },
     "execution_count": 13,
     "metadata": {},
     "output_type": "execute_result"
    }
   ],
   "source": [
    "a+b"
   ]
  },
  {
   "cell_type": "code",
   "execution_count": 14,
   "id": "5d7c84f7-f482-4760-93c0-73612e617f8d",
   "metadata": {},
   "outputs": [
    {
     "data": {
      "text/plain": [
       "19"
      ]
     },
     "execution_count": 14,
     "metadata": {},
     "output_type": "execute_result"
    }
   ],
   "source": [
    "a-b"
   ]
  },
  {
   "cell_type": "code",
   "execution_count": 15,
   "id": "f61ea80f-59e1-4a1e-b0ce-98148f68aef5",
   "metadata": {},
   "outputs": [
    {
     "data": {
      "text/plain": [
       "150"
      ]
     },
     "execution_count": 15,
     "metadata": {},
     "output_type": "execute_result"
    }
   ],
   "source": [
    "a*b"
   ]
  },
  {
   "cell_type": "code",
   "execution_count": 16,
   "id": "aa58110d-5595-4884-ac22-bfd86434a9b4",
   "metadata": {},
   "outputs": [
    {
     "data": {
      "text/plain": [
       "4.166666666666667"
      ]
     },
     "execution_count": 16,
     "metadata": {},
     "output_type": "execute_result"
    }
   ],
   "source": [
    "a/b"
   ]
  },
  {
   "cell_type": "code",
   "execution_count": 17,
   "id": "67f835a9-edd2-49c1-9dc4-dfd9be5e5a49",
   "metadata": {},
   "outputs": [
    {
     "data": {
      "text/plain": [
       "4"
      ]
     },
     "execution_count": 17,
     "metadata": {},
     "output_type": "execute_result"
    }
   ],
   "source": [
    "a//b # only integer part"
   ]
  },
  {
   "cell_type": "code",
   "execution_count": 18,
   "id": "1921e554-da67-422f-bd21-2c40e14b94fe",
   "metadata": {},
   "outputs": [
    {
     "data": {
      "text/plain": [
       "1"
      ]
     },
     "execution_count": 18,
     "metadata": {},
     "output_type": "execute_result"
    }
   ],
   "source": [
    "a%b # remainder"
   ]
  },
  {
   "cell_type": "code",
   "execution_count": 19,
   "id": "b03aed89-70bc-474d-b003-8c151a7c637e",
   "metadata": {},
   "outputs": [
    {
     "data": {
      "text/plain": [
       "244140625"
      ]
     },
     "execution_count": 19,
     "metadata": {},
     "output_type": "execute_result"
    }
   ],
   "source": [
    "a**b # exponent"
   ]
  },
  {
   "cell_type": "code",
   "execution_count": 20,
   "id": "83eaf9c6-4883-4857-9a12-98d1b9371c9f",
   "metadata": {},
   "outputs": [
    {
     "data": {
      "text/plain": [
       "625"
      ]
     },
     "execution_count": 20,
     "metadata": {},
     "output_type": "execute_result"
    }
   ],
   "source": [
    "25**2"
   ]
  },
  {
   "cell_type": "code",
   "execution_count": 21,
   "id": "27813a01-8eb4-46b1-ad1a-92aa70f92db0",
   "metadata": {},
   "outputs": [
    {
     "name": "stdout",
     "output_type": "stream",
     "text": [
      "300\n",
      "the sum is 300\n"
     ]
    }
   ],
   "source": [
    "# sum of two numbers\n",
    "\n",
    "a=100\n",
    "b=200\n",
    "c=a+b\n",
    "print(c)\n",
    "print(\"the sum is\",c)"
   ]
  },
  {
   "cell_type": "code",
   "execution_count": 22,
   "id": "837d2396-f6db-4e88-8c55-7a5958ad2d22",
   "metadata": {},
   "outputs": [
    {
     "name": "stdout",
     "output_type": "stream",
     "text": [
      "the interest is 450.0\n"
     ]
    }
   ],
   "source": [
    "# simple interest \n",
    "p=2000\n",
    "r=4.5\n",
    "t=5\n",
    "si=p*r*t/100\n",
    "print(\"the interest is\",si)"
   ]
  },
  {
   "cell_type": "code",
   "execution_count": 25,
   "id": "7b62ec80-76d4-401d-82a7-562cdb48b2ba",
   "metadata": {},
   "outputs": [
    {
     "name": "stdout",
     "output_type": "stream",
     "text": [
      "the average is 20.333333333333332\n"
     ]
    }
   ],
   "source": [
    "# average\n",
    "a=12\n",
    "b=17\n",
    "c=32\n",
    "avg=(a+b+c)/3\n",
    "print(\"the average is\",avg)"
   ]
  },
  {
   "cell_type": "code",
   "execution_count": 26,
   "id": "8281eb17-4169-4a29-bf8b-6f6aade12089",
   "metadata": {},
   "outputs": [
    {
     "name": "stdout",
     "output_type": "stream",
     "text": [
      "the percentage is 72.8\n"
     ]
    }
   ],
   "source": [
    "# calculate percentage of marks\n",
    "p=56\n",
    "c=89\n",
    "m=87\n",
    "e=56\n",
    "h=76\n",
    "s=p+c+m+e+h\n",
    "per=s*100/500\n",
    "print(\"the percentage is\",per)"
   ]
  },
  {
   "cell_type": "code",
   "execution_count": 27,
   "id": "9f9f28bb-146a-4f1b-b1df-26b7c9946bc3",
   "metadata": {},
   "outputs": [
    {
     "name": "stdout",
     "output_type": "stream",
     "text": [
      "values before swapping\n",
      "A= 10\n",
      "B= 20\n",
      "Values after swapping\n",
      "A= 20\n",
      "B= 10\n"
     ]
    }
   ],
   "source": [
    "# swapping of two numbers\n",
    "a=10\n",
    "b=20\n",
    "print(\"values before swapping\")\n",
    "print(\"A=\",a)\n",
    "print(\"B=\",b)\n",
    "temp=a #temp=10\n",
    "a=b  #a=20\n",
    "b=temp  #b=10\n",
    "print(\"Values after swapping\")\n",
    "print(\"A=\",a)\n",
    "print(\"B=\",b)"
   ]
  },
  {
   "cell_type": "code",
   "execution_count": 28,
   "id": "9f4c690f-0f4a-459e-8223-235d5db9f6be",
   "metadata": {},
   "outputs": [
    {
     "name": "stdout",
     "output_type": "stream",
     "text": [
      "values before swapping\n",
      "A= 10\n",
      "B= 20\n",
      "Values after swapping\n",
      "A= 20\n",
      "B= 10\n"
     ]
    }
   ],
   "source": [
    "a=10\n",
    "b=20\n",
    "print(\"values before swapping\")\n",
    "print(\"A=\",a)\n",
    "print(\"B=\",b)\n",
    "a,b=b,a\n",
    "print(\"Values after swapping\")\n",
    "print(\"A=\",a)\n",
    "print(\"B=\",b)"
   ]
  },
  {
   "cell_type": "code",
   "execution_count": 1,
   "id": "b066eee1-aa9c-46ee-99e0-5daf35ee5018",
   "metadata": {},
   "outputs": [
    {
     "name": "stdout",
     "output_type": "stream",
     "text": [
      "values before swapping\n",
      "A= 2\n",
      "B= 7\n",
      "values after swapping\n",
      "A= 7\n",
      "B= 2\n"
     ]
    }
   ],
   "source": [
    "a=2\n",
    "b=7\n",
    "print(\"values before swapping\")\n",
    "print(\"A=\",a)\n",
    "print(\"B=\",b)\n",
    "a,b=b,a\n",
    "print(\"values after swapping\")\n",
    "print(\"A=\",a)\n",
    "print(\"B=\",b)"
   ]
  },
  {
   "cell_type": "code",
   "execution_count": 6,
   "id": "5c3be8f4-dcaf-4cce-b3c2-fd89c6662a42",
   "metadata": {},
   "outputs": [],
   "source": [
    "# 20th june \n",
    "a=20\n",
    "b=20"
   ]
  },
  {
   "cell_type": "code",
   "execution_count": 3,
   "id": "926c9eb5-21bf-49a1-b291-fe6abc6f5372",
   "metadata": {},
   "outputs": [
    {
     "data": {
      "text/plain": [
       "False"
      ]
     },
     "execution_count": 3,
     "metadata": {},
     "output_type": "execute_result"
    }
   ],
   "source": [
    "a==b"
   ]
  },
  {
   "cell_type": "code",
   "execution_count": 4,
   "id": "32ef203d-d1c7-4a4f-bec5-a5135bbe1e16",
   "metadata": {},
   "outputs": [
    {
     "data": {
      "text/plain": [
       "True"
      ]
     },
     "execution_count": 4,
     "metadata": {},
     "output_type": "execute_result"
    }
   ],
   "source": [
    "a>b"
   ]
  },
  {
   "cell_type": "code",
   "execution_count": 5,
   "id": "a0601a4b-ef57-4b39-957f-b95dbbe225c1",
   "metadata": {},
   "outputs": [
    {
     "data": {
      "text/plain": [
       "False"
      ]
     },
     "execution_count": 5,
     "metadata": {},
     "output_type": "execute_result"
    }
   ],
   "source": [
    "a<b"
   ]
  },
  {
   "cell_type": "code",
   "execution_count": 7,
   "id": "055b669f-f29a-4497-bd60-adbdd6ebfaa2",
   "metadata": {},
   "outputs": [
    {
     "data": {
      "text/plain": [
       "True"
      ]
     },
     "execution_count": 7,
     "metadata": {},
     "output_type": "execute_result"
    }
   ],
   "source": [
    "a<=b"
   ]
  },
  {
   "cell_type": "code",
   "execution_count": 10,
   "id": "cb0b1ac5-b40c-4a9f-a3ab-df23e1f6964b",
   "metadata": {},
   "outputs": [
    {
     "data": {
      "text/plain": [
       "False"
      ]
     },
     "execution_count": 10,
     "metadata": {},
     "output_type": "execute_result"
    }
   ],
   "source": [
    "a==b"
   ]
  },
  {
   "cell_type": "code",
   "execution_count": 11,
   "id": "6c09b0db-f15f-4313-a4f0-4a41e14a5dcb",
   "metadata": {},
   "outputs": [
    {
     "data": {
      "text/plain": [
       "False"
      ]
     },
     "execution_count": 11,
     "metadata": {},
     "output_type": "execute_result"
    }
   ],
   "source": [
    "a=5\n",
    "a==6"
   ]
  },
  {
   "cell_type": "code",
   "execution_count": 12,
   "id": "ce90d8c5-8fad-4b43-ae07-71534b5a12ba",
   "metadata": {},
   "outputs": [
    {
     "data": {
      "text/plain": [
       "True"
      ]
     },
     "execution_count": 12,
     "metadata": {},
     "output_type": "execute_result"
    }
   ],
   "source": [
    "a=9\n",
    "a==9"
   ]
  },
  {
   "cell_type": "code",
   "execution_count": 13,
   "id": "7c198228-8778-47e6-b8ee-4d5723beaa71",
   "metadata": {},
   "outputs": [
    {
     "data": {
      "text/plain": [
       "True"
      ]
     },
     "execution_count": 13,
     "metadata": {},
     "output_type": "execute_result"
    }
   ],
   "source": [
    "# logical operator\n",
    "True and True and True"
   ]
  },
  {
   "cell_type": "code",
   "execution_count": 14,
   "id": "0692587e-65bf-45b0-8ca1-c9dab7eb646f",
   "metadata": {},
   "outputs": [
    {
     "data": {
      "text/plain": [
       "False"
      ]
     },
     "execution_count": 14,
     "metadata": {},
     "output_type": "execute_result"
    }
   ],
   "source": [
    "True and True and False"
   ]
  },
  {
   "cell_type": "code",
   "execution_count": 15,
   "id": "3e7434f2-490e-4513-ae16-513043eca23d",
   "metadata": {},
   "outputs": [
    {
     "data": {
      "text/plain": [
       "False"
      ]
     },
     "execution_count": 15,
     "metadata": {},
     "output_type": "execute_result"
    }
   ],
   "source": [
    "False or False or False"
   ]
  },
  {
   "cell_type": "code",
   "execution_count": 16,
   "id": "25f4fd76-45f4-4d98-b7be-dc808bd181b9",
   "metadata": {},
   "outputs": [
    {
     "data": {
      "text/plain": [
       "True"
      ]
     },
     "execution_count": 16,
     "metadata": {},
     "output_type": "execute_result"
    }
   ],
   "source": [
    "False or True or False"
   ]
  },
  {
   "cell_type": "code",
   "execution_count": 17,
   "id": "909d411a-fe05-4012-860d-07c643335a34",
   "metadata": {},
   "outputs": [
    {
     "data": {
      "text/plain": [
       "True"
      ]
     },
     "execution_count": 17,
     "metadata": {},
     "output_type": "execute_result"
    }
   ],
   "source": [
    "False or True or True"
   ]
  },
  {
   "cell_type": "code",
   "execution_count": 18,
   "id": "38e970c9-ae73-469d-ab0b-0fec87cc2a5b",
   "metadata": {},
   "outputs": [
    {
     "data": {
      "text/plain": [
       "False"
      ]
     },
     "execution_count": 18,
     "metadata": {},
     "output_type": "execute_result"
    }
   ],
   "source": [
    "not True"
   ]
  },
  {
   "cell_type": "code",
   "execution_count": 19,
   "id": "4064c182-f526-43e8-83e8-b43cc397d31a",
   "metadata": {},
   "outputs": [
    {
     "data": {
      "text/plain": [
       "True"
      ]
     },
     "execution_count": 19,
     "metadata": {},
     "output_type": "execute_result"
    }
   ],
   "source": [
    "not False"
   ]
  },
  {
   "cell_type": "code",
   "execution_count": 22,
   "id": "a1ec7990-3577-495a-98c6-f390e0fc0dde",
   "metadata": {},
   "outputs": [
    {
     "data": {
      "text/plain": [
       "True"
      ]
     },
     "execution_count": 22,
     "metadata": {},
     "output_type": "execute_result"
    }
   ],
   "source": [
    "not True and True or False or True and True "
   ]
  },
  {
   "cell_type": "code",
   "execution_count": 23,
   "id": "ed00d9c6-85a6-434d-9a3c-6597e6fbf9b7",
   "metadata": {},
   "outputs": [
    {
     "name": "stdin",
     "output_type": "stream",
     "text": [
      "enter the value of a 21\n",
      "enter the value of b 23\n"
     ]
    },
    {
     "name": "stdout",
     "output_type": "stream",
     "text": [
      "the sum is 44\n"
     ]
    }
   ],
   "source": [
    "# runtime value programs\n",
    "# sum of two numbers\n",
    "a=int(input(\"enter the value of a\"))\n",
    "b=int(input(\"enter the value of b\"))\n",
    "c=a+b\n",
    "print(\"the sum is\",c)"
   ]
  },
  {
   "cell_type": "code",
   "execution_count": 24,
   "id": "0c70559b-0d7a-4498-ae27-c13bdef33f28",
   "metadata": {},
   "outputs": [
    {
     "name": "stdin",
     "output_type": "stream",
     "text": [
      "enter the value of the principle 1500\n",
      "enter the value of rate 2\n",
      "enter the value of time 10\n"
     ]
    },
    {
     "name": "stdout",
     "output_type": "stream",
     "text": [
      "the interest is 300.0\n"
     ]
    }
   ],
   "source": [
    "p=int(input(\"enter the value of the principle\"))\n",
    "r=int(input(\"enter the value of rate\"))\n",
    "t=int(input(\"enter the value of time\"))\n",
    "si=p*r*t/100\n",
    "print(\"the interest is\",si)"
   ]
  },
  {
   "cell_type": "code",
   "execution_count": 25,
   "id": "6e9c857e-6ecd-4be4-95b3-c6f4cf86ba6b",
   "metadata": {},
   "outputs": [
    {
     "name": "stdin",
     "output_type": "stream",
     "text": [
      "enter the value of a 2\n",
      "enter the value of b 6\n",
      "enter the value of c 7\n"
     ]
    },
    {
     "name": "stdout",
     "output_type": "stream",
     "text": [
      "the average is  5.0\n"
     ]
    }
   ],
   "source": [
    "a=int(input(\"enter the value of a\"))\n",
    "b=int(input(\"enter the value of b\"))\n",
    "c=int(input(\"enter the value of c\"))\n",
    "avg=(a+b+c)/3\n",
    "print(\"the average is \",avg)"
   ]
  },
  {
   "cell_type": "code",
   "execution_count": 26,
   "id": "e7f026ff-57f3-4a70-9b0c-844e1f44fc5d",
   "metadata": {},
   "outputs": [
    {
     "name": "stdin",
     "output_type": "stream",
     "text": [
      "enter the marks 76.5\n",
      "enter the marks 66.7\n",
      "enter the marks 88.9\n",
      "enter the marks 87.6\n",
      "enter the marks 70.0\n"
     ]
    },
    {
     "name": "stdout",
     "output_type": "stream",
     "text": [
      "the percentage is 77.94\n"
     ]
    }
   ],
   "source": [
    "p=float(input(\"enter the marks\"))\n",
    "h=float(input(\"enter the marks\"))\n",
    "m=float(input(\"enter the marks\"))\n",
    "e=float(input(\"enter the marks\"))\n",
    "c=float(input(\"enter the marks\"))\n",
    "s=p+h+m+e+c\n",
    "per=s*100/500\n",
    "print(\"the percentage is\",per)"
   ]
  },
  {
   "cell_type": "code",
   "execution_count": 27,
   "id": "8573a847-99a9-4166-9347-d3ff47c53163",
   "metadata": {},
   "outputs": [
    {
     "name": "stdin",
     "output_type": "stream",
     "text": [
      "x 20\n",
      "y 30\n"
     ]
    },
    {
     "name": "stdout",
     "output_type": "stream",
     "text": [
      "Is x greater than y :- False\n",
      "Is x less than y :- True\n",
      "\n",
      " Is x equal to y :- False\n",
      "\n",
      " Is x not equal to y :- True\n",
      "Is x greater than or equal to y :- False\n",
      "Is x less than or equal to y :- True\n"
     ]
    }
   ],
   "source": [
    "x=int(input(\"x\"))\n",
    "y=int(input(\"y\"))\n",
    "print('Is x greater than y :-',x>y)\n",
    "print('Is x less than y :-',x<y)\n",
    "print('\\n Is x equal to y :-',x==y)\n",
    "print('\\n Is x not equal to y :-',x!=y)\n",
    "print('Is x greater than or equal to y :-',x>=y)\n",
    "print('Is x less than or equal to y :-',x<=y)"
   ]
  },
  {
   "cell_type": "code",
   "execution_count": 28,
   "id": "e58b8629-8a76-416d-b803-3535abc40e9c",
   "metadata": {},
   "outputs": [
    {
     "name": "stdin",
     "output_type": "stream",
     "text": [
      "enter the number 25\n"
     ]
    },
    {
     "name": "stdout",
     "output_type": "stream",
     "text": [
      "5.0\n"
     ]
    }
   ],
   "source": [
    "import math\n",
    "n=int(input(\"enter the number\"))\n",
    "x=math.sqrt(n)\n",
    "print(x)"
   ]
  },
  {
   "cell_type": "code",
   "execution_count": 29,
   "id": "dd9b5afd-a25a-4859-ac6a-f09774d3e45e",
   "metadata": {},
   "outputs": [
    {
     "name": "stdin",
     "output_type": "stream",
     "text": [
      "enter the number 16\n"
     ]
    },
    {
     "name": "stdout",
     "output_type": "stream",
     "text": [
      "4.0\n"
     ]
    }
   ],
   "source": [
    "n=int(input(\"enter the number\"))\n",
    "x=math.sqrt(n)\n",
    "print(x)"
   ]
  },
  {
   "cell_type": "code",
   "execution_count": 30,
   "id": "bf809969-a85b-4190-8338-588dba1e3257",
   "metadata": {},
   "outputs": [
    {
     "name": "stdin",
     "output_type": "stream",
     "text": [
      "enter the value of the base 89\n",
      "enter the value of the exponent 3\n"
     ]
    },
    {
     "name": "stdout",
     "output_type": "stream",
     "text": [
      "704969\n",
      "704969\n",
      "704969.0\n"
     ]
    }
   ],
   "source": [
    "a=int(input(\"enter the value of the base\"))\n",
    "b=int(input(\"enter the value of the exponent\"))\n",
    "print(a**b)\n",
    "print(pow(a,b))\n",
    "print(math.pow(a,b)) # gives float "
   ]
  },
  {
   "cell_type": "code",
   "execution_count": null,
   "id": "efd53de2-3a8a-4c20-84fa-abaed7f5f114",
   "metadata": {},
   "outputs": [],
   "source": []
  }
 ],
 "metadata": {
  "kernelspec": {
   "display_name": "Python 3 (ipykernel)",
   "language": "python",
   "name": "python3"
  },
  "language_info": {
   "codemirror_mode": {
    "name": "ipython",
    "version": 3
   },
   "file_extension": ".py",
   "mimetype": "text/x-python",
   "name": "python",
   "nbconvert_exporter": "python",
   "pygments_lexer": "ipython3",
   "version": "3.11.7"
  }
 },
 "nbformat": 4,
 "nbformat_minor": 5
}
