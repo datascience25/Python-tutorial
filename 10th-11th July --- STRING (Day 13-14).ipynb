{
 "cells": [
  {
   "cell_type": "markdown",
   "id": "d627d488-bf51-4483-9ad1-3114d3509361",
   "metadata": {},
   "source": [
    "''' STRING\n",
    "------------\n",
    "In Python, string is an immutable sequence data type. \n",
    "It is the sequence of Unicode characters wrapped inside single, double, or triple quotes.\n",
    "'This is a string in Python' # string in single quotes\n",
    "\"This is a string in Python\" # string in double quotes\n",
    "'''This is a string in Python''' # string in triple quotes\n",
    "\"\"\"This is a string in Python\"\"\" # string in triple double-quotes'''"
   ]
  },
  {
   "cell_type": "code",
   "execution_count": 4,
   "id": "46d6f6c8-9e59-4abe-8b44-4d3407ef7f36",
   "metadata": {},
   "outputs": [
    {
     "name": "stdout",
     "output_type": "stream",
     "text": [
      "This is a string in Python\n"
     ]
    }
   ],
   "source": [
    "str1='This is a string in Python'\n",
    "print(str1)"
   ]
  },
  {
   "cell_type": "code",
   "execution_count": 5,
   "id": "54dc7f09-a0c3-4d30-af22-4be5f61b39c8",
   "metadata": {},
   "outputs": [
    {
     "name": "stdout",
     "output_type": "stream",
     "text": [
      "This is a string in Python\n"
     ]
    }
   ],
   "source": [
    "str2=\"This is a string in Python\"\n",
    "print(str2)"
   ]
  },
  {
   "cell_type": "code",
   "execution_count": 7,
   "id": "7aedac10-4d61-471d-b5ad-14b08c32a438",
   "metadata": {},
   "outputs": [
    {
     "name": "stdout",
     "output_type": "stream",
     "text": [
      "This is \n",
      "the first\n",
      "Multi-line string.\n"
     ]
    }
   ],
   "source": [
    "str1='''This is \n",
    "the first\n",
    "Multi-line string.'''\n",
    "print(str1)"
   ]
  },
  {
   "cell_type": "code",
   "execution_count": 8,
   "id": "96063919-2386-425f-aec1-a278f3d6f03a",
   "metadata": {},
   "outputs": [
    {
     "name": "stdout",
     "output_type": "stream",
     "text": [
      "This is \n",
      "the second \n",
      "Multi-line\n",
      "string\n"
     ]
    }
   ],
   "source": [
    "str2=\"\"\"This is \n",
    "the second \n",
    "Multi-line\n",
    "string\"\"\"\n",
    "print(str2)"
   ]
  },
  {
   "cell_type": "code",
   "execution_count": 9,
   "id": "561e3470-623c-4f3d-93c0-ef441209d452",
   "metadata": {},
   "outputs": [
    {
     "name": "stdout",
     "output_type": "stream",
     "text": [
      "5\n"
     ]
    }
   ],
   "source": [
    "greet='Hello'\n",
    "n=len(greet)\n",
    "print(n)"
   ]
  },
  {
   "cell_type": "markdown",
   "id": "b64c2980-eca1-4a68-b4f3-c7e9f517af99",
   "metadata": {},
   "source": [
    "'''A sequence\n",
    "----------------\n",
    "sequence is defined as an ordered collection of items. \n",
    "Hence, a string is an ordered collection of characters. \n",
    "The sequence uses an index, starting with zero to fetch a certain item \n",
    "(a character in case of a string) from it. '''"
   ]
  },
  {
   "cell_type": "code",
   "execution_count": 12,
   "id": "205fce06-ad20-4580-819c-363c4a414ee8",
   "metadata": {},
   "outputs": [
    {
     "name": "stdout",
     "output_type": "stream",
     "text": [
      "H\n",
      "e\n",
      "l\n",
      "l\n",
      "o\n"
     ]
    },
    {
     "ename": "IndexError",
     "evalue": "string index out of range",
     "output_type": "error",
     "traceback": [
      "\u001b[1;31m---------------------------------------------------------------------------\u001b[0m",
      "\u001b[1;31mIndexError\u001b[0m                                Traceback (most recent call last)",
      "Cell \u001b[1;32mIn[12], line 7\u001b[0m\n\u001b[0;32m      5\u001b[0m \u001b[38;5;28mprint\u001b[39m(greet[\u001b[38;5;241m3\u001b[39m])\n\u001b[0;32m      6\u001b[0m \u001b[38;5;28mprint\u001b[39m(greet[\u001b[38;5;241m4\u001b[39m])\n\u001b[1;32m----> 7\u001b[0m \u001b[38;5;28mprint\u001b[39m(greet[\u001b[38;5;241m5\u001b[39m])\n",
      "\u001b[1;31mIndexError\u001b[0m: string index out of range"
     ]
    }
   ],
   "source": [
    "greet='Hello'\n",
    "print(greet[0])\n",
    "print(greet[1])\n",
    "print(greet[2])\n",
    "print(greet[3])\n",
    "print(greet[4])\n",
    "print(greet[5]) # error: string index out of range"
   ]
  },
  {
   "cell_type": "code",
   "execution_count": 14,
   "id": "b8e53aff-102e-47a1-a389-0c4d5ea024c2",
   "metadata": {},
   "outputs": [
    {
     "name": "stdout",
     "output_type": "stream",
     "text": [
      "H\n",
      "e\n",
      "l\n",
      "l\n",
      "o\n",
      "H\n"
     ]
    }
   ],
   "source": [
    "greet='Hello'\n",
    "print(greet[-5])\n",
    "print(greet[-4])\n",
    "print(greet[-3])\n",
    "print(greet[-2])\n",
    "print(greet[-1])\n",
    "print(greet[0])"
   ]
  },
  {
   "cell_type": "markdown",
   "id": "91397094-b2ca-49ab-9d62-bf6c9ccad491",
   "metadata": {},
   "source": [
    "'''The string is an immutable object. Hence, it is not possible to modify it. \n",
    "The attempt to assign different characters at a certain index results in errors. '''"
   ]
  },
  {
   "cell_type": "code",
   "execution_count": 16,
   "id": "be0c9d32-6165-47cd-940a-caef79fb8ad4",
   "metadata": {},
   "outputs": [
    {
     "ename": "TypeError",
     "evalue": "'str' object does not support item assignment",
     "output_type": "error",
     "traceback": [
      "\u001b[1;31m---------------------------------------------------------------------------\u001b[0m",
      "\u001b[1;31mTypeError\u001b[0m                                 Traceback (most recent call last)",
      "Cell \u001b[1;32mIn[16], line 2\u001b[0m\n\u001b[0;32m      1\u001b[0m greet\u001b[38;5;241m=\u001b[39m\u001b[38;5;124m'\u001b[39m\u001b[38;5;124mHello\u001b[39m\u001b[38;5;124m'\u001b[39m\n\u001b[1;32m----> 2\u001b[0m greet[\u001b[38;5;241m0\u001b[39m]\u001b[38;5;241m=\u001b[39m\u001b[38;5;124m'\u001b[39m\u001b[38;5;124mA\u001b[39m\u001b[38;5;124m'\u001b[39m\n",
      "\u001b[1;31mTypeError\u001b[0m: 'str' object does not support item assignment"
     ]
    }
   ],
   "source": [
    "greet='Hello'\n",
    "greet[0]='A' # error"
   ]
  },
  {
   "cell_type": "code",
   "execution_count": 19,
   "id": "b4061a52-80b6-4b11-8b2f-04e4b9065dc6",
   "metadata": {},
   "outputs": [
    {
     "name": "stdout",
     "output_type": "stream",
     "text": [
      "<class 'str'>\n"
     ]
    }
   ],
   "source": [
    "# use str() function to convert a number to a string, string is constructor \n",
    "s=str(100)\n",
    "print(type(s))"
   ]
  },
  {
   "cell_type": "code",
   "execution_count": 20,
   "id": "280af132-4fc5-465d-8a9b-c13cac3c789b",
   "metadata": {},
   "outputs": [
    {
     "name": "stdout",
     "output_type": "stream",
     "text": [
      "-10\n"
     ]
    }
   ],
   "source": [
    "s=str(-10)\n",
    "print(s)"
   ]
  },
  {
   "cell_type": "code",
   "execution_count": 25,
   "id": "b659d5cd-0bdb-4c44-8f96-500c57d34e10",
   "metadata": {},
   "outputs": [
    {
     "name": "stdout",
     "output_type": "stream",
     "text": [
      "True\n"
     ]
    }
   ],
   "source": [
    "s= str(True)\n",
    "print(s)"
   ]
  },
  {
   "cell_type": "markdown",
   "id": "f07dd012-1be5-4af8-bb0a-f5461f474857",
   "metadata": {},
   "source": [
    "'''Python capitalize() method\n",
    "------------------------------\n",
    "The capitalize() method returns the copy of the string with its first character\n",
    "capitalized and the rest of the letters lowercased'''"
   ]
  },
  {
   "cell_type": "code",
   "execution_count": 27,
   "id": "25672dfb-6f79-431e-a03c-85ab97db14f8",
   "metadata": {},
   "outputs": [
    {
     "name": "stdout",
     "output_type": "stream",
     "text": [
      "New String: Hello world!\n"
     ]
    }
   ],
   "source": [
    "# syntax --- string.capitalize()\n",
    "a='hello world!'\n",
    "print('New String:',a.capitalize())"
   ]
  },
  {
   "cell_type": "code",
   "execution_count": 29,
   "id": "b5828aa2-d780-4450-a150-37f787e91d61",
   "metadata": {},
   "outputs": [
    {
     "name": "stdout",
     "output_type": "stream",
     "text": [
      "new string: Hello World!\n"
     ]
    }
   ],
   "source": [
    "a='hello' \n",
    "b='world!'\n",
    "print('new string:',a.capitalize(),b.capitalize())"
   ]
  },
  {
   "cell_type": "markdown",
   "id": "adf7dcd6-487f-491a-b9de-e747773f6f0b",
   "metadata": {},
   "source": [
    "'''Python String count() Method\r",
    "-------------------------------\r",
    "The count() method searches (case-sensitive) the specified substring in the given string and returns an integer indicating occurrences of the substring. By default, the counting begins from 0 index till the end of the string. '''"
   ]
  },
  {
   "cell_type": "code",
   "execution_count": 30,
   "id": "7afd6ceb-ba31-4c2e-a130-aeece525c61d",
   "metadata": {},
   "outputs": [
    {
     "name": "stdout",
     "output_type": "stream",
     "text": [
      "Number of occurrences of \"Madrid\": 1\n"
     ]
    }
   ],
   "source": [
    "mystr='Madrid is a Best institute for data Science Learning'\n",
    "total= mystr.count('Madrid')\n",
    "print('Number of occurrences of \"Madrid\":',total)"
   ]
  },
  {
   "cell_type": "code",
   "execution_count": 31,
   "id": "555ae361-c77f-4f7e-b854-a579c272e512",
   "metadata": {},
   "outputs": [
    {
     "name": "stdout",
     "output_type": "stream",
     "text": [
      "Number of occurrences of \"madrid\": 0\n"
     ]
    }
   ],
   "source": [
    "total= mystr.count('madrid')\n",
    "print('Number of occurrences of \"madrid\":',total)"
   ]
  },
  {
   "cell_type": "markdown",
   "id": "ee3713b3-4518-4f3b-9df7-19e5f8f3e978",
   "metadata": {},
   "source": [
    "'''Python String endswith() Method\n",
    "-----------------------------------\r",
    "The endswith() function returns True if a string ends with the specified suffix (case-sensitive), otherwise returns False. '''"
   ]
  },
  {
   "cell_type": "code",
   "execution_count": 34,
   "id": "2c98e590-d1a3-464f-b03f-7c41c0e900e9",
   "metadata": {},
   "outputs": [
    {
     "name": "stdout",
     "output_type": "stream",
     "text": [
      "True\n",
      "True\n",
      "True\n",
      "True\n",
      "False\n"
     ]
    }
   ],
   "source": [
    "mystr='Python is a programming language.'\n",
    "print(mystr.endswith('.'))\n",
    "print(mystr.endswith('age.'))\n",
    "print(mystr.endswith('language.'))\n",
    "print(mystr.endswith('programming language.'))\n",
    "print(mystr.endswith('age')) # . is missing"
   ]
  },
  {
   "cell_type": "markdown",
   "id": "9571c8f6-5d5f-4e36-9775-28e5ed6fbfba",
   "metadata": {},
   "source": [
    "'''Python String find() Method\n",
    "-------------------------------\r",
    "The find() method returns the index of the first occurence of a substring in the given string (case-sensitive). If the substring is not found it returns -1. '''"
   ]
  },
  {
   "cell_type": "code",
   "execution_count": 40,
   "id": "bd6e7ef8-7923-480c-8723-46b3579bad01",
   "metadata": {},
   "outputs": [
    {
     "name": "stdout",
     "output_type": "stream",
     "text": [
      "Index of 'H': 0\n",
      "Index of 'h': -1\n",
      "Index of 'e': 1\n",
      "Index of 'World': 6\n"
     ]
    }
   ],
   "source": [
    "greet='Hello World!'\n",
    "print(\"Index of 'H':\",greet.find('H'))\n",
    "print(\"Index of 'h':\",greet.find('h'))\n",
    "print(\"Index of 'e':\",greet.find('e'))\n",
    "print(\"Index of 'World':\",greet.find('World'))"
   ]
  },
  {
   "cell_type": "markdown",
   "id": "49b501c9-1c05-433d-82fc-acd9141192d3",
   "metadata": {},
   "source": [
    "'''Python String index() Method\r",
    "---------------------------------\n",
    "The index() method returns the index of the first occurence of a substring in the given string. It is same as the find() method except that if a substring is not found, then it raises an exception. '''"
   ]
  },
  {
   "cell_type": "code",
   "execution_count": 42,
   "id": "81c2cb21-1859-4824-89a4-ef506dc7d305",
   "metadata": {},
   "outputs": [
    {
     "name": "stdout",
     "output_type": "stream",
     "text": [
      "Index of 'H': 0\n",
      "Index of 'l': 2\n",
      "Index of 'e': 1\n",
      "Index of 'World': 6\n",
      "Index of 'Hello': 0\n"
     ]
    }
   ],
   "source": [
    "greet='Hello World!'\n",
    "print(\"Index of 'H':\",greet.index('H'))\n",
    "print(\"Index of 'l':\",greet.index('l'))\n",
    "print(\"Index of 'e':\",greet.index('e'))\n",
    "print(\"Index of 'World':\",greet.index('World'))\n",
    "print(\"Index of 'Hello':\",greet.index('Hello'))"
   ]
  },
  {
   "cell_type": "markdown",
   "id": "3b8a8348-8c2a-40b6-9be3-d605dfa4df7e",
   "metadata": {},
   "source": [
    "'''Python String isalnum() Method\n",
    "----------------------------------\r",
    "The isalnum() method returns True if all characters in the string are alphanumeric (either alphabets or numbers). If not, it returns False.\r",
    "\r",
    "Syntax:\r",
    "str.isalnum() '''"
   ]
  },
  {
   "cell_type": "code",
   "execution_count": 43,
   "id": "d9265e03-b893-4ad2-b797-91bac5d1a4b0",
   "metadata": {},
   "outputs": [
    {
     "name": "stdout",
     "output_type": "stream",
     "text": [
      "True\n"
     ]
    }
   ],
   "source": [
    "mystr='Hello123'\n",
    "print(mystr.isalnum())"
   ]
  },
  {
   "cell_type": "code",
   "execution_count": 44,
   "id": "bcc30736-dec5-4262-87a5-334a9d59db70",
   "metadata": {},
   "outputs": [
    {
     "name": "stdout",
     "output_type": "stream",
     "text": [
      "True\n"
     ]
    }
   ],
   "source": [
    "mystr='12345'\n",
    "print(mystr.isalnum())"
   ]
  },
  {
   "cell_type": "code",
   "execution_count": 45,
   "id": "3fdc165a-147a-4833-80cc-3711f9f27287",
   "metadata": {},
   "outputs": [
    {
     "name": "stdout",
     "output_type": "stream",
     "text": [
      "True\n"
     ]
    }
   ],
   "source": [
    "mystr='Madrid'\n",
    "print(mystr.isalnum())"
   ]
  },
  {
   "cell_type": "code",
   "execution_count": 50,
   "id": "26ae49ec-1862-4da6-876c-8d1b44b7632f",
   "metadata": {},
   "outputs": [
    {
     "name": "stdout",
     "output_type": "stream",
     "text": [
      "False\n"
     ]
    }
   ],
   "source": [
    "mystr='Python is a programming language.'\n",
    "print(mystr.isalnum())"
   ]
  },
  {
   "cell_type": "code",
   "execution_count": 47,
   "id": "b26639f5-2e2a-44c3-a0fe-35c45c8aa4fb",
   "metadata": {},
   "outputs": [
    {
     "name": "stdout",
     "output_type": "stream",
     "text": [
      "False\n"
     ]
    }
   ],
   "source": [
    "mystr='#1'\n",
    "print(mystr.isalnum())"
   ]
  },
  {
   "cell_type": "markdown",
   "id": "e58a5c3f-00d0-4ada-a21d-7316fa29e85c",
   "metadata": {},
   "source": [
    "'''Python String isdigit() Method\n",
    "-----------------------------------\r",
    "The isdigit() method returns True if all characters in a string are digits or Unicode char of a digit. If not, it returns False.\r",
    "\r",
    "\r",
    "str.isdigit() '''"
   ]
  },
  {
   "cell_type": "code",
   "execution_count": 55,
   "id": "16dc49e2-3b01-4cce-b752-40abe841b301",
   "metadata": {},
   "outputs": [
    {
     "name": "stdout",
     "output_type": "stream",
     "text": [
      "True\n"
     ]
    }
   ],
   "source": [
    "mystr='12345'\n",
    "print(mystr.isdigit())"
   ]
  },
  {
   "cell_type": "code",
   "execution_count": 52,
   "id": "ec728fa6-4248-416c-8254-23912dd6d235",
   "metadata": {},
   "outputs": [
    {
     "name": "stdout",
     "output_type": "stream",
     "text": [
      "False\n"
     ]
    }
   ],
   "source": [
    "mystr='10.5'\n",
    "print(mystr.isdigit())"
   ]
  },
  {
   "cell_type": "code",
   "execution_count": 53,
   "id": "72ffc5d5-a887-4a89-a6da-4f086e8b87b9",
   "metadata": {},
   "outputs": [
    {
     "name": "stdout",
     "output_type": "stream",
     "text": [
      "False\n"
     ]
    }
   ],
   "source": [
    "mystr='python'\n",
    "print(mystr.isdigit())"
   ]
  },
  {
   "cell_type": "markdown",
   "id": "be10a2ab-49f5-429b-97f1-4520bee0862b",
   "metadata": {},
   "source": [
    "'''Python String islower() Method\r",
    "-------------------------------\r",
    "The islower() method checks whether all the characters of a given string are lowercased or not. It returns True if all characters are lowercased and False even if one character is uppercase.\r",
    "\r",
    "It returns False if a string contains only symbols and numbers, but returns True if symbols or numbers are with lower case string.\r",
    "\r",
    "Syntax:\r",
    "str.islower() '''"
   ]
  },
  {
   "cell_type": "code",
   "execution_count": 56,
   "id": "6463f028-b186-4d0f-84e3-2a9977ace559",
   "metadata": {},
   "outputs": [
    {
     "data": {
      "text/plain": [
       "True"
      ]
     },
     "execution_count": 56,
     "metadata": {},
     "output_type": "execute_result"
    }
   ],
   "source": [
    "mystr='hello world!'\n",
    "mystr.islower()"
   ]
  },
  {
   "cell_type": "code",
   "execution_count": 57,
   "id": "55bd49ff-f23f-45c1-b209-c0f9c9eb2697",
   "metadata": {},
   "outputs": [
    {
     "data": {
      "text/plain": [
       "False"
      ]
     },
     "execution_count": 57,
     "metadata": {},
     "output_type": "execute_result"
    }
   ],
   "source": [
    "mystr='Hello world!'\n",
    "mystr.islower()"
   ]
  },
  {
   "cell_type": "code",
   "execution_count": 58,
   "id": "f009500c-a7b3-484a-b7f1-0791fa5e3061",
   "metadata": {},
   "outputs": [
    {
     "data": {
      "text/plain": [
       "True"
      ]
     },
     "execution_count": 58,
     "metadata": {},
     "output_type": "execute_result"
    }
   ],
   "source": [
    "mystr='python is #1'\n",
    "mystr.islower()"
   ]
  },
  {
   "cell_type": "markdown",
   "id": "dfd7adaf-6da6-45e5-a456-debe4c362334",
   "metadata": {},
   "source": [
    "'''Python String istitle() Method\n",
    "----------------------------------\r",
    "The istitle() method checks whether each word's first character is upper case and the rest are in lower case or not. It returns True if a string is titlecased; otherwise, it returns False. The symbols and numbers are ignored.\r",
    "\r",
    "str.istitle() '''"
   ]
  },
  {
   "cell_type": "code",
   "execution_count": 59,
   "id": "5c963852-dc03-44d3-98e2-e11952ae7c16",
   "metadata": {},
   "outputs": [
    {
     "data": {
      "text/plain": [
       "True"
      ]
     },
     "execution_count": 59,
     "metadata": {},
     "output_type": "execute_result"
    }
   ],
   "source": [
    "greet='Hello World'\n",
    "greet.istitle()"
   ]
  },
  {
   "cell_type": "code",
   "execution_count": 60,
   "id": "14e20bad-7d16-4e4a-9b80-af2ca0c94ab3",
   "metadata": {},
   "outputs": [
    {
     "data": {
      "text/plain": [
       "False"
      ]
     },
     "execution_count": 60,
     "metadata": {},
     "output_type": "execute_result"
    }
   ],
   "source": [
    "greet='Hello WORLD'\n",
    "greet.istitle()"
   ]
  },
  {
   "cell_type": "code",
   "execution_count": 61,
   "id": "4bc103f1-3b1d-4e28-b13a-ec822d2b0886",
   "metadata": {},
   "outputs": [
    {
     "data": {
      "text/plain": [
       "False"
      ]
     },
     "execution_count": 61,
     "metadata": {},
     "output_type": "execute_result"
    }
   ],
   "source": [
    "greet='hello world'\n",
    "greet.istitle()"
   ]
  },
  {
   "cell_type": "code",
   "execution_count": 62,
   "id": "b7ea9526-1620-42dd-be80-ac72c9f66bf3",
   "metadata": {},
   "outputs": [
    {
     "data": {
      "text/plain": [
       "False"
      ]
     },
     "execution_count": 62,
     "metadata": {},
     "output_type": "execute_result"
    }
   ],
   "source": [
    "greet='HelloWorld'\n",
    "greet.istitle()"
   ]
  },
  {
   "cell_type": "code",
   "execution_count": 63,
   "id": "390dc7b9-de6f-4be3-86f2-f9f135cd46d4",
   "metadata": {},
   "outputs": [
    {
     "data": {
      "text/plain": [
       "True"
      ]
     },
     "execution_count": 63,
     "metadata": {},
     "output_type": "execute_result"
    }
   ],
   "source": [
    "s='Python Is A Programming Language'\n",
    "s.istitle()"
   ]
  },
  {
   "cell_type": "markdown",
   "id": "ad2a68f8-6f0f-4498-9d1e-de2b5746a3c7",
   "metadata": {},
   "source": [
    "'''Python String isupper() Method\n",
    "----------------------------------\r",
    "The isupper() method checks whether all the characters of a given string are uppercase or not. It returns True if all characters are uppercase and False even if one character is not in uppercase.\r",
    "\r",
    "Symblos and numbers are not affected by this function\r",
    "\r",
    "Syntax:\r",
    "str.isupper() '''"
   ]
  },
  {
   "cell_type": "code",
   "execution_count": 64,
   "id": "2535f08b-8e04-4237-901d-2dfa8c4e3963",
   "metadata": {},
   "outputs": [
    {
     "data": {
      "text/plain": [
       "True"
      ]
     },
     "execution_count": 64,
     "metadata": {},
     "output_type": "execute_result"
    }
   ],
   "source": [
    "mystr='HELLO WORLD'\n",
    "mystr.isupper()"
   ]
  },
  {
   "cell_type": "code",
   "execution_count": 65,
   "id": "90ed2ca0-84dc-4ee7-ae78-ff171c80390a",
   "metadata": {},
   "outputs": [
    {
     "data": {
      "text/plain": [
       "False"
      ]
     },
     "execution_count": 65,
     "metadata": {},
     "output_type": "execute_result"
    }
   ],
   "source": [
    "mystr='Hello World'\n",
    "mystr.isupper()"
   ]
  },
  {
   "cell_type": "code",
   "execution_count": 66,
   "id": "d66fe769-2554-4923-ba2c-ad27318709b0",
   "metadata": {},
   "outputs": [
    {
     "data": {
      "text/plain": [
       "False"
      ]
     },
     "execution_count": 66,
     "metadata": {},
     "output_type": "execute_result"
    }
   ],
   "source": [
    "mystr='hello world'\n",
    "mystr.isupper()"
   ]
  },
  {
   "cell_type": "code",
   "execution_count": 67,
   "id": "1347b916-8f8e-468b-b036-d07451369580",
   "metadata": {},
   "outputs": [
    {
     "data": {
      "text/plain": [
       "False"
      ]
     },
     "execution_count": 67,
     "metadata": {},
     "output_type": "execute_result"
    }
   ],
   "source": [
    "mystr='python is #1'\n",
    "mystr.isupper()"
   ]
  },
  {
   "cell_type": "markdown",
   "id": "7cea4b4e-c3d1-42e3-8af1-f527c79167cd",
   "metadata": {},
   "source": [
    "'''Python String lower() Method\n",
    "--------------------------------\r",
    "The lower() method returns the copy of the original string wherein all the characters are converted to lowercase. If no uppercase characters present, it returns the original string. Symbols and numbers remain unaffected by this function.\r",
    "\r",
    "Syntax:\r",
    "str.lower() '''"
   ]
  },
  {
   "cell_type": "code",
   "execution_count": 68,
   "id": "e0c1b759-881c-4c44-8d52-93cd4cfc867a",
   "metadata": {},
   "outputs": [
    {
     "name": "stdout",
     "output_type": "stream",
     "text": [
      "hello world\n"
     ]
    }
   ],
   "source": [
    "mystr='HELLO WORLD'\n",
    "print(mystr.lower())"
   ]
  },
  {
   "cell_type": "code",
   "execution_count": 69,
   "id": "6bf1a1b0-c5b9-4837-a07f-a7e606670296",
   "metadata": {},
   "outputs": [
    {
     "name": "stdout",
     "output_type": "stream",
     "text": [
      "123abc\n"
     ]
    }
   ],
   "source": [
    "mystr='123ABC'\n",
    "print(mystr.lower())"
   ]
  },
  {
   "cell_type": "code",
   "execution_count": 70,
   "id": "71d12b0f-f170-40cb-890e-e5b97549fd05",
   "metadata": {},
   "outputs": [],
   "source": [
    "# '     hello     '\n",
    "# left space--- leading\n",
    "# right space--- trailing"
   ]
  },
  {
   "cell_type": "markdown",
   "id": "a3f407b8-391d-4a34-938a-4429525b01c4",
   "metadata": {},
   "source": [
    "'''Python String lstrip() Method\n",
    "----------------------------------\r",
    "The lstrip() method returns a copy of the string by removing leading characters specified as an argument. By default, it removes leading whitespaces if no argument passed.\r",
    "\r",
    "Leading characters occur at the start of the string (leftmost part of the string).\r",
    "\r",
    "Syntax:\r",
    "str.lstrip(characters) '''"
   ]
  },
  {
   "cell_type": "code",
   "execution_count": 71,
   "id": "22b84ad0-8bd1-4d57-bf72-dba30267ea72",
   "metadata": {},
   "outputs": [
    {
     "name": "stdout",
     "output_type": "stream",
     "text": [
      "     Hello World    \n"
     ]
    },
    {
     "data": {
      "text/plain": [
       "'Hello World    '"
      ]
     },
     "execution_count": 71,
     "metadata": {},
     "output_type": "execute_result"
    }
   ],
   "source": [
    "mystr='     Hello World    '\n",
    "print(mystr)\n",
    "mystr.lstrip() # removes leading spaces"
   ]
  },
  {
   "cell_type": "code",
   "execution_count": 75,
   "id": "107de6e7-11ab-493a-b4be-f7f45330775c",
   "metadata": {},
   "outputs": [
    {
     "data": {
      "text/plain": [
       "' Aman'"
      ]
     },
     "execution_count": 75,
     "metadata": {},
     "output_type": "execute_result"
    }
   ],
   "source": [
    "text=\"hii Aman\"\n",
    "text.lstrip(\"hii\")"
   ]
  },
  {
   "cell_type": "markdown",
   "id": "64dbb382-2a80-4957-960d-7707f54a4b88",
   "metadata": {},
   "source": [
    "'''Python String partition() Method\n",
    "------------------------------------\r",
    "The partition() method splits the string at the first occurrence of the specified string separator sep argument and returns a tuple containing three elements, the part before the separator, the separator itself, and the part after the separator.\r",
    "\r",
    "If the matching separator is not found in the string then returns a tuple containing three elements, the string itself as a first element and two empty string elements.\r",
    "\r",
    "Syntax:\r",
    "str.partition(sep) '''"
   ]
  },
  {
   "cell_type": "code",
   "execution_count": 79,
   "id": "0edb6d55-23d2-4654-a7b0-046be6c62866",
   "metadata": {},
   "outputs": [
    {
     "name": "stdout",
     "output_type": "stream",
     "text": [
      "('Hello', ' ', 'World')\n"
     ]
    }
   ],
   "source": [
    "mystr='Hello World'\n",
    "print(mystr.partition(' '))"
   ]
  },
  {
   "cell_type": "code",
   "execution_count": 80,
   "id": "0d5e294f-56b7-494b-932a-7c732dbe8828",
   "metadata": {},
   "outputs": [
    {
     "name": "stdout",
     "output_type": "stream",
     "text": [
      "('How ', 'are', ' you?')\n"
     ]
    }
   ],
   "source": [
    "mystr='How are you?'\n",
    "print(mystr.partition('are'))"
   ]
  },
  {
   "cell_type": "code",
   "execution_count": 81,
   "id": "cd491e48-0849-47c4-87e9-2fddb91eb8ba",
   "metadata": {},
   "outputs": [
    {
     "name": "stdout",
     "output_type": "stream",
     "text": [
      "('Education info is the best ', 'tutorials', ' website.')\n",
      "('Education info is the best tutorials website.', '', '')\n"
     ]
    }
   ],
   "source": [
    "mystr='Education info is the best tutorials website.'\n",
    "print(mystr.partition('tutorials'))\n",
    "print(mystr.partition('Tutorials'))"
   ]
  },
  {
   "cell_type": "markdown",
   "id": "f95fe376-cca5-41d0-bdb3-0695f7c40944",
   "metadata": {},
   "source": [
    "'''Python string.rstrip()\n",
    "---------------------------\r",
    "The rstrip() method returns a copy of the string by removing the trailing characters specified as argument. If the characters argument is not provided, all trailing whitespaces are removed from the string.\r",
    "\r",
    "Trailing characters are those characters which occur at the end of the string (rightmost part of the string).\r",
    "\r",
    "Syntax:\r",
    "str.rstrip(characters) '''"
   ]
  },
  {
   "cell_type": "code",
   "execution_count": 83,
   "id": "a5aa87ea-a4cf-4cc3-bd69-dda5494680f6",
   "metadata": {},
   "outputs": [
    {
     "name": "stdout",
     "output_type": "stream",
     "text": [
      "20\n",
      "15\n"
     ]
    }
   ],
   "source": [
    "mystr='    Hello World     '\n",
    "print(len(mystr))\n",
    "print(len(mystr.rstrip()))"
   ]
  },
  {
   "cell_type": "code",
   "execution_count": 84,
   "id": "dd122adf-1967-4d7f-a282-810a5635e5ed",
   "metadata": {},
   "outputs": [
    {
     "name": "stdout",
     "output_type": "stream",
     "text": [
      "    Hello World     \n",
      "    Hello World\n"
     ]
    }
   ],
   "source": [
    "mystr='    Hello World     '\n",
    "print(mystr)\n",
    "print(mystr.rstrip())"
   ]
  },
  {
   "cell_type": "code",
   "execution_count": 85,
   "id": "bd8b87a7-b010-4e0c-b1a7-eed779082722",
   "metadata": {},
   "outputs": [
    {
     "data": {
      "text/plain": [
       "'#$Hello World'"
      ]
     },
     "execution_count": 85,
     "metadata": {},
     "output_type": "execute_result"
    }
   ],
   "source": [
    "'#$Hello World#$2'.rstrip('$2#')"
   ]
  },
  {
   "cell_type": "code",
   "execution_count": 86,
   "id": "e6da563e-286f-4955-a2e3-d0d5d19ee2ec",
   "metadata": {},
   "outputs": [
    {
     "data": {
      "text/plain": [
       "'Hello World#-'"
      ]
     },
     "execution_count": 86,
     "metadata": {},
     "output_type": "execute_result"
    }
   ],
   "source": [
    "'Hello World#-$2'.rstrip('$2#')"
   ]
  },
  {
   "cell_type": "markdown",
   "id": "ab9deae8-71bd-4600-bc55-70d0946be034",
   "metadata": {},
   "source": [
    "'''Python String split() Method\n",
    "--------------------------------\r",
    "The split() method splits the string from the specified separator and returns a list object with string elements. The default separator is any whitespace character such as space, \\t, \\n, etc.\r",
    "\r",
    "Syntax:\r",
    "str.split(separator) '''"
   ]
  },
  {
   "cell_type": "code",
   "execution_count": 87,
   "id": "ca57469e-13ec-423c-868f-2ccfde44030e",
   "metadata": {},
   "outputs": [
    {
     "name": "stdout",
     "output_type": "stream",
     "text": [
      "['Hello', 'World']\n"
     ]
    }
   ],
   "source": [
    "mystr='Hello World'\n",
    "print(mystr.split())"
   ]
  },
  {
   "cell_type": "code",
   "execution_count": 88,
   "id": "a6cda2aa-17b4-4f85-9df1-d8d6c6f0a15d",
   "metadata": {},
   "outputs": [
    {
     "name": "stdout",
     "output_type": "stream",
     "text": [
      "['C', 'Python', 'R', 'Java', 'SQL', 'Hadoop']\n"
     ]
    }
   ],
   "source": [
    "langs='C,Python,R,Java,SQL,Hadoop'\n",
    "print(langs.split(','))"
   ]
  },
  {
   "cell_type": "code",
   "execution_count": 89,
   "id": "ac5828cf-6e46-4350-a2be-dd23c027a0f4",
   "metadata": {},
   "outputs": [
    {
     "name": "stdout",
     "output_type": "stream",
     "text": [
      "['apple', 'banana', 'mango', 'fig', 'pear']\n"
     ]
    }
   ],
   "source": [
    "fruits='apple$banana$mango$fig$pear'\n",
    "print(fruits.split('$'))"
   ]
  },
  {
   "cell_type": "code",
   "execution_count": 92,
   "id": "303d0a2b-8973-4b66-a2ff-5e82b5998369",
   "metadata": {},
   "outputs": [
    {
     "name": "stdout",
     "output_type": "stream",
     "text": [
      "['C', 'Python', 'R', 'Java,SQL,Hadoop']\n"
     ]
    }
   ],
   "source": [
    "# examples of maxsplit parameter --- limits the split \n",
    "langs='C,Python,R,Java,SQL,Hadoop'\n",
    "print(langs.split(',',3))"
   ]
  },
  {
   "cell_type": "code",
   "execution_count": 93,
   "id": "ff71f54d-97f3-449c-82b1-3983136b92e5",
   "metadata": {},
   "outputs": [
    {
     "name": "stdout",
     "output_type": "stream",
     "text": [
      "['apple', 'banana', 'mango$fig$pear']\n"
     ]
    }
   ],
   "source": [
    "fruits='apple$banana$mango$fig$pear'\n",
    "print(fruits.split('$',2))"
   ]
  },
  {
   "cell_type": "markdown",
   "id": "f3541dc3-2c4f-441d-bd5b-89b49ddee8c1",
   "metadata": {},
   "source": [
    "'''Python String upper() Method\n",
    "--------------------------------\r",
    "The upper() method returns a string in the upper case. Symbols and numbers remain unaffected.\r",
    "\r",
    "The main difference between the capitalize() and the upper() method is that the capitalize() method will capitalize only the first character of the string, whereas the upper() will convert all characters in the upper case. '''"
   ]
  },
  {
   "cell_type": "code",
   "execution_count": 94,
   "id": "a5285de5-feec-4a06-8141-2a632691becd",
   "metadata": {},
   "outputs": [
    {
     "data": {
      "text/plain": [
       "'HELLO WORLD'"
      ]
     },
     "execution_count": 94,
     "metadata": {},
     "output_type": "execute_result"
    }
   ],
   "source": [
    "mystr='Hello World'\n",
    "mystr.upper()"
   ]
  },
  {
   "cell_type": "code",
   "execution_count": 96,
   "id": "805489eb-3968-4656-89c9-686a6bec9ce2",
   "metadata": {},
   "outputs": [
    {
     "data": {
      "text/plain": [
       "'12QWED'"
      ]
     },
     "execution_count": 96,
     "metadata": {},
     "output_type": "execute_result"
    }
   ],
   "source": [
    "mystr='12qwed'\n",
    "mystr.upper()"
   ]
  }
 ],
 "metadata": {
  "kernelspec": {
   "display_name": "Python 3 (ipykernel)",
   "language": "python",
   "name": "python3"
  },
  "language_info": {
   "codemirror_mode": {
    "name": "ipython",
    "version": 3
   },
   "file_extension": ".py",
   "mimetype": "text/x-python",
   "name": "python",
   "nbconvert_exporter": "python",
   "pygments_lexer": "ipython3",
   "version": "3.11.7"
  }
 },
 "nbformat": 4,
 "nbformat_minor": 5
}
