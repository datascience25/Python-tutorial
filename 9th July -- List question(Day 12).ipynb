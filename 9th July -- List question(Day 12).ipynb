{
 "cells": [
  {
   "cell_type": "code",
   "execution_count": 1,
   "id": "c0636664-669c-4941-94dd-b6e4572d82b7",
   "metadata": {},
   "outputs": [],
   "source": [
    "# questions"
   ]
  },
  {
   "cell_type": "code",
   "execution_count": 5,
   "id": "29cf874c-44c4-4225-8d76-dee275f94c34",
   "metadata": {},
   "outputs": [
    {
     "name": "stdout",
     "output_type": "stream",
     "text": [
      "None\n"
     ]
    }
   ],
   "source": [
    "T=[1,2,3,4]\n",
    "T1=[5,6,7]\n",
    "L=T.append(T1) # it doesnot return anything that's why answer is none\n",
    "print(L)"
   ]
  },
  {
   "cell_type": "code",
   "execution_count": 6,
   "id": "c372fcfe-3fff-4ac5-8742-14ff73628ad2",
   "metadata": {},
   "outputs": [
    {
     "name": "stdout",
     "output_type": "stream",
     "text": [
      "23\n"
     ]
    }
   ],
   "source": [
    "L=[1,5,9]\n",
    "print(sum(L)+max(L)-min(L))"
   ]
  },
  {
   "cell_type": "code",
   "execution_count": 7,
   "id": "9e7adf60-024a-4b11-ad6a-d93fd52696f1",
   "metadata": {},
   "outputs": [
    {
     "name": "stdout",
     "output_type": "stream",
     "text": [
      "5\n"
     ]
    }
   ],
   "source": [
    "L=[1,2,3,4,5,6,7,8,9,10]\n",
    "print(L[L[3]])"
   ]
  },
  {
   "cell_type": "code",
   "execution_count": 8,
   "id": "4c73d717-52e8-4e39-8e5f-ab9cacc2bc8a",
   "metadata": {},
   "outputs": [
    {
     "name": "stdout",
     "output_type": "stream",
     "text": [
      "6\n"
     ]
    }
   ],
   "source": [
    "L=[['math',34],[1,2,3],[23],6,'j','a']\n",
    "print(len(L)) # for length we start the counting from 1"
   ]
  },
  {
   "cell_type": "code",
   "execution_count": 9,
   "id": "396d72ab-785c-47a3-b0e1-c68b9f45d51c",
   "metadata": {},
   "outputs": [
    {
     "name": "stdout",
     "output_type": "stream",
     "text": [
      "10\n"
     ]
    }
   ],
   "source": [
    "L=[1,2,3,4,5,6,7,8,9,10]\n",
    "print(L[len(L)-1])"
   ]
  },
  {
   "cell_type": "code",
   "execution_count": 10,
   "id": "b4d32668-75b3-48de-ad7e-48e119528201",
   "metadata": {},
   "outputs": [
    {
     "name": "stdout",
     "output_type": "stream",
     "text": [
      "False\n"
     ]
    }
   ],
   "source": [
    "print(1 in [[1],2,3])"
   ]
  },
  {
   "cell_type": "code",
   "execution_count": 11,
   "id": "2ec6785f-37f4-4d2c-b860-17b561044db8",
   "metadata": {},
   "outputs": [
    {
     "name": "stdout",
     "output_type": "stream",
     "text": [
      "[]\n"
     ]
    }
   ],
   "source": [
    "print([]*2)"
   ]
  },
  {
   "cell_type": "code",
   "execution_count": 12,
   "id": "2e5ff46d-b199-4ca2-bb2a-f3f91decd2fb",
   "metadata": {},
   "outputs": [
    {
     "name": "stdout",
     "output_type": "stream",
     "text": [
      "m\n"
     ]
    }
   ],
   "source": [
    "L=['Amit','Sumit','Ravi']\n",
    "print(L[0][1])"
   ]
  },
  {
   "cell_type": "code",
   "execution_count": 13,
   "id": "4014554d-2f77-4af0-b722-db093c9df5a9",
   "metadata": {},
   "outputs": [
    {
     "name": "stdout",
     "output_type": "stream",
     "text": [
      "[23, 45, 65, 'Monitor', 32, 3]\n"
     ]
    }
   ],
   "source": [
    "L=[23,45,65,32,3]\n",
    "L.insert(L[4],'Monitor') # L[4]--3 \n",
    "print(L)"
   ]
  },
  {
   "cell_type": "code",
   "execution_count": 14,
   "id": "39a7b87b-872a-4bfb-883c-f47b59cad9c3",
   "metadata": {},
   "outputs": [],
   "source": [
    "# List membership\n",
    "list1=['one','two','three','four','five','six','seven','eight']"
   ]
  },
  {
   "cell_type": "code",
   "execution_count": 15,
   "id": "e9dcfea9-2b6d-4536-8be0-3d5fca53e870",
   "metadata": {},
   "outputs": [
    {
     "data": {
      "text/plain": [
       "True"
      ]
     },
     "execution_count": 15,
     "metadata": {},
     "output_type": "execute_result"
    }
   ],
   "source": [
    "'one' in list1"
   ]
  },
  {
   "cell_type": "code",
   "execution_count": 16,
   "id": "b79c0f6f-f770-43e6-984f-4963c85f6ef5",
   "metadata": {},
   "outputs": [
    {
     "data": {
      "text/plain": [
       "False"
      ]
     },
     "execution_count": 16,
     "metadata": {},
     "output_type": "execute_result"
    }
   ],
   "source": [
    "'ten' in list1"
   ]
  },
  {
   "cell_type": "code",
   "execution_count": 17,
   "id": "a0d95265-0717-45b5-9d45-6a481ed51a1f",
   "metadata": {},
   "outputs": [
    {
     "data": {
      "text/plain": [
       "True"
      ]
     },
     "execution_count": 17,
     "metadata": {},
     "output_type": "execute_result"
    }
   ],
   "source": [
    "'ten' not in list1"
   ]
  },
  {
   "cell_type": "code",
   "execution_count": 18,
   "id": "185e8f69-ec3f-42b8-a5dc-b78cadf7e60a",
   "metadata": {},
   "outputs": [
    {
     "data": {
      "text/plain": [
       "[99, 88, 34, 12, 9, 5, 2]"
      ]
     },
     "execution_count": 18,
     "metadata": {},
     "output_type": "execute_result"
    }
   ],
   "source": [
    "ls2=[9,5,2,99,12,88,34]\n",
    "ls2.sort(reverse=True)\n",
    "ls2"
   ]
  },
  {
   "cell_type": "code",
   "execution_count": 19,
   "id": "62998e45-2282-4935-a6ee-40559f5138ea",
   "metadata": {},
   "outputs": [
    {
     "data": {
      "text/plain": [
       "[11, 21, 33, 65, 88, 98]"
      ]
     },
     "execution_count": 19,
     "metadata": {},
     "output_type": "execute_result"
    }
   ],
   "source": [
    "ls3=[88,65,33,21,11,98]\n",
    "sorted(ls3) # returns a new sorted list and doesnot change original list"
   ]
  },
  {
   "cell_type": "code",
   "execution_count": 20,
   "id": "868e17b7-91b6-4d5d-ab72-634fbdb8f287",
   "metadata": {},
   "outputs": [
    {
     "data": {
      "text/plain": [
       "[88, 65, 33, 21, 11, 98]"
      ]
     },
     "execution_count": 20,
     "metadata": {},
     "output_type": "execute_result"
    }
   ],
   "source": [
    "ls3"
   ]
  },
  {
   "cell_type": "code",
   "execution_count": 21,
   "id": "2d1fc397-037a-491e-9b23-a73c704aeac7",
   "metadata": {},
   "outputs": [
    {
     "data": {
      "text/plain": [
       "False"
      ]
     },
     "execution_count": 21,
     "metadata": {},
     "output_type": "execute_result"
    }
   ],
   "source": [
    "# All/Any \n",
    "# all() --- all elements are non zero than true otherwise false\n",
    "L1=[1,2,3,4,0]\n",
    "all(L1) # false as 0 exist"
   ]
  },
  {
   "cell_type": "code",
   "execution_count": 22,
   "id": "604716e3-e4b9-4e38-8e11-811a5213045b",
   "metadata": {},
   "outputs": [
    {
     "data": {
      "text/plain": [
       "True"
      ]
     },
     "execution_count": 22,
     "metadata": {},
     "output_type": "execute_result"
    }
   ],
   "source": [
    "L2=[1,2,3,5,4]\n",
    "all(L2)"
   ]
  },
  {
   "cell_type": "code",
   "execution_count": 23,
   "id": "1d09c3b3-2eff-49aa-a980-7b4752da4aea",
   "metadata": {},
   "outputs": [
    {
     "data": {
      "text/plain": [
       "True"
      ]
     },
     "execution_count": 23,
     "metadata": {},
     "output_type": "execute_result"
    }
   ],
   "source": [
    "l3=[1,2,3,4,0]\n",
    "any(l3)"
   ]
  },
  {
   "cell_type": "code",
   "execution_count": 24,
   "id": "435168d0-20f3-4eb6-8069-d509d4926fd0",
   "metadata": {},
   "outputs": [
    {
     "data": {
      "text/plain": [
       "False"
      ]
     },
     "execution_count": 24,
     "metadata": {},
     "output_type": "execute_result"
    }
   ],
   "source": [
    "l4=[0,0,0,0]\n",
    "any(l4)"
   ]
  },
  {
   "cell_type": "code",
   "execution_count": 25,
   "id": "1984bceb-e4c1-4ce3-b40b-1a0341137eb7",
   "metadata": {},
   "outputs": [
    {
     "data": {
      "text/plain": [
       "True"
      ]
     },
     "execution_count": 25,
     "metadata": {},
     "output_type": "execute_result"
    }
   ],
   "source": [
    "l5=[0,0,8,0]\n",
    "any(l5) # even if one is non zero than it gives true"
   ]
  },
  {
   "cell_type": "code",
   "execution_count": 26,
   "id": "1f86fb33-e691-45ae-96e0-24487d5f6292",
   "metadata": {},
   "outputs": [
    {
     "data": {
      "text/plain": [
       "float"
      ]
     },
     "execution_count": 26,
     "metadata": {},
     "output_type": "execute_result"
    }
   ],
   "source": [
    "a=10.\n",
    "type(a)"
   ]
  },
  {
   "cell_type": "code",
   "execution_count": 27,
   "id": "404355c7-8b96-4eb8-98ab-0118ee2bd620",
   "metadata": {},
   "outputs": [],
   "source": [
    "# arithmetic operator question practice"
   ]
  },
  {
   "cell_type": "code",
   "execution_count": 31,
   "id": "59cc5386-c43e-413e-b438-463faff2b8c3",
   "metadata": {},
   "outputs": [
    {
     "name": "stdout",
     "output_type": "stream",
     "text": [
      "addition of 5 and 2 will give:- 7 \n",
      "\n"
     ]
    }
   ],
   "source": [
    "a=5\n",
    "b=2\n",
    "c=a+b\n",
    "print('addition of {} and {} will give:- {} \\n'.format(a,b,c)) # another way to print "
   ]
  },
  {
   "cell_type": "code",
   "execution_count": 32,
   "id": "593683d0-3f11-4fa5-b98b-9693a67145bb",
   "metadata": {},
   "outputs": [
    {
     "name": "stdout",
     "output_type": "stream",
     "text": [
      "subtracting 2 from 5 will give 3\n",
      "\n"
     ]
    }
   ],
   "source": [
    "c=a-b\n",
    "print('subtracting {} from {} will give {}\\n'.format(b,a,c))"
   ]
  },
  {
   "cell_type": "code",
   "execution_count": 34,
   "id": "fc05af4c-f17d-42ed-94d8-05d04121b8ff",
   "metadata": {},
   "outputs": [
    {
     "name": "stdout",
     "output_type": "stream",
     "text": [
      "multiplying of 5 and 2 will give:- 10 \n",
      "\n"
     ]
    }
   ],
   "source": [
    "c=a*b\n",
    "print('multiplying of {} and {} will give:- {} \\n'.format(a,b,c))"
   ]
  },
  {
   "cell_type": "code",
   "execution_count": 38,
   "id": "88512d01-d3a8-4550-a2dc-0231316cd60c",
   "metadata": {},
   "outputs": [
    {
     "name": "stdout",
     "output_type": "stream",
     "text": [
      "dividing of 5 by 2 will give:- 2.5 \n",
      "\n"
     ]
    }
   ],
   "source": [
    "c=a/b\n",
    "print('dividing of {} by {} will give:- {} \\n'.format(a,b,c))"
   ]
  },
  {
   "cell_type": "code",
   "execution_count": 37,
   "id": "3eb8bc23-9b91-41c0-8ba0-e75c8b6f46b0",
   "metadata": {},
   "outputs": [
    {
     "name": "stdout",
     "output_type": "stream",
     "text": [
      "floor dividing of 5 by 2 will give:- 2 \n",
      "\n"
     ]
    }
   ],
   "source": [
    "c=a//b\n",
    "print('floor dividing of {} by {} will give:- {} \\n'.format(a,b,c))"
   ]
  },
  {
   "cell_type": "code",
   "execution_count": 39,
   "id": "3f53c619-c020-43c7-8589-6e19378c8ce5",
   "metadata": {},
   "outputs": [
    {
     "name": "stdout",
     "output_type": "stream",
     "text": [
      "5 raised to 2 will give:- 25 \n",
      "\n"
     ]
    }
   ],
   "source": [
    "c=a**b\n",
    "print('{} raised to {} will give:- {} \\n'.format(a,b,c))"
   ]
  },
  {
   "cell_type": "code",
   "execution_count": 40,
   "id": "2272c8ba-8d2c-41be-ad0e-ba2133b18a6f",
   "metadata": {},
   "outputs": [
    {
     "name": "stdout",
     "output_type": "stream",
     "text": [
      "Modulo of 5, 2 will give:- 1 \n",
      "\n"
     ]
    }
   ],
   "source": [
    "c=a%b\n",
    "print('Modulo of {}, {} will give:- {} \\n'.format(a,b,c))"
   ]
  }
 ],
 "metadata": {
  "kernelspec": {
   "display_name": "Python 3 (ipykernel)",
   "language": "python",
   "name": "python3"
  },
  "language_info": {
   "codemirror_mode": {
    "name": "ipython",
    "version": 3
   },
   "file_extension": ".py",
   "mimetype": "text/x-python",
   "name": "python",
   "nbconvert_exporter": "python",
   "pygments_lexer": "ipython3",
   "version": "3.11.7"
  }
 },
 "nbformat": 4,
 "nbformat_minor": 5
}
